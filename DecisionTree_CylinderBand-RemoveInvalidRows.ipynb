{
 "cells": [
  {
   "cell_type": "code",
   "execution_count": 1,
   "metadata": {},
   "outputs": [],
   "source": [
    "#import general libraries\n",
    "import pandas as pd\n",
    "import numpy as np\n",
    "import matplotlib.pyplot as plt\n",
    "import seaborn as sns"
   ]
  },
  {
   "cell_type": "code",
   "execution_count": 2,
   "metadata": {},
   "outputs": [],
   "source": [
    "#import dataset\n",
    "df = pd.read_csv('C:\\\\Users\\\\Lenovo\\\\MachineLearningModels\\\\bands.csv',header = None)"
   ]
  },
  {
   "cell_type": "code",
   "execution_count": 3,
   "metadata": {},
   "outputs": [
    {
     "data": {
      "text/plain": [
       "(541, 40)"
      ]
     },
     "execution_count": 3,
     "metadata": {},
     "output_type": "execute_result"
    }
   ],
   "source": [
    "#check the size of the dataset\n",
    "df.shape"
   ]
  },
  {
   "cell_type": "code",
   "execution_count": 4,
   "metadata": {},
   "outputs": [
    {
     "data": {
      "text/html": [
       "<div>\n",
       "<style scoped>\n",
       "    .dataframe tbody tr th:only-of-type {\n",
       "        vertical-align: middle;\n",
       "    }\n",
       "\n",
       "    .dataframe tbody tr th {\n",
       "        vertical-align: top;\n",
       "    }\n",
       "\n",
       "    .dataframe thead th {\n",
       "        text-align: right;\n",
       "    }\n",
       "</style>\n",
       "<table border=\"1\" class=\"dataframe\">\n",
       "  <thead>\n",
       "    <tr style=\"text-align: right;\">\n",
       "      <th></th>\n",
       "      <th>0</th>\n",
       "      <th>1</th>\n",
       "      <th>2</th>\n",
       "      <th>3</th>\n",
       "      <th>4</th>\n",
       "      <th>5</th>\n",
       "      <th>6</th>\n",
       "      <th>7</th>\n",
       "      <th>8</th>\n",
       "      <th>9</th>\n",
       "      <th>...</th>\n",
       "      <th>30</th>\n",
       "      <th>31</th>\n",
       "      <th>32</th>\n",
       "      <th>33</th>\n",
       "      <th>34</th>\n",
       "      <th>35</th>\n",
       "      <th>36</th>\n",
       "      <th>37</th>\n",
       "      <th>38</th>\n",
       "      <th>39</th>\n",
       "    </tr>\n",
       "  </thead>\n",
       "  <tbody>\n",
       "    <tr>\n",
       "      <th>0</th>\n",
       "      <td>19910108</td>\n",
       "      <td>X126</td>\n",
       "      <td>TVGUIDE</td>\n",
       "      <td>25503</td>\n",
       "      <td>YES</td>\n",
       "      <td>KEY</td>\n",
       "      <td>YES</td>\n",
       "      <td>BENTON</td>\n",
       "      <td>GALLATIN</td>\n",
       "      <td>UNCOATED</td>\n",
       "      <td>...</td>\n",
       "      <td>36.4</td>\n",
       "      <td>0</td>\n",
       "      <td>0</td>\n",
       "      <td>2.5</td>\n",
       "      <td>1</td>\n",
       "      <td>34</td>\n",
       "      <td>40</td>\n",
       "      <td>105</td>\n",
       "      <td>100</td>\n",
       "      <td>band</td>\n",
       "    </tr>\n",
       "    <tr>\n",
       "      <th>1</th>\n",
       "      <td>19910109</td>\n",
       "      <td>X266</td>\n",
       "      <td>TVGUIDE</td>\n",
       "      <td>25503</td>\n",
       "      <td>YES</td>\n",
       "      <td>KEY</td>\n",
       "      <td>YES</td>\n",
       "      <td>BENTON</td>\n",
       "      <td>GALLATIN</td>\n",
       "      <td>UNCOATED</td>\n",
       "      <td>...</td>\n",
       "      <td>38.5</td>\n",
       "      <td>0</td>\n",
       "      <td>0</td>\n",
       "      <td>2.5</td>\n",
       "      <td>0.7</td>\n",
       "      <td>34</td>\n",
       "      <td>40</td>\n",
       "      <td>105</td>\n",
       "      <td>100</td>\n",
       "      <td>noband</td>\n",
       "    </tr>\n",
       "    <tr>\n",
       "      <th>2</th>\n",
       "      <td>19910104</td>\n",
       "      <td>B7</td>\n",
       "      <td>MODMAT</td>\n",
       "      <td>47201</td>\n",
       "      <td>YES</td>\n",
       "      <td>KEY</td>\n",
       "      <td>YES</td>\n",
       "      <td>BENTON</td>\n",
       "      <td>GALLATIN</td>\n",
       "      <td>UNCOATED</td>\n",
       "      <td>...</td>\n",
       "      <td>39.8</td>\n",
       "      <td>0</td>\n",
       "      <td>0</td>\n",
       "      <td>2.8</td>\n",
       "      <td>0.9</td>\n",
       "      <td>40</td>\n",
       "      <td>40</td>\n",
       "      <td>103.87</td>\n",
       "      <td>100</td>\n",
       "      <td>noband</td>\n",
       "    </tr>\n",
       "    <tr>\n",
       "      <th>3</th>\n",
       "      <td>19910104</td>\n",
       "      <td>T133</td>\n",
       "      <td>MASSEY</td>\n",
       "      <td>39039</td>\n",
       "      <td>YES</td>\n",
       "      <td>KEY</td>\n",
       "      <td>YES</td>\n",
       "      <td>BENTON</td>\n",
       "      <td>GALLATIN</td>\n",
       "      <td>UNCOATED</td>\n",
       "      <td>...</td>\n",
       "      <td>38.8</td>\n",
       "      <td>0</td>\n",
       "      <td>0</td>\n",
       "      <td>2.5</td>\n",
       "      <td>1.3</td>\n",
       "      <td>40</td>\n",
       "      <td>40</td>\n",
       "      <td>108.06</td>\n",
       "      <td>100</td>\n",
       "      <td>noband</td>\n",
       "    </tr>\n",
       "    <tr>\n",
       "      <th>4</th>\n",
       "      <td>19910111</td>\n",
       "      <td>J34</td>\n",
       "      <td>KMART</td>\n",
       "      <td>37351</td>\n",
       "      <td>NO</td>\n",
       "      <td>KEY</td>\n",
       "      <td>YES</td>\n",
       "      <td>BENTON</td>\n",
       "      <td>GALLATIN</td>\n",
       "      <td>UNCOATED</td>\n",
       "      <td>...</td>\n",
       "      <td>42.5</td>\n",
       "      <td>5</td>\n",
       "      <td>0</td>\n",
       "      <td>2.3</td>\n",
       "      <td>0.6</td>\n",
       "      <td>35</td>\n",
       "      <td>40</td>\n",
       "      <td>106.67</td>\n",
       "      <td>100</td>\n",
       "      <td>noband</td>\n",
       "    </tr>\n",
       "  </tbody>\n",
       "</table>\n",
       "<p>5 rows × 40 columns</p>\n",
       "</div>"
      ],
      "text/plain": [
       "         0     1        2      3    4    5    6       7         8         9   \\\n",
       "0  19910108  X126  TVGUIDE  25503  YES  KEY  YES  BENTON  GALLATIN  UNCOATED   \n",
       "1  19910109  X266  TVGUIDE  25503  YES  KEY  YES  BENTON  GALLATIN  UNCOATED   \n",
       "2  19910104    B7   MODMAT  47201  YES  KEY  YES  BENTON  GALLATIN  UNCOATED   \n",
       "3  19910104  T133   MASSEY  39039  YES  KEY  YES  BENTON  GALLATIN  UNCOATED   \n",
       "4  19910111   J34    KMART  37351   NO  KEY  YES  BENTON  GALLATIN  UNCOATED   \n",
       "\n",
       "   ...    30 31 32   33   34  35  36      37   38      39  \n",
       "0  ...  36.4  0  0  2.5    1  34  40     105  100    band  \n",
       "1  ...  38.5  0  0  2.5  0.7  34  40     105  100  noband  \n",
       "2  ...  39.8  0  0  2.8  0.9  40  40  103.87  100  noband  \n",
       "3  ...  38.8  0  0  2.5  1.3  40  40  108.06  100  noband  \n",
       "4  ...  42.5  5  0  2.3  0.6  35  40  106.67  100  noband  \n",
       "\n",
       "[5 rows x 40 columns]"
      ]
     },
     "execution_count": 4,
     "metadata": {},
     "output_type": "execute_result"
    }
   ],
   "source": [
    "#view sample data\n",
    "df.head()"
   ]
  },
  {
   "cell_type": "code",
   "execution_count": 5,
   "metadata": {},
   "outputs": [
    {
     "data": {
      "text/plain": [
       "Index(['timestamp', 'cylinder_number', 'customer', 'job_number',\n",
       "       'grain_screened', 'ink_color', 'proof_on_ctd_ink', 'blade_mfg',\n",
       "       'cylinder_division', 'paper_type', 'ink_type', 'direct_steam',\n",
       "       'solvent_type', 'type_on_cylinder', 'press_type', 'press',\n",
       "       'unit_number', 'cylinder_size', 'paper_mill_location', 'plating_tank',\n",
       "       'proof_cut', 'viscosity', 'caliper', 'ink_temperature', 'humifity',\n",
       "       'roughness', 'blade_pressure', 'varnish_pct', 'press_speed', 'ink_pct',\n",
       "       'solvent_pct', 'ESA_Voltage', 'ESA_Amperage', 'wax', 'hardener',\n",
       "       'roller_durometer', 'current_density', 'anode_space_ratio',\n",
       "       'chrome_content', 'band_type'],\n",
       "      dtype='object')"
      ]
     },
     "execution_count": 5,
     "metadata": {},
     "output_type": "execute_result"
    }
   ],
   "source": [
    "#supliment column names\n",
    "col_names = ['timestamp','cylinder_number','customer','job_number','grain_screened',\n",
    "            'ink_color','proof_on_ctd_ink','blade_mfg','cylinder_division','paper_type',\n",
    "            'ink_type', 'direct_steam', 'solvent_type', 'type_on_cylinder', 'press_type',\n",
    "            'press','unit_number','cylinder_size','paper_mill_location','plating_tank',\n",
    "            'proof_cut','viscosity','caliper','ink_temperature','humifity','roughness',\n",
    "            'blade_pressure','varnish_pct','press_speed','ink_pct','solvent_pct',\n",
    "            'ESA_Voltage','ESA_Amperage','wax','hardener','roller_durometer','current_density',\n",
    "            'anode_space_ratio','chrome_content','band_type']\n",
    "df.columns = col_names\n",
    "df.columns"
   ]
  },
  {
   "cell_type": "code",
   "execution_count": 6,
   "metadata": {},
   "outputs": [
    {
     "name": "stdout",
     "output_type": "stream",
     "text": [
      "<class 'pandas.core.frame.DataFrame'>\n",
      "RangeIndex: 541 entries, 0 to 540\n",
      "Data columns (total 40 columns):\n",
      " #   Column               Non-Null Count  Dtype  \n",
      "---  ------               --------------  -----  \n",
      " 0   timestamp            541 non-null    int64  \n",
      " 1   cylinder_number      541 non-null    object \n",
      " 2   customer             541 non-null    object \n",
      " 3   job_number           541 non-null    object \n",
      " 4   grain_screened       541 non-null    object \n",
      " 5   ink_color            541 non-null    object \n",
      " 6   proof_on_ctd_ink     541 non-null    object \n",
      " 7   blade_mfg            541 non-null    object \n",
      " 8   cylinder_division    541 non-null    object \n",
      " 9   paper_type           541 non-null    object \n",
      " 10  ink_type             541 non-null    object \n",
      " 11  direct_steam         541 non-null    object \n",
      " 12  solvent_type         541 non-null    object \n",
      " 13  type_on_cylinder     541 non-null    object \n",
      " 14  press_type           541 non-null    object \n",
      " 15  press                541 non-null    object \n",
      " 16  unit_number          541 non-null    float64\n",
      " 17  cylinder_size        540 non-null    object \n",
      " 18  paper_mill_location  540 non-null    object \n",
      " 19  plating_tank         540 non-null    object \n",
      " 20  proof_cut            540 non-null    object \n",
      " 21  viscosity            540 non-null    object \n",
      " 22  caliper              540 non-null    object \n",
      " 23  ink_temperature      539 non-null    object \n",
      " 24  humifity             539 non-null    object \n",
      " 25  roughness            539 non-null    object \n",
      " 26  blade_pressure       539 non-null    object \n",
      " 27  varnish_pct          539 non-null    object \n",
      " 28  press_speed          539 non-null    object \n",
      " 29  ink_pct              539 non-null    object \n",
      " 30  solvent_pct          539 non-null    object \n",
      " 31  ESA_Voltage          539 non-null    object \n",
      " 32  ESA_Amperage         539 non-null    object \n",
      " 33  wax                  539 non-null    object \n",
      " 34  hardener             539 non-null    object \n",
      " 35  roller_durometer     539 non-null    object \n",
      " 36  current_density      539 non-null    object \n",
      " 37  anode_space_ratio    539 non-null    object \n",
      " 38  chrome_content       539 non-null    object \n",
      " 39  band_type            539 non-null    object \n",
      "dtypes: float64(1), int64(1), object(38)\n",
      "memory usage: 169.2+ KB\n"
     ]
    }
   ],
   "source": [
    "#check the data type of the variables\n",
    "df.info()"
   ]
  },
  {
   "cell_type": "code",
   "execution_count": 7,
   "metadata": {},
   "outputs": [
    {
     "data": {
      "text/plain": [
       "0      band\n",
       "1    noband\n",
       "2    noband\n",
       "3    noband\n",
       "4    noband\n",
       "Name: band_type, dtype: object"
      ]
     },
     "execution_count": 7,
     "metadata": {},
     "output_type": "execute_result"
    }
   ],
   "source": [
    "#except Unit_number all other columns are read as object\n",
    "#convert some of them to integer\n",
    "#check individual column values \n",
    "df['band_type'].head()"
   ]
  },
  {
   "cell_type": "code",
   "execution_count": 8,
   "metadata": {},
   "outputs": [],
   "source": [
    "num_col = ['timestamp','job_number','press','plating_tank','proof_cut','viscosity','caliper','ink_temperature','humifity',\n",
    "          'roughness','blade_pressure','varnish_pct','press_speed','ink_pct','solvent_pct','ESA_Voltage','ESA_Amperage',\n",
    "          'wax','hardener','roller_durometer','current_density','anode_space_ratio','chrome_content']"
   ]
  },
  {
   "cell_type": "code",
   "execution_count": 9,
   "metadata": {},
   "outputs": [],
   "source": [
    "for col in col_names:\n",
    "    df[col].replace('?',np.nan,inplace=True)"
   ]
  },
  {
   "cell_type": "code",
   "execution_count": 10,
   "metadata": {},
   "outputs": [],
   "source": [
    "for col in num_col:\n",
    "    df[col].replace('band',np.nan,inplace=True)"
   ]
  },
  {
   "cell_type": "code",
   "execution_count": 11,
   "metadata": {},
   "outputs": [
    {
     "data": {
      "text/html": [
       "<div>\n",
       "<style scoped>\n",
       "    .dataframe tbody tr th:only-of-type {\n",
       "        vertical-align: middle;\n",
       "    }\n",
       "\n",
       "    .dataframe tbody tr th {\n",
       "        vertical-align: top;\n",
       "    }\n",
       "\n",
       "    .dataframe thead th {\n",
       "        text-align: right;\n",
       "    }\n",
       "</style>\n",
       "<table border=\"1\" class=\"dataframe\">\n",
       "  <thead>\n",
       "    <tr style=\"text-align: right;\">\n",
       "      <th></th>\n",
       "      <th>timestamp</th>\n",
       "      <th>cylinder_number</th>\n",
       "      <th>customer</th>\n",
       "      <th>job_number</th>\n",
       "      <th>grain_screened</th>\n",
       "      <th>ink_color</th>\n",
       "      <th>proof_on_ctd_ink</th>\n",
       "      <th>blade_mfg</th>\n",
       "      <th>cylinder_division</th>\n",
       "      <th>paper_type</th>\n",
       "      <th>...</th>\n",
       "      <th>solvent_pct</th>\n",
       "      <th>ESA_Voltage</th>\n",
       "      <th>ESA_Amperage</th>\n",
       "      <th>wax</th>\n",
       "      <th>hardener</th>\n",
       "      <th>roller_durometer</th>\n",
       "      <th>current_density</th>\n",
       "      <th>anode_space_ratio</th>\n",
       "      <th>chrome_content</th>\n",
       "      <th>band_type</th>\n",
       "    </tr>\n",
       "  </thead>\n",
       "  <tbody>\n",
       "    <tr>\n",
       "      <th>0</th>\n",
       "      <td>19910108</td>\n",
       "      <td>X126</td>\n",
       "      <td>TVGUIDE</td>\n",
       "      <td>25503</td>\n",
       "      <td>YES</td>\n",
       "      <td>KEY</td>\n",
       "      <td>YES</td>\n",
       "      <td>BENTON</td>\n",
       "      <td>GALLATIN</td>\n",
       "      <td>UNCOATED</td>\n",
       "      <td>...</td>\n",
       "      <td>36.4</td>\n",
       "      <td>0</td>\n",
       "      <td>0</td>\n",
       "      <td>2.5</td>\n",
       "      <td>1</td>\n",
       "      <td>34</td>\n",
       "      <td>40</td>\n",
       "      <td>105</td>\n",
       "      <td>100</td>\n",
       "      <td>band</td>\n",
       "    </tr>\n",
       "    <tr>\n",
       "      <th>1</th>\n",
       "      <td>19910109</td>\n",
       "      <td>X266</td>\n",
       "      <td>TVGUIDE</td>\n",
       "      <td>25503</td>\n",
       "      <td>YES</td>\n",
       "      <td>KEY</td>\n",
       "      <td>YES</td>\n",
       "      <td>BENTON</td>\n",
       "      <td>GALLATIN</td>\n",
       "      <td>UNCOATED</td>\n",
       "      <td>...</td>\n",
       "      <td>38.5</td>\n",
       "      <td>0</td>\n",
       "      <td>0</td>\n",
       "      <td>2.5</td>\n",
       "      <td>0.7</td>\n",
       "      <td>34</td>\n",
       "      <td>40</td>\n",
       "      <td>105</td>\n",
       "      <td>100</td>\n",
       "      <td>noband</td>\n",
       "    </tr>\n",
       "    <tr>\n",
       "      <th>2</th>\n",
       "      <td>19910104</td>\n",
       "      <td>B7</td>\n",
       "      <td>MODMAT</td>\n",
       "      <td>47201</td>\n",
       "      <td>YES</td>\n",
       "      <td>KEY</td>\n",
       "      <td>YES</td>\n",
       "      <td>BENTON</td>\n",
       "      <td>GALLATIN</td>\n",
       "      <td>UNCOATED</td>\n",
       "      <td>...</td>\n",
       "      <td>39.8</td>\n",
       "      <td>0</td>\n",
       "      <td>0</td>\n",
       "      <td>2.8</td>\n",
       "      <td>0.9</td>\n",
       "      <td>40</td>\n",
       "      <td>40</td>\n",
       "      <td>103.87</td>\n",
       "      <td>100</td>\n",
       "      <td>noband</td>\n",
       "    </tr>\n",
       "    <tr>\n",
       "      <th>3</th>\n",
       "      <td>19910104</td>\n",
       "      <td>T133</td>\n",
       "      <td>MASSEY</td>\n",
       "      <td>39039</td>\n",
       "      <td>YES</td>\n",
       "      <td>KEY</td>\n",
       "      <td>YES</td>\n",
       "      <td>BENTON</td>\n",
       "      <td>GALLATIN</td>\n",
       "      <td>UNCOATED</td>\n",
       "      <td>...</td>\n",
       "      <td>38.8</td>\n",
       "      <td>0</td>\n",
       "      <td>0</td>\n",
       "      <td>2.5</td>\n",
       "      <td>1.3</td>\n",
       "      <td>40</td>\n",
       "      <td>40</td>\n",
       "      <td>108.06</td>\n",
       "      <td>100</td>\n",
       "      <td>noband</td>\n",
       "    </tr>\n",
       "    <tr>\n",
       "      <th>4</th>\n",
       "      <td>19910111</td>\n",
       "      <td>J34</td>\n",
       "      <td>KMART</td>\n",
       "      <td>37351</td>\n",
       "      <td>NO</td>\n",
       "      <td>KEY</td>\n",
       "      <td>YES</td>\n",
       "      <td>BENTON</td>\n",
       "      <td>GALLATIN</td>\n",
       "      <td>UNCOATED</td>\n",
       "      <td>...</td>\n",
       "      <td>42.5</td>\n",
       "      <td>5</td>\n",
       "      <td>0</td>\n",
       "      <td>2.3</td>\n",
       "      <td>0.6</td>\n",
       "      <td>35</td>\n",
       "      <td>40</td>\n",
       "      <td>106.67</td>\n",
       "      <td>100</td>\n",
       "      <td>noband</td>\n",
       "    </tr>\n",
       "  </tbody>\n",
       "</table>\n",
       "<p>5 rows × 40 columns</p>\n",
       "</div>"
      ],
      "text/plain": [
       "   timestamp cylinder_number customer job_number grain_screened ink_color  \\\n",
       "0   19910108            X126  TVGUIDE      25503            YES       KEY   \n",
       "1   19910109            X266  TVGUIDE      25503            YES       KEY   \n",
       "2   19910104              B7   MODMAT      47201            YES       KEY   \n",
       "3   19910104            T133   MASSEY      39039            YES       KEY   \n",
       "4   19910111             J34    KMART      37351             NO       KEY   \n",
       "\n",
       "  proof_on_ctd_ink blade_mfg cylinder_division paper_type  ... solvent_pct  \\\n",
       "0              YES    BENTON          GALLATIN   UNCOATED  ...        36.4   \n",
       "1              YES    BENTON          GALLATIN   UNCOATED  ...        38.5   \n",
       "2              YES    BENTON          GALLATIN   UNCOATED  ...        39.8   \n",
       "3              YES    BENTON          GALLATIN   UNCOATED  ...        38.8   \n",
       "4              YES    BENTON          GALLATIN   UNCOATED  ...        42.5   \n",
       "\n",
       "  ESA_Voltage ESA_Amperage  wax hardener roller_durometer  current_density  \\\n",
       "0           0            0  2.5        1               34               40   \n",
       "1           0            0  2.5      0.7               34               40   \n",
       "2           0            0  2.8      0.9               40               40   \n",
       "3           0            0  2.5      1.3               40               40   \n",
       "4           5            0  2.3      0.6               35               40   \n",
       "\n",
       "  anode_space_ratio chrome_content band_type  \n",
       "0               105            100      band  \n",
       "1               105            100    noband  \n",
       "2            103.87            100    noband  \n",
       "3            108.06            100    noband  \n",
       "4            106.67            100    noband  \n",
       "\n",
       "[5 rows x 40 columns]"
      ]
     },
     "execution_count": 11,
     "metadata": {},
     "output_type": "execute_result"
    }
   ],
   "source": [
    "df.head()"
   ]
  },
  {
   "cell_type": "code",
   "execution_count": 12,
   "metadata": {},
   "outputs": [
    {
     "data": {
      "text/html": [
       "<div>\n",
       "<style scoped>\n",
       "    .dataframe tbody tr th:only-of-type {\n",
       "        vertical-align: middle;\n",
       "    }\n",
       "\n",
       "    .dataframe tbody tr th {\n",
       "        vertical-align: top;\n",
       "    }\n",
       "\n",
       "    .dataframe thead th {\n",
       "        text-align: right;\n",
       "    }\n",
       "</style>\n",
       "<table border=\"1\" class=\"dataframe\">\n",
       "  <thead>\n",
       "    <tr style=\"text-align: right;\">\n",
       "      <th></th>\n",
       "      <th>timestamp</th>\n",
       "      <th>cylinder_number</th>\n",
       "      <th>customer</th>\n",
       "      <th>job_number</th>\n",
       "      <th>grain_screened</th>\n",
       "      <th>ink_color</th>\n",
       "      <th>proof_on_ctd_ink</th>\n",
       "      <th>blade_mfg</th>\n",
       "      <th>cylinder_division</th>\n",
       "      <th>paper_type</th>\n",
       "      <th>...</th>\n",
       "      <th>solvent_pct</th>\n",
       "      <th>ESA_Voltage</th>\n",
       "      <th>ESA_Amperage</th>\n",
       "      <th>wax</th>\n",
       "      <th>hardener</th>\n",
       "      <th>roller_durometer</th>\n",
       "      <th>current_density</th>\n",
       "      <th>anode_space_ratio</th>\n",
       "      <th>chrome_content</th>\n",
       "      <th>band_type</th>\n",
       "    </tr>\n",
       "  </thead>\n",
       "  <tbody>\n",
       "    <tr>\n",
       "      <th>1</th>\n",
       "      <td>19910109</td>\n",
       "      <td>X266</td>\n",
       "      <td>TVGUIDE</td>\n",
       "      <td>25503</td>\n",
       "      <td>YES</td>\n",
       "      <td>KEY</td>\n",
       "      <td>YES</td>\n",
       "      <td>BENTON</td>\n",
       "      <td>GALLATIN</td>\n",
       "      <td>UNCOATED</td>\n",
       "      <td>...</td>\n",
       "      <td>38.5</td>\n",
       "      <td>0</td>\n",
       "      <td>0</td>\n",
       "      <td>2.5</td>\n",
       "      <td>0.7</td>\n",
       "      <td>34</td>\n",
       "      <td>40</td>\n",
       "      <td>105</td>\n",
       "      <td>100</td>\n",
       "      <td>noband</td>\n",
       "    </tr>\n",
       "    <tr>\n",
       "      <th>2</th>\n",
       "      <td>19910104</td>\n",
       "      <td>B7</td>\n",
       "      <td>MODMAT</td>\n",
       "      <td>47201</td>\n",
       "      <td>YES</td>\n",
       "      <td>KEY</td>\n",
       "      <td>YES</td>\n",
       "      <td>BENTON</td>\n",
       "      <td>GALLATIN</td>\n",
       "      <td>UNCOATED</td>\n",
       "      <td>...</td>\n",
       "      <td>39.8</td>\n",
       "      <td>0</td>\n",
       "      <td>0</td>\n",
       "      <td>2.8</td>\n",
       "      <td>0.9</td>\n",
       "      <td>40</td>\n",
       "      <td>40</td>\n",
       "      <td>103.87</td>\n",
       "      <td>100</td>\n",
       "      <td>noband</td>\n",
       "    </tr>\n",
       "    <tr>\n",
       "      <th>4</th>\n",
       "      <td>19910111</td>\n",
       "      <td>J34</td>\n",
       "      <td>KMART</td>\n",
       "      <td>37351</td>\n",
       "      <td>NO</td>\n",
       "      <td>KEY</td>\n",
       "      <td>YES</td>\n",
       "      <td>BENTON</td>\n",
       "      <td>GALLATIN</td>\n",
       "      <td>UNCOATED</td>\n",
       "      <td>...</td>\n",
       "      <td>42.5</td>\n",
       "      <td>5</td>\n",
       "      <td>0</td>\n",
       "      <td>2.3</td>\n",
       "      <td>0.6</td>\n",
       "      <td>35</td>\n",
       "      <td>40</td>\n",
       "      <td>106.67</td>\n",
       "      <td>100</td>\n",
       "      <td>noband</td>\n",
       "    </tr>\n",
       "    <tr>\n",
       "      <th>15</th>\n",
       "      <td>19910103</td>\n",
       "      <td>F108</td>\n",
       "      <td>MODMAT</td>\n",
       "      <td>47201</td>\n",
       "      <td>NaN</td>\n",
       "      <td>KEY</td>\n",
       "      <td>YES</td>\n",
       "      <td>BENTON</td>\n",
       "      <td>GALLATIN</td>\n",
       "      <td>COATED</td>\n",
       "      <td>...</td>\n",
       "      <td>37.5</td>\n",
       "      <td>0</td>\n",
       "      <td>0</td>\n",
       "      <td>2.5</td>\n",
       "      <td>1</td>\n",
       "      <td>40</td>\n",
       "      <td>40</td>\n",
       "      <td>103.22</td>\n",
       "      <td>100</td>\n",
       "      <td>band</td>\n",
       "    </tr>\n",
       "    <tr>\n",
       "      <th>16</th>\n",
       "      <td>19910129</td>\n",
       "      <td>F237</td>\n",
       "      <td>HOMESHOP</td>\n",
       "      <td>38064</td>\n",
       "      <td>NO</td>\n",
       "      <td>KEY</td>\n",
       "      <td>YES</td>\n",
       "      <td>BENTON</td>\n",
       "      <td>GALLATIN</td>\n",
       "      <td>COATED</td>\n",
       "      <td>...</td>\n",
       "      <td>37.5</td>\n",
       "      <td>0</td>\n",
       "      <td>0</td>\n",
       "      <td>2.5</td>\n",
       "      <td>0.8</td>\n",
       "      <td>33</td>\n",
       "      <td>40</td>\n",
       "      <td>100</td>\n",
       "      <td>100</td>\n",
       "      <td>noband</td>\n",
       "    </tr>\n",
       "    <tr>\n",
       "      <th>...</th>\n",
       "      <td>...</td>\n",
       "      <td>...</td>\n",
       "      <td>...</td>\n",
       "      <td>...</td>\n",
       "      <td>...</td>\n",
       "      <td>...</td>\n",
       "      <td>...</td>\n",
       "      <td>...</td>\n",
       "      <td>...</td>\n",
       "      <td>...</td>\n",
       "      <td>...</td>\n",
       "      <td>...</td>\n",
       "      <td>...</td>\n",
       "      <td>...</td>\n",
       "      <td>...</td>\n",
       "      <td>...</td>\n",
       "      <td>...</td>\n",
       "      <td>...</td>\n",
       "      <td>...</td>\n",
       "      <td>...</td>\n",
       "      <td>...</td>\n",
       "    </tr>\n",
       "    <tr>\n",
       "      <th>536</th>\n",
       "      <td>19941005</td>\n",
       "      <td>aa66</td>\n",
       "      <td>kmart</td>\n",
       "      <td>85813</td>\n",
       "      <td>NaN</td>\n",
       "      <td>key</td>\n",
       "      <td>NaN</td>\n",
       "      <td>NaN</td>\n",
       "      <td>gallatin</td>\n",
       "      <td>super</td>\n",
       "      <td>...</td>\n",
       "      <td>NaN</td>\n",
       "      <td>NaN</td>\n",
       "      <td>NaN</td>\n",
       "      <td>1</td>\n",
       "      <td>1</td>\n",
       "      <td>NaN</td>\n",
       "      <td>40</td>\n",
       "      <td>112.5</td>\n",
       "      <td>100</td>\n",
       "      <td>band</td>\n",
       "    </tr>\n",
       "    <tr>\n",
       "      <th>537</th>\n",
       "      <td>19941009</td>\n",
       "      <td>j44</td>\n",
       "      <td>best</td>\n",
       "      <td>38064</td>\n",
       "      <td>NaN</td>\n",
       "      <td>key</td>\n",
       "      <td>NaN</td>\n",
       "      <td>NaN</td>\n",
       "      <td>gallatin</td>\n",
       "      <td>super</td>\n",
       "      <td>...</td>\n",
       "      <td>NaN</td>\n",
       "      <td>NaN</td>\n",
       "      <td>NaN</td>\n",
       "      <td>0</td>\n",
       "      <td>0</td>\n",
       "      <td>NaN</td>\n",
       "      <td>40</td>\n",
       "      <td>110</td>\n",
       "      <td>100</td>\n",
       "      <td>band</td>\n",
       "    </tr>\n",
       "    <tr>\n",
       "      <th>538</th>\n",
       "      <td>19941009</td>\n",
       "      <td>aa58</td>\n",
       "      <td>kmart</td>\n",
       "      <td>85814</td>\n",
       "      <td>NaN</td>\n",
       "      <td>key</td>\n",
       "      <td>NaN</td>\n",
       "      <td>NaN</td>\n",
       "      <td>gallatin</td>\n",
       "      <td>super</td>\n",
       "      <td>...</td>\n",
       "      <td>NaN</td>\n",
       "      <td>NaN</td>\n",
       "      <td>NaN</td>\n",
       "      <td>2.7</td>\n",
       "      <td>2.8</td>\n",
       "      <td>NaN</td>\n",
       "      <td>40</td>\n",
       "      <td>108</td>\n",
       "      <td>100</td>\n",
       "      <td>band</td>\n",
       "    </tr>\n",
       "    <tr>\n",
       "      <th>539</th>\n",
       "      <td>19941010</td>\n",
       "      <td>aa70</td>\n",
       "      <td>kmart</td>\n",
       "      <td>85814</td>\n",
       "      <td>NaN</td>\n",
       "      <td>key</td>\n",
       "      <td>NaN</td>\n",
       "      <td>NaN</td>\n",
       "      <td>gallatin</td>\n",
       "      <td>super</td>\n",
       "      <td>...</td>\n",
       "      <td>NaN</td>\n",
       "      <td>NaN</td>\n",
       "      <td>NaN</td>\n",
       "      <td>1.5</td>\n",
       "      <td>2.3</td>\n",
       "      <td>NaN</td>\n",
       "      <td>40</td>\n",
       "      <td>108</td>\n",
       "      <td>100</td>\n",
       "      <td>band</td>\n",
       "    </tr>\n",
       "    <tr>\n",
       "      <th>540</th>\n",
       "      <td>19941010</td>\n",
       "      <td>j70</td>\n",
       "      <td>best</td>\n",
       "      <td>38064</td>\n",
       "      <td>NaN</td>\n",
       "      <td>key</td>\n",
       "      <td>NaN</td>\n",
       "      <td>NaN</td>\n",
       "      <td>gallatin</td>\n",
       "      <td>super</td>\n",
       "      <td>...</td>\n",
       "      <td>NaN</td>\n",
       "      <td>NaN</td>\n",
       "      <td>NaN</td>\n",
       "      <td>2.5</td>\n",
       "      <td>1</td>\n",
       "      <td>NaN</td>\n",
       "      <td>40</td>\n",
       "      <td>108.1</td>\n",
       "      <td>100</td>\n",
       "      <td>band</td>\n",
       "    </tr>\n",
       "  </tbody>\n",
       "</table>\n",
       "<p>264 rows × 40 columns</p>\n",
       "</div>"
      ],
      "text/plain": [
       "     timestamp cylinder_number  customer job_number grain_screened ink_color  \\\n",
       "1     19910109            X266   TVGUIDE      25503            YES       KEY   \n",
       "2     19910104              B7    MODMAT      47201            YES       KEY   \n",
       "4     19910111             J34     KMART      37351             NO       KEY   \n",
       "15    19910103            F108    MODMAT      47201            NaN       KEY   \n",
       "16    19910129            F237  HOMESHOP      38064             NO       KEY   \n",
       "..         ...             ...       ...        ...            ...       ...   \n",
       "536   19941005            aa66     kmart      85813            NaN       key   \n",
       "537   19941009             j44      best      38064            NaN       key   \n",
       "538   19941009            aa58     kmart      85814            NaN       key   \n",
       "539   19941010            aa70     kmart      85814            NaN       key   \n",
       "540   19941010             j70      best      38064            NaN       key   \n",
       "\n",
       "    proof_on_ctd_ink blade_mfg cylinder_division paper_type  ... solvent_pct  \\\n",
       "1                YES    BENTON          GALLATIN   UNCOATED  ...        38.5   \n",
       "2                YES    BENTON          GALLATIN   UNCOATED  ...        39.8   \n",
       "4                YES    BENTON          GALLATIN   UNCOATED  ...        42.5   \n",
       "15               YES    BENTON          GALLATIN     COATED  ...        37.5   \n",
       "16               YES    BENTON          GALLATIN     COATED  ...        37.5   \n",
       "..               ...       ...               ...        ...  ...         ...   \n",
       "536              NaN       NaN          gallatin      super  ...         NaN   \n",
       "537              NaN       NaN          gallatin      super  ...         NaN   \n",
       "538              NaN       NaN          gallatin      super  ...         NaN   \n",
       "539              NaN       NaN          gallatin      super  ...         NaN   \n",
       "540              NaN       NaN          gallatin      super  ...         NaN   \n",
       "\n",
       "    ESA_Voltage ESA_Amperage  wax hardener roller_durometer  current_density  \\\n",
       "1             0            0  2.5      0.7               34               40   \n",
       "2             0            0  2.8      0.9               40               40   \n",
       "4             5            0  2.3      0.6               35               40   \n",
       "15            0            0  2.5        1               40               40   \n",
       "16            0            0  2.5      0.8               33               40   \n",
       "..          ...          ...  ...      ...              ...              ...   \n",
       "536         NaN          NaN    1        1              NaN               40   \n",
       "537         NaN          NaN    0        0              NaN               40   \n",
       "538         NaN          NaN  2.7      2.8              NaN               40   \n",
       "539         NaN          NaN  1.5      2.3              NaN               40   \n",
       "540         NaN          NaN  2.5        1              NaN               40   \n",
       "\n",
       "    anode_space_ratio chrome_content band_type  \n",
       "1                 105            100    noband  \n",
       "2              103.87            100    noband  \n",
       "4              106.67            100    noband  \n",
       "15             103.22            100      band  \n",
       "16                100            100    noband  \n",
       "..                ...            ...       ...  \n",
       "536             112.5            100      band  \n",
       "537               110            100      band  \n",
       "538               108            100      band  \n",
       "539               108            100      band  \n",
       "540             108.1            100      band  \n",
       "\n",
       "[264 rows x 40 columns]"
      ]
     },
     "execution_count": 12,
     "metadata": {},
     "output_type": "execute_result"
    }
   ],
   "source": [
    "#select all rows in whicn Nan values are present\n",
    "df[df.isnull().any(axis=1)]"
   ]
  },
  {
   "cell_type": "code",
   "execution_count": 13,
   "metadata": {},
   "outputs": [],
   "source": [
    "#remove rows with Nan values\n",
    "df = df.dropna()"
   ]
  },
  {
   "cell_type": "code",
   "execution_count": 14,
   "metadata": {},
   "outputs": [],
   "source": [
    "for col in num_col:\n",
    "    df[col] = df[col].astype(float)"
   ]
  },
  {
   "cell_type": "code",
   "execution_count": 15,
   "metadata": {},
   "outputs": [
    {
     "data": {
      "text/html": [
       "<div>\n",
       "<style scoped>\n",
       "    .dataframe tbody tr th:only-of-type {\n",
       "        vertical-align: middle;\n",
       "    }\n",
       "\n",
       "    .dataframe tbody tr th {\n",
       "        vertical-align: top;\n",
       "    }\n",
       "\n",
       "    .dataframe thead th {\n",
       "        text-align: right;\n",
       "    }\n",
       "</style>\n",
       "<table border=\"1\" class=\"dataframe\">\n",
       "  <thead>\n",
       "    <tr style=\"text-align: right;\">\n",
       "      <th></th>\n",
       "      <th>timestamp</th>\n",
       "      <th>cylinder_number</th>\n",
       "      <th>customer</th>\n",
       "      <th>job_number</th>\n",
       "      <th>grain_screened</th>\n",
       "      <th>ink_color</th>\n",
       "      <th>proof_on_ctd_ink</th>\n",
       "      <th>blade_mfg</th>\n",
       "      <th>cylinder_division</th>\n",
       "      <th>paper_type</th>\n",
       "      <th>...</th>\n",
       "      <th>solvent_pct</th>\n",
       "      <th>ESA_Voltage</th>\n",
       "      <th>ESA_Amperage</th>\n",
       "      <th>wax</th>\n",
       "      <th>hardener</th>\n",
       "      <th>roller_durometer</th>\n",
       "      <th>current_density</th>\n",
       "      <th>anode_space_ratio</th>\n",
       "      <th>chrome_content</th>\n",
       "      <th>band_type</th>\n",
       "    </tr>\n",
       "  </thead>\n",
       "  <tbody>\n",
       "    <tr>\n",
       "      <th>0</th>\n",
       "      <td>19910108.0</td>\n",
       "      <td>X126</td>\n",
       "      <td>TVGUIDE</td>\n",
       "      <td>25503.0</td>\n",
       "      <td>YES</td>\n",
       "      <td>KEY</td>\n",
       "      <td>YES</td>\n",
       "      <td>BENTON</td>\n",
       "      <td>GALLATIN</td>\n",
       "      <td>UNCOATED</td>\n",
       "      <td>...</td>\n",
       "      <td>36.4</td>\n",
       "      <td>0.0</td>\n",
       "      <td>0.0</td>\n",
       "      <td>2.5</td>\n",
       "      <td>1.0</td>\n",
       "      <td>34.0</td>\n",
       "      <td>40.0</td>\n",
       "      <td>105.00</td>\n",
       "      <td>100.0</td>\n",
       "      <td>band</td>\n",
       "    </tr>\n",
       "    <tr>\n",
       "      <th>3</th>\n",
       "      <td>19910104.0</td>\n",
       "      <td>T133</td>\n",
       "      <td>MASSEY</td>\n",
       "      <td>39039.0</td>\n",
       "      <td>YES</td>\n",
       "      <td>KEY</td>\n",
       "      <td>YES</td>\n",
       "      <td>BENTON</td>\n",
       "      <td>GALLATIN</td>\n",
       "      <td>UNCOATED</td>\n",
       "      <td>...</td>\n",
       "      <td>38.8</td>\n",
       "      <td>0.0</td>\n",
       "      <td>0.0</td>\n",
       "      <td>2.5</td>\n",
       "      <td>1.3</td>\n",
       "      <td>40.0</td>\n",
       "      <td>40.0</td>\n",
       "      <td>108.06</td>\n",
       "      <td>100.0</td>\n",
       "      <td>noband</td>\n",
       "    </tr>\n",
       "    <tr>\n",
       "      <th>5</th>\n",
       "      <td>19910104.0</td>\n",
       "      <td>T218</td>\n",
       "      <td>MASSEY</td>\n",
       "      <td>38039.0</td>\n",
       "      <td>YES</td>\n",
       "      <td>KEY</td>\n",
       "      <td>YES</td>\n",
       "      <td>BENTON</td>\n",
       "      <td>GALLATIN</td>\n",
       "      <td>UNCOATED</td>\n",
       "      <td>...</td>\n",
       "      <td>37.6</td>\n",
       "      <td>5.0</td>\n",
       "      <td>0.0</td>\n",
       "      <td>2.5</td>\n",
       "      <td>0.8</td>\n",
       "      <td>40.0</td>\n",
       "      <td>40.0</td>\n",
       "      <td>103.87</td>\n",
       "      <td>100.0</td>\n",
       "      <td>noband</td>\n",
       "    </tr>\n",
       "    <tr>\n",
       "      <th>6</th>\n",
       "      <td>19910111.0</td>\n",
       "      <td>X249</td>\n",
       "      <td>ROSES</td>\n",
       "      <td>35751.0</td>\n",
       "      <td>NO</td>\n",
       "      <td>KEY</td>\n",
       "      <td>YES</td>\n",
       "      <td>BENTON</td>\n",
       "      <td>GALLATIN</td>\n",
       "      <td>COATED</td>\n",
       "      <td>...</td>\n",
       "      <td>37.5</td>\n",
       "      <td>6.0</td>\n",
       "      <td>0.0</td>\n",
       "      <td>2.5</td>\n",
       "      <td>0.6</td>\n",
       "      <td>30.0</td>\n",
       "      <td>40.0</td>\n",
       "      <td>106.67</td>\n",
       "      <td>100.0</td>\n",
       "      <td>noband</td>\n",
       "    </tr>\n",
       "    <tr>\n",
       "      <th>7</th>\n",
       "      <td>19910111.0</td>\n",
       "      <td>X788</td>\n",
       "      <td>ROSES</td>\n",
       "      <td>35751.0</td>\n",
       "      <td>NO</td>\n",
       "      <td>KEY</td>\n",
       "      <td>YES</td>\n",
       "      <td>BENTON</td>\n",
       "      <td>GALLATIN</td>\n",
       "      <td>COATED</td>\n",
       "      <td>...</td>\n",
       "      <td>37.5</td>\n",
       "      <td>6.0</td>\n",
       "      <td>0.0</td>\n",
       "      <td>2.5</td>\n",
       "      <td>1.1</td>\n",
       "      <td>30.0</td>\n",
       "      <td>40.0</td>\n",
       "      <td>106.67</td>\n",
       "      <td>100.0</td>\n",
       "      <td>noband</td>\n",
       "    </tr>\n",
       "  </tbody>\n",
       "</table>\n",
       "<p>5 rows × 40 columns</p>\n",
       "</div>"
      ],
      "text/plain": [
       "    timestamp cylinder_number customer  job_number grain_screened ink_color  \\\n",
       "0  19910108.0            X126  TVGUIDE     25503.0            YES       KEY   \n",
       "3  19910104.0            T133   MASSEY     39039.0            YES       KEY   \n",
       "5  19910104.0            T218   MASSEY     38039.0            YES       KEY   \n",
       "6  19910111.0            X249    ROSES     35751.0             NO       KEY   \n",
       "7  19910111.0            X788    ROSES     35751.0             NO       KEY   \n",
       "\n",
       "  proof_on_ctd_ink blade_mfg cylinder_division paper_type  ... solvent_pct  \\\n",
       "0              YES    BENTON          GALLATIN   UNCOATED  ...        36.4   \n",
       "3              YES    BENTON          GALLATIN   UNCOATED  ...        38.8   \n",
       "5              YES    BENTON          GALLATIN   UNCOATED  ...        37.6   \n",
       "6              YES    BENTON          GALLATIN     COATED  ...        37.5   \n",
       "7              YES    BENTON          GALLATIN     COATED  ...        37.5   \n",
       "\n",
       "  ESA_Voltage ESA_Amperage  wax hardener  roller_durometer  current_density  \\\n",
       "0         0.0          0.0  2.5      1.0              34.0             40.0   \n",
       "3         0.0          0.0  2.5      1.3              40.0             40.0   \n",
       "5         5.0          0.0  2.5      0.8              40.0             40.0   \n",
       "6         6.0          0.0  2.5      0.6              30.0             40.0   \n",
       "7         6.0          0.0  2.5      1.1              30.0             40.0   \n",
       "\n",
       "  anode_space_ratio chrome_content  band_type  \n",
       "0            105.00          100.0       band  \n",
       "3            108.06          100.0     noband  \n",
       "5            103.87          100.0     noband  \n",
       "6            106.67          100.0     noband  \n",
       "7            106.67          100.0     noband  \n",
       "\n",
       "[5 rows x 40 columns]"
      ]
     },
     "execution_count": 15,
     "metadata": {},
     "output_type": "execute_result"
    }
   ],
   "source": [
    "df.head()"
   ]
  },
  {
   "cell_type": "code",
   "execution_count": 16,
   "metadata": {},
   "outputs": [],
   "source": [
    "df.drop(['timestamp'],axis = 1, inplace = True)"
   ]
  },
  {
   "cell_type": "code",
   "execution_count": 17,
   "metadata": {},
   "outputs": [
    {
     "name": "stdout",
     "output_type": "stream",
     "text": [
      "G5      3\n",
      "G150    3\n",
      "G81     3\n",
      "X760    3\n",
      "R6      3\n",
      "       ..\n",
      "F131    1\n",
      "W717    1\n",
      "T380    1\n",
      "X249    1\n",
      "X9      1\n",
      "Name: cylinder_number, Length: 237, dtype: int64\n",
      "KMART           31\n",
      "MODMAT          25\n",
      "TVGUIDE         25\n",
      "TARGET          24\n",
      "WARDS           21\n",
      "TOYSRUS         14\n",
      "AMES            14\n",
      "ROSES           12\n",
      "ECKERD           8\n",
      "MASSEY           6\n",
      "AUSTADS          6\n",
      "SHEPLERS         5\n",
      "HILLS            5\n",
      "REI              5\n",
      "WOOLWORTH        5\n",
      "DOWNS            4\n",
      "BELK             4\n",
      "SEARS            4\n",
      "ECKERDS          3\n",
      "NATLWILDLIFE     3\n",
      "LURIAS           3\n",
      "CHILDCRAFT       3\n",
      "HOMESHOPPING     2\n",
      "CASLIVING        2\n",
      "CASUALLIVING     2\n",
      "HANOVERHSE       2\n",
      "HANOVRHOUS       2\n",
      "USCAV            2\n",
      "ABBEYPRESS       2\n",
      "BESTPROD         2\n",
      "JCP              2\n",
      "HANHOUSE         2\n",
      "DUNNS            2\n",
      "BRENDLS          2\n",
      "CENPURCH         2\n",
      "CHILDWORLD       2\n",
      "JCPENNY          2\n",
      "COLORTILE        2\n",
      "WALMART          2\n",
      "COLORTIL         2\n",
      "GUIDEPOSTS       1\n",
      "JAMESWAY         1\n",
      "BURDINES         1\n",
      "YIELDHOUSE       1\n",
      "GLOBAL           1\n",
      "HANOVERHOUSE     1\n",
      "LAZARUS          1\n",
      "GLOBALEQUP       1\n",
      "HANOVRHOUSE      1\n",
      "BELKS            1\n",
      "EXXON            1\n",
      "Name: customer, dtype: int64\n",
      "47103.0    7\n",
      "36197.0    7\n",
      "37352.0    6\n",
      "37365.0    6\n",
      "47106.0    5\n",
      "          ..\n",
      "25451.0    1\n",
      "34752.0    1\n",
      "23052.0    1\n",
      "25447.0    1\n",
      "35335.0    1\n",
      "Name: job_number, Length: 148, dtype: int64\n",
      "NO     157\n",
      "YES    120\n",
      "Name: grain_screened, dtype: int64\n",
      "KEY    277\n",
      "Name: ink_color, dtype: int64\n",
      "YES    262\n",
      "NO      15\n",
      "Name: proof_on_ctd_ink, dtype: int64\n",
      "BENTON      276\n",
      "UDDEHOLM      1\n",
      "Name: blade_mfg, dtype: int64\n",
      "GALLATIN    277\n",
      "Name: cylinder_division, dtype: int64\n",
      "UNCOATED    164\n",
      "COATED      113\n",
      "Name: paper_type, dtype: int64\n",
      "COATED      144\n",
      "UNCOATED    124\n",
      "COVER         9\n",
      "Name: ink_type, dtype: int64\n",
      "NO     276\n",
      "YES      1\n",
      "Name: direct_steam, dtype: int64\n",
      "LINE      266\n",
      "XYLOL       9\n",
      "NAPTHA      2\n",
      "Name: solvent_type, dtype: int64\n",
      "YES    183\n",
      "NO      94\n",
      "Name: type_on_cylinder, dtype: int64\n",
      "Motter94     134\n",
      "WoodHoe70    102\n",
      "Albert70      40\n",
      "Motter70       1\n",
      "Name: press_type, dtype: int64\n",
      "815.0    58\n",
      "816.0    44\n",
      "827.0    41\n",
      "802.0    40\n",
      "821.0    39\n",
      "824.0    37\n",
      "828.0    17\n",
      "813.0     1\n",
      "Name: press, dtype: int64\n",
      "2.0     129\n",
      "9.0      88\n",
      "7.0      48\n",
      "1.0      11\n",
      "10.0      1\n",
      "Name: unit_number, dtype: int64\n",
      "TABLOID    170\n",
      "CATALOG     77\n",
      "SPIEGEL     30\n",
      "Name: cylinder_size, dtype: int64\n",
      "NorthUS         134\n",
      "CANADIAN        118\n",
      "mideuropean      11\n",
      "SCANDANAVIAN      9\n",
      "SouthUS           4\n",
      "CANAdiAN          1\n",
      "Name: paper_mill_location, dtype: int64\n",
      "1910.0    181\n",
      "1911.0     96\n",
      "Name: plating_tank, dtype: int64\n"
     ]
    },
    {
     "ename": "KeyError",
     "evalue": "'proof cut'",
     "output_type": "error",
     "traceback": [
      "\u001b[1;31m---------------------------------------------------------------------------\u001b[0m",
      "\u001b[1;31mKeyError\u001b[0m                                  Traceback (most recent call last)",
      "\u001b[1;32mC:\\ProgramData\\Anaconda3\\lib\\site-packages\\pandas\\core\\indexes\\base.py\u001b[0m in \u001b[0;36mget_loc\u001b[1;34m(self, key, method, tolerance)\u001b[0m\n\u001b[0;32m   2894\u001b[0m             \u001b[1;32mtry\u001b[0m\u001b[1;33m:\u001b[0m\u001b[1;33m\u001b[0m\u001b[1;33m\u001b[0m\u001b[0m\n\u001b[1;32m-> 2895\u001b[1;33m                 \u001b[1;32mreturn\u001b[0m \u001b[0mself\u001b[0m\u001b[1;33m.\u001b[0m\u001b[0m_engine\u001b[0m\u001b[1;33m.\u001b[0m\u001b[0mget_loc\u001b[0m\u001b[1;33m(\u001b[0m\u001b[0mcasted_key\u001b[0m\u001b[1;33m)\u001b[0m\u001b[1;33m\u001b[0m\u001b[1;33m\u001b[0m\u001b[0m\n\u001b[0m\u001b[0;32m   2896\u001b[0m             \u001b[1;32mexcept\u001b[0m \u001b[0mKeyError\u001b[0m \u001b[1;32mas\u001b[0m \u001b[0merr\u001b[0m\u001b[1;33m:\u001b[0m\u001b[1;33m\u001b[0m\u001b[1;33m\u001b[0m\u001b[0m\n",
      "\u001b[1;32mpandas\\_libs\\index.pyx\u001b[0m in \u001b[0;36mpandas._libs.index.IndexEngine.get_loc\u001b[1;34m()\u001b[0m\n",
      "\u001b[1;32mpandas\\_libs\\index.pyx\u001b[0m in \u001b[0;36mpandas._libs.index.IndexEngine.get_loc\u001b[1;34m()\u001b[0m\n",
      "\u001b[1;32mpandas\\_libs\\hashtable_class_helper.pxi\u001b[0m in \u001b[0;36mpandas._libs.hashtable.PyObjectHashTable.get_item\u001b[1;34m()\u001b[0m\n",
      "\u001b[1;32mpandas\\_libs\\hashtable_class_helper.pxi\u001b[0m in \u001b[0;36mpandas._libs.hashtable.PyObjectHashTable.get_item\u001b[1;34m()\u001b[0m\n",
      "\u001b[1;31mKeyError\u001b[0m: 'proof cut'",
      "\nThe above exception was the direct cause of the following exception:\n",
      "\u001b[1;31mKeyError\u001b[0m                                  Traceback (most recent call last)",
      "\u001b[1;32m<ipython-input-17-49df746bb183>\u001b[0m in \u001b[0;36m<module>\u001b[1;34m\u001b[0m\n\u001b[0;32m      8\u001b[0m             'anode_space_ratio','chrome_content','band_type']\n\u001b[0;32m      9\u001b[0m \u001b[1;32mfor\u001b[0m \u001b[0mcol\u001b[0m \u001b[1;32min\u001b[0m \u001b[0mcol_names\u001b[0m\u001b[1;33m:\u001b[0m\u001b[1;33m\u001b[0m\u001b[1;33m\u001b[0m\u001b[0m\n\u001b[1;32m---> 10\u001b[1;33m     \u001b[0mprint\u001b[0m\u001b[1;33m(\u001b[0m\u001b[0mdf\u001b[0m\u001b[1;33m[\u001b[0m\u001b[0mcol\u001b[0m\u001b[1;33m]\u001b[0m\u001b[1;33m.\u001b[0m\u001b[0mvalue_counts\u001b[0m\u001b[1;33m(\u001b[0m\u001b[1;33m)\u001b[0m\u001b[1;33m)\u001b[0m\u001b[1;33m\u001b[0m\u001b[1;33m\u001b[0m\u001b[0m\n\u001b[0m",
      "\u001b[1;32mC:\\ProgramData\\Anaconda3\\lib\\site-packages\\pandas\\core\\frame.py\u001b[0m in \u001b[0;36m__getitem__\u001b[1;34m(self, key)\u001b[0m\n\u001b[0;32m   2900\u001b[0m             \u001b[1;32mif\u001b[0m \u001b[0mself\u001b[0m\u001b[1;33m.\u001b[0m\u001b[0mcolumns\u001b[0m\u001b[1;33m.\u001b[0m\u001b[0mnlevels\u001b[0m \u001b[1;33m>\u001b[0m \u001b[1;36m1\u001b[0m\u001b[1;33m:\u001b[0m\u001b[1;33m\u001b[0m\u001b[1;33m\u001b[0m\u001b[0m\n\u001b[0;32m   2901\u001b[0m                 \u001b[1;32mreturn\u001b[0m \u001b[0mself\u001b[0m\u001b[1;33m.\u001b[0m\u001b[0m_getitem_multilevel\u001b[0m\u001b[1;33m(\u001b[0m\u001b[0mkey\u001b[0m\u001b[1;33m)\u001b[0m\u001b[1;33m\u001b[0m\u001b[1;33m\u001b[0m\u001b[0m\n\u001b[1;32m-> 2902\u001b[1;33m             \u001b[0mindexer\u001b[0m \u001b[1;33m=\u001b[0m \u001b[0mself\u001b[0m\u001b[1;33m.\u001b[0m\u001b[0mcolumns\u001b[0m\u001b[1;33m.\u001b[0m\u001b[0mget_loc\u001b[0m\u001b[1;33m(\u001b[0m\u001b[0mkey\u001b[0m\u001b[1;33m)\u001b[0m\u001b[1;33m\u001b[0m\u001b[1;33m\u001b[0m\u001b[0m\n\u001b[0m\u001b[0;32m   2903\u001b[0m             \u001b[1;32mif\u001b[0m \u001b[0mis_integer\u001b[0m\u001b[1;33m(\u001b[0m\u001b[0mindexer\u001b[0m\u001b[1;33m)\u001b[0m\u001b[1;33m:\u001b[0m\u001b[1;33m\u001b[0m\u001b[1;33m\u001b[0m\u001b[0m\n\u001b[0;32m   2904\u001b[0m                 \u001b[0mindexer\u001b[0m \u001b[1;33m=\u001b[0m \u001b[1;33m[\u001b[0m\u001b[0mindexer\u001b[0m\u001b[1;33m]\u001b[0m\u001b[1;33m\u001b[0m\u001b[1;33m\u001b[0m\u001b[0m\n",
      "\u001b[1;32mC:\\ProgramData\\Anaconda3\\lib\\site-packages\\pandas\\core\\indexes\\base.py\u001b[0m in \u001b[0;36mget_loc\u001b[1;34m(self, key, method, tolerance)\u001b[0m\n\u001b[0;32m   2895\u001b[0m                 \u001b[1;32mreturn\u001b[0m \u001b[0mself\u001b[0m\u001b[1;33m.\u001b[0m\u001b[0m_engine\u001b[0m\u001b[1;33m.\u001b[0m\u001b[0mget_loc\u001b[0m\u001b[1;33m(\u001b[0m\u001b[0mcasted_key\u001b[0m\u001b[1;33m)\u001b[0m\u001b[1;33m\u001b[0m\u001b[1;33m\u001b[0m\u001b[0m\n\u001b[0;32m   2896\u001b[0m             \u001b[1;32mexcept\u001b[0m \u001b[0mKeyError\u001b[0m \u001b[1;32mas\u001b[0m \u001b[0merr\u001b[0m\u001b[1;33m:\u001b[0m\u001b[1;33m\u001b[0m\u001b[1;33m\u001b[0m\u001b[0m\n\u001b[1;32m-> 2897\u001b[1;33m                 \u001b[1;32mraise\u001b[0m \u001b[0mKeyError\u001b[0m\u001b[1;33m(\u001b[0m\u001b[0mkey\u001b[0m\u001b[1;33m)\u001b[0m \u001b[1;32mfrom\u001b[0m \u001b[0merr\u001b[0m\u001b[1;33m\u001b[0m\u001b[1;33m\u001b[0m\u001b[0m\n\u001b[0m\u001b[0;32m   2898\u001b[0m \u001b[1;33m\u001b[0m\u001b[0m\n\u001b[0;32m   2899\u001b[0m         \u001b[1;32mif\u001b[0m \u001b[0mtolerance\u001b[0m \u001b[1;32mis\u001b[0m \u001b[1;32mnot\u001b[0m \u001b[1;32mNone\u001b[0m\u001b[1;33m:\u001b[0m\u001b[1;33m\u001b[0m\u001b[1;33m\u001b[0m\u001b[0m\n",
      "\u001b[1;31mKeyError\u001b[0m: 'proof cut'"
     ]
    }
   ],
   "source": [
    "col_names = ['cylinder_number','customer','job_number','grain_screened',\n",
    "            'ink_color','proof_on_ctd_ink','blade_mfg','cylinder_division','paper_type',\n",
    "            'ink_type', 'direct_steam', 'solvent_type', 'type_on_cylinder', 'press_type',\n",
    "            'press','unit_number','cylinder_size','paper_mill_location','plating_tank',\n",
    "            'proof cut','viscosity','caliper','ink_temperature','humifity','roughness',\n",
    "            'blade_pressure','varnish_pct','press_speed','ink_pct','solvent_pct',\n",
    "            'ESA_Voltage','ESA_Amperage','wax','hardener','roller_durometer','current_density',\n",
    "            'anode_space_ratio','chrome_content','band_type']\n",
    "for col in col_names:\n",
    "    print(df[col].value_counts())"
   ]
  },
  {
   "cell_type": "code",
   "execution_count": 18,
   "metadata": {},
   "outputs": [
    {
     "data": {
      "text/plain": [
       "cylinder_number        0\n",
       "customer               0\n",
       "job_number             0\n",
       "grain_screened         0\n",
       "ink_color              0\n",
       "proof_on_ctd_ink       0\n",
       "blade_mfg              0\n",
       "cylinder_division      0\n",
       "paper_type             0\n",
       "ink_type               0\n",
       "direct_steam           0\n",
       "solvent_type           0\n",
       "type_on_cylinder       0\n",
       "press_type             0\n",
       "press                  0\n",
       "unit_number            0\n",
       "cylinder_size          0\n",
       "paper_mill_location    0\n",
       "plating_tank           0\n",
       "proof_cut              0\n",
       "viscosity              0\n",
       "caliper                0\n",
       "ink_temperature        0\n",
       "humifity               0\n",
       "roughness              0\n",
       "blade_pressure         0\n",
       "varnish_pct            0\n",
       "press_speed            0\n",
       "ink_pct                0\n",
       "solvent_pct            0\n",
       "ESA_Voltage            0\n",
       "ESA_Amperage           0\n",
       "wax                    0\n",
       "hardener               0\n",
       "roller_durometer       0\n",
       "current_density        0\n",
       "anode_space_ratio      0\n",
       "chrome_content         0\n",
       "band_type              0\n",
       "dtype: int64"
      ]
     },
     "execution_count": 18,
     "metadata": {},
     "output_type": "execute_result"
    }
   ],
   "source": [
    "df.isnull().sum()"
   ]
  },
  {
   "cell_type": "code",
   "execution_count": 19,
   "metadata": {},
   "outputs": [
    {
     "data": {
      "text/html": [
       "<div>\n",
       "<style scoped>\n",
       "    .dataframe tbody tr th:only-of-type {\n",
       "        vertical-align: middle;\n",
       "    }\n",
       "\n",
       "    .dataframe tbody tr th {\n",
       "        vertical-align: top;\n",
       "    }\n",
       "\n",
       "    .dataframe thead th {\n",
       "        text-align: right;\n",
       "    }\n",
       "</style>\n",
       "<table border=\"1\" class=\"dataframe\">\n",
       "  <thead>\n",
       "    <tr style=\"text-align: right;\">\n",
       "      <th></th>\n",
       "      <th>cylinder_number</th>\n",
       "      <th>customer</th>\n",
       "      <th>job_number</th>\n",
       "      <th>grain_screened</th>\n",
       "      <th>ink_color</th>\n",
       "      <th>proof_on_ctd_ink</th>\n",
       "      <th>blade_mfg</th>\n",
       "      <th>cylinder_division</th>\n",
       "      <th>paper_type</th>\n",
       "      <th>ink_type</th>\n",
       "      <th>...</th>\n",
       "      <th>solvent_pct</th>\n",
       "      <th>ESA_Voltage</th>\n",
       "      <th>ESA_Amperage</th>\n",
       "      <th>wax</th>\n",
       "      <th>hardener</th>\n",
       "      <th>roller_durometer</th>\n",
       "      <th>current_density</th>\n",
       "      <th>anode_space_ratio</th>\n",
       "      <th>chrome_content</th>\n",
       "      <th>band_type</th>\n",
       "    </tr>\n",
       "  </thead>\n",
       "  <tbody>\n",
       "  </tbody>\n",
       "</table>\n",
       "<p>0 rows × 39 columns</p>\n",
       "</div>"
      ],
      "text/plain": [
       "Empty DataFrame\n",
       "Columns: [cylinder_number, customer, job_number, grain_screened, ink_color, proof_on_ctd_ink, blade_mfg, cylinder_division, paper_type, ink_type, direct_steam, solvent_type, type_on_cylinder, press_type, press, unit_number, cylinder_size, paper_mill_location, plating_tank, proof_cut, viscosity, caliper, ink_temperature, humifity, roughness, blade_pressure, varnish_pct, press_speed, ink_pct, solvent_pct, ESA_Voltage, ESA_Amperage, wax, hardener, roller_durometer, current_density, anode_space_ratio, chrome_content, band_type]\n",
       "Index: []\n",
       "\n",
       "[0 rows x 39 columns]"
      ]
     },
     "execution_count": 19,
     "metadata": {},
     "output_type": "execute_result"
    }
   ],
   "source": [
    "#check for duplicates\n",
    "df.loc[df.duplicated()]"
   ]
  },
  {
   "cell_type": "code",
   "execution_count": 20,
   "metadata": {},
   "outputs": [
    {
     "name": "stdout",
     "output_type": "stream",
     "text": [
      "There are 16 categorical vairables\n",
      "\n",
      "The categorical variables are : ['cylinder_number', 'customer', 'grain_screened', 'ink_color', 'proof_on_ctd_ink', 'blade_mfg', 'cylinder_division', 'paper_type', 'ink_type', 'direct_steam', 'solvent_type', 'type_on_cylinder', 'press_type', 'cylinder_size', 'paper_mill_location', 'band_type']\n"
     ]
    }
   ],
   "source": [
    "categorical = [var for var in df.columns if df.dtypes[var]=='O']\n",
    "print(\"There are {} categorical vairables\\n\".format(len(categorical)))\n",
    "print(\"The categorical variables are :\",categorical)"
   ]
  },
  {
   "cell_type": "code",
   "execution_count": 21,
   "metadata": {},
   "outputs": [
    {
     "data": {
      "text/plain": [
       "cylinder_number        0\n",
       "customer               0\n",
       "grain_screened         0\n",
       "ink_color              0\n",
       "proof_on_ctd_ink       0\n",
       "blade_mfg              0\n",
       "cylinder_division      0\n",
       "paper_type             0\n",
       "ink_type               0\n",
       "direct_steam           0\n",
       "solvent_type           0\n",
       "type_on_cylinder       0\n",
       "press_type             0\n",
       "cylinder_size          0\n",
       "paper_mill_location    0\n",
       "band_type              0\n",
       "dtype: int64"
      ]
     },
     "execution_count": 21,
     "metadata": {},
     "output_type": "execute_result"
    }
   ],
   "source": [
    "#check missing values in categorical variables\n",
    "df[categorical].isnull().sum()"
   ]
  },
  {
   "cell_type": "code",
   "execution_count": 22,
   "metadata": {},
   "outputs": [
    {
     "data": {
      "text/plain": [
       "False"
      ]
     },
     "execution_count": 22,
     "metadata": {},
     "output_type": "execute_result"
    }
   ],
   "source": [
    "df.isnull().values.any()"
   ]
  },
  {
   "cell_type": "code",
   "execution_count": null,
   "metadata": {},
   "outputs": [],
   "source": [
    "#for col in categorical:\n",
    " #   df[col].fillna(df[col].mode()[0],inplace = True)"
   ]
  },
  {
   "cell_type": "code",
   "execution_count": 23,
   "metadata": {},
   "outputs": [
    {
     "data": {
      "text/plain": [
       "False"
      ]
     },
     "execution_count": 23,
     "metadata": {},
     "output_type": "execute_result"
    }
   ],
   "source": [
    "df.isnull().values.any()"
   ]
  },
  {
   "cell_type": "code",
   "execution_count": 24,
   "metadata": {},
   "outputs": [
    {
     "data": {
      "text/plain": [
       "Text(0.5, 1.0, 'Missing value in dataset')"
      ]
     },
     "execution_count": 24,
     "metadata": {},
     "output_type": "execute_result"
    },
    {
     "data": {
      "image/png": "[encoded data removed]",
      "text/plain": [
       "<Figure size 864x288 with 1 Axes>"
      ]
     },
     "metadata": {
      "needs_background": "light"
     },
     "output_type": "display_data"
    }
   ],
   "source": [
    "plt.figure(figsize=(12,4))\n",
    "sns.heatmap(df.isnull(),cbar=False,cmap='viridis',yticklabels=False)\n",
    "plt.title('Missing value in dataset')"
   ]
  },
  {
   "cell_type": "code",
   "execution_count": 45,
   "metadata": {},
   "outputs": [
    {
     "data": {
      "text/plain": [
       "<AxesSubplot:>"
      ]
     },
     "execution_count": 45,
     "metadata": {},
     "output_type": "execute_result"
    },
    {
     "data": {
      "image/png": "[encoded data removed]",
      "text/plain": [
       "<Figure size 432x288 with 2 Axes>"
      ]
     },
     "metadata": {
      "needs_background": "light"
     },
     "output_type": "display_data"
    }
   ],
   "source": [
    "#correlation plot\n",
    "corr = df.corr()\n",
    "sns.heatmap(corr,cmap='Wistia',annot=True)"
   ]
  },
  {
   "cell_type": "code",
   "execution_count": 26,
   "metadata": {},
   "outputs": [
    {
     "name": "stdout",
     "output_type": "stream",
     "text": [
      "There are 23 numerical variables\n",
      "\n",
      "The numerical variables are : ['job_number', 'press', 'unit_number', 'plating_tank', 'proof_cut', 'viscosity', 'caliper', 'ink_temperature', 'humifity', 'roughness', 'blade_pressure', 'varnish_pct', 'press_speed', 'ink_pct', 'solvent_pct', 'ESA_Voltage', 'ESA_Amperage', 'wax', 'hardener', 'roller_durometer', 'current_density', 'anode_space_ratio', 'chrome_content']\n"
     ]
    }
   ],
   "source": [
    "numerical = [var for var in df.columns if df.dtypes[var] != 'O']\n",
    "print(\"There are {} numerical variables\\n\".format(len(numerical)))\n",
    "print(\"The numerical variables are :\", numerical)"
   ]
  },
  {
   "cell_type": "code",
   "execution_count": 27,
   "metadata": {},
   "outputs": [
    {
     "data": {
      "text/plain": [
       "job_number           0\n",
       "press                0\n",
       "unit_number          0\n",
       "plating_tank         0\n",
       "proof_cut            0\n",
       "viscosity            0\n",
       "caliper              0\n",
       "ink_temperature      0\n",
       "humifity             0\n",
       "roughness            0\n",
       "blade_pressure       0\n",
       "varnish_pct          0\n",
       "press_speed          0\n",
       "ink_pct              0\n",
       "solvent_pct          0\n",
       "ESA_Voltage          0\n",
       "ESA_Amperage         0\n",
       "wax                  0\n",
       "hardener             0\n",
       "roller_durometer     0\n",
       "current_density      0\n",
       "anode_space_ratio    0\n",
       "chrome_content       0\n",
       "dtype: int64"
      ]
     },
     "execution_count": 27,
     "metadata": {},
     "output_type": "execute_result"
    }
   ],
   "source": [
    "df[numerical].isnull().sum()"
   ]
  },
  {
   "cell_type": "code",
   "execution_count": 28,
   "metadata": {},
   "outputs": [
    {
     "data": {
      "text/plain": [
       "Text(0, 0.5, ' Unit Number ')"
      ]
     },
     "execution_count": 28,
     "metadata": {},
     "output_type": "execute_result"
    },
    {
     "data": {
      "image/png": "[encoded data removed]",
      "text/plain": [
       "<Figure size 1080x720 with 1 Axes>"
      ]
     },
     "metadata": {
      "needs_background": "light"
     },
     "output_type": "display_data"
    }
   ],
   "source": [
    "#draw boxplots\n",
    "plt.figure(figsize=(15,10))\n",
    "\n",
    "plt.subplot(2,2,1)\n",
    "fig = df.boxplot(column = 'unit_number')\n",
    "fig.set_title(' ')\n",
    "fig.set_ylabel(' Unit Number ')"
   ]
  },
  {
   "cell_type": "code",
   "execution_count": 29,
   "metadata": {},
   "outputs": [
    {
     "data": {
      "text/plain": [
       "Text(0, 0.5, ' Cylinder Band ')"
      ]
     },
     "execution_count": 29,
     "metadata": {},
     "output_type": "execute_result"
    },
    {
     "data": {
      "image/png": "[encoded data removed]",
      "text/plain": [
       "<Figure size 1080x720 with 1 Axes>"
      ]
     },
     "metadata": {
      "needs_background": "light"
     },
     "output_type": "display_data"
    }
   ],
   "source": [
    "plt.figure(figsize=(15,10))\n",
    "\n",
    "plt.subplot(2,2,1)\n",
    "fig = df.unit_number.hist(bins=10)\n",
    "fig.set_xlabel(' Unit number')\n",
    "fig.set_ylabel(' Cylinder Band ')"
   ]
  },
  {
   "cell_type": "code",
   "execution_count": 30,
   "metadata": {},
   "outputs": [],
   "source": [
    "X = df.drop(['band_type'], axis = 1)\n",
    "y = df['band_type']"
   ]
  },
  {
   "cell_type": "code",
   "execution_count": 31,
   "metadata": {},
   "outputs": [],
   "source": [
    "from sklearn.model_selection import train_test_split\n",
    "X_train, X_test, y_train, y_test = train_test_split(X,y,test_size=0.2,random_state=0)"
   ]
  },
  {
   "cell_type": "code",
   "execution_count": 32,
   "metadata": {},
   "outputs": [
    {
     "data": {
      "text/plain": [
       "((221, 38), (56, 38))"
      ]
     },
     "execution_count": 32,
     "metadata": {},
     "output_type": "execute_result"
    }
   ],
   "source": [
    "X_train.shape, X_test.shape"
   ]
  },
  {
   "cell_type": "code",
   "execution_count": 33,
   "metadata": {},
   "outputs": [
    {
     "name": "stderr",
     "output_type": "stream",
     "text": [
      "C:\\ProgramData\\Anaconda3\\lib\\site-packages\\category_encoders\\utils.py:21: FutureWarning: is_categorical is deprecated and will be removed in a future version.  Use is_categorical_dtype instead\n",
      "  elif pd.api.types.is_categorical(cols):\n"
     ]
    }
   ],
   "source": [
    "#replace categorical values\n",
    "import category_encoders as ce\n",
    "encoder = ce.OrdinalEncoder(cols=['cylinder_number', 'customer', 'grain_screened', 'ink_color', 'proof_on_ctd_ink', 'blade_mfg', 'cylinder_division', 'paper_type', 'ink_type', 'direct_steam', 'solvent_type', 'type_on_cylinder', 'press_type', 'cylinder_size', 'paper_mill_location'])\n",
    "X_train = encoder.fit_transform(X_train)\n",
    "X_test = encoder.transform(X_test)"
   ]
  },
  {
   "cell_type": "code",
   "execution_count": 35,
   "metadata": {},
   "outputs": [],
   "source": [
    "#X_train.to_csv('xtrain.csv', index = False)"
   ]
  },
  {
   "cell_type": "code",
   "execution_count": 36,
   "metadata": {},
   "outputs": [
    {
     "data": {
      "text/plain": [
       "False"
      ]
     },
     "execution_count": 36,
     "metadata": {},
     "output_type": "execute_result"
    }
   ],
   "source": [
    "y_train.isnull().values.any()"
   ]
  },
  {
   "cell_type": "code",
   "execution_count": 37,
   "metadata": {},
   "outputs": [
    {
     "data": {
      "text/plain": [
       "DecisionTreeClassifier(max_depth=3, random_state=0)"
      ]
     },
     "execution_count": 37,
     "metadata": {},
     "output_type": "execute_result"
    }
   ],
   "source": [
    "from sklearn.tree import DecisionTreeClassifier\n",
    "\n",
    "clf_gini = DecisionTreeClassifier(criterion='gini',max_depth=3, random_state = 0)\n",
    "clf_gini.fit(X_train, y_train)"
   ]
  },
  {
   "cell_type": "code",
   "execution_count": 38,
   "metadata": {},
   "outputs": [],
   "source": [
    "y_pred_gini = clf_gini.predict(X_test)"
   ]
  },
  {
   "cell_type": "code",
   "execution_count": 39,
   "metadata": {},
   "outputs": [
    {
     "name": "stdout",
     "output_type": "stream",
     "text": [
      "Model accuracy score with criterion gini index: 0.5893\n"
     ]
    }
   ],
   "source": [
    "# check accuracy score\n",
    "from sklearn.metrics import accuracy_score\n",
    "print('Model accuracy score with criterion gini index: {0:0.4f}'.format(accuracy_score(y_test,y_pred_gini)))"
   ]
  },
  {
   "cell_type": "code",
   "execution_count": 40,
   "metadata": {},
   "outputs": [
    {
     "data": {
      "text/plain": [
       "array(['band', 'noband', 'band', 'band', 'band', 'noband', 'noband',\n",
       "       'band', 'noband', 'noband', 'band', 'band', 'band', 'noband',\n",
       "       'band', 'band', 'band', 'band', 'noband', 'band', 'noband', 'band',\n",
       "       'noband', 'band', 'noband', 'band', 'noband', 'noband', 'noband',\n",
       "       'band', 'band', 'band', 'noband', 'noband', 'noband', 'band',\n",
       "       'noband', 'band', 'band', 'band', 'band', 'band', 'band', 'noband',\n",
       "       'noband', 'noband', 'noband', 'band', 'band', 'noband', 'band',\n",
       "       'band', 'noband', 'noband', 'band', 'band', 'noband', 'band',\n",
       "       'noband', 'noband', 'noband', 'band', 'band', 'noband', 'noband',\n",
       "       'band', 'noband', 'noband', 'noband', 'noband', 'noband', 'noband',\n",
       "       'noband', 'noband', 'band', 'noband', 'band', 'noband', 'noband',\n",
       "       'noband', 'noband', 'noband', 'band', 'band', 'band', 'band',\n",
       "       'noband', 'noband', 'band', 'noband', 'noband', 'noband', 'band',\n",
       "       'noband', 'noband', 'noband', 'noband', 'band', 'band', 'noband',\n",
       "       'noband', 'noband', 'noband', 'band', 'band', 'band', 'noband',\n",
       "       'noband', 'band', 'noband', 'band', 'noband', 'noband', 'band',\n",
       "       'noband', 'noband', 'band', 'noband', 'noband', 'band', 'noband',\n",
       "       'noband', 'noband', 'noband', 'noband', 'noband', 'noband',\n",
       "       'noband', 'noband', 'noband', 'noband', 'band', 'noband', 'noband',\n",
       "       'band', 'noband', 'noband', 'band', 'band', 'noband', 'noband',\n",
       "       'band', 'noband', 'noband', 'band', 'band', 'noband', 'noband',\n",
       "       'noband', 'noband', 'noband', 'noband', 'noband', 'noband', 'band',\n",
       "       'noband', 'band', 'band', 'noband', 'band', 'noband', 'band',\n",
       "       'noband', 'noband', 'noband', 'band', 'noband', 'band', 'noband',\n",
       "       'noband', 'noband', 'band', 'band', 'noband', 'noband', 'noband',\n",
       "       'noband', 'noband', 'noband', 'noband', 'band', 'noband', 'noband',\n",
       "       'band', 'noband', 'noband', 'band', 'band', 'noband', 'noband',\n",
       "       'noband', 'noband', 'noband', 'noband', 'noband', 'noband',\n",
       "       'noband', 'band', 'band', 'band', 'noband', 'noband', 'noband',\n",
       "       'noband', 'noband', 'noband', 'band', 'noband', 'noband', 'noband',\n",
       "       'band', 'band', 'band', 'band', 'band', 'band', 'band', 'noband',\n",
       "       'noband', 'noband', 'noband'], dtype=object)"
      ]
     },
     "execution_count": 40,
     "metadata": {},
     "output_type": "execute_result"
    }
   ],
   "source": [
    "# compare trainset and test set accuracy\n",
    "y_pred_train_gini = clf_gini.predict(X_train)\n",
    "y_pred_train_gini"
   ]
  },
  {
   "cell_type": "code",
   "execution_count": 41,
   "metadata": {},
   "outputs": [
    {
     "name": "stdout",
     "output_type": "stream",
     "text": [
      "Training-set accuracy score: 0.8009\n"
     ]
    }
   ],
   "source": [
    "print('Training-set accuracy score: {0:0.4f}'.format(accuracy_score(y_train,y_pred_train_gini)))"
   ]
  },
  {
   "cell_type": "code",
   "execution_count": 42,
   "metadata": {},
   "outputs": [
    {
     "data": {
      "text/plain": [
       "DecisionTreeClassifier(criterion='entropy', max_depth=3, random_state=0)"
      ]
     },
     "execution_count": 42,
     "metadata": {},
     "output_type": "execute_result"
    }
   ],
   "source": [
    "# Decision Tree Classifier with criterion entropy\n",
    "clf_en = DecisionTreeClassifier(criterion = 'entropy', max_depth = 3, random_state = 0)\n",
    "clf_en.fit(X_train, y_train)"
   ]
  },
  {
   "cell_type": "code",
   "execution_count": 43,
   "metadata": {},
   "outputs": [],
   "source": [
    "y_pred_en = clf_en.predict(X_test)"
   ]
  },
  {
   "cell_type": "code",
   "execution_count": 44,
   "metadata": {},
   "outputs": [
    {
     "name": "stdout",
     "output_type": "stream",
     "text": [
      "Model accuracy score with criterion entropy : 0.5893\n"
     ]
    }
   ],
   "source": [
    "# Check accuracy score\n",
    "from sklearn.metrics import accuracy_score\n",
    "print('Model accuracy score with criterion entropy : {0:0.4f}'.\n",
    "     format(accuracy_score(y_test,y_pred_en)))"
   ]
  },
  {
   "cell_type": "code",
   "execution_count": null,
   "metadata": {},
   "outputs": [],
   "source": []
  }
 ],
 "metadata": {
  "kernelspec": {
   "display_name": "Python 3",
   "language": "python",
   "name": "python3"
  },
  "language_info": {
   "codemirror_mode": {
    "name": "ipython",
    "version": 3
   },
   "file_extension": ".py",
   "mimetype": "text/x-python",
   "name": "python",
   "nbconvert_exporter": "python",
   "pygments_lexer": "ipython3",
   "version": "3.8.5"
  }
 },
 "nbformat": 4,
 "nbformat_minor": 4
}
