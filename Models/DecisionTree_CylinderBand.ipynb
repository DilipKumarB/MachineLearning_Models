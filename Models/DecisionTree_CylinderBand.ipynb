{
 "cells": [
  {
   "cell_type": "code",
   "execution_count": 1,
   "metadata": {},
   "outputs": [],
   "source": [
    "#import general libraries\n",
    "import pandas as pd\n",
    "import numpy as np\n",
    "import matplotlib.pyplot as plt\n",
    "import seaborn as sns"
   ]
  },
  {
   "cell_type": "code",
   "execution_count": 2,
   "metadata": {},
   "outputs": [],
   "source": [
    "#import dataset\n",
    "df = pd.read_csv('C:\\\\Users\\\\Lenovo\\\\MachineLearningModels\\\\bands.csv',header = None)"
   ]
  },
  {
   "cell_type": "code",
   "execution_count": 3,
   "metadata": {},
   "outputs": [
    {
     "data": {
      "text/plain": [
       "(541, 40)"
      ]
     },
     "execution_count": 3,
     "metadata": {},
     "output_type": "execute_result"
    }
   ],
   "source": [
    "#check the size of the dataset\n",
    "df.shape"
   ]
  },
  {
   "cell_type": "code",
   "execution_count": 4,
   "metadata": {},
   "outputs": [
    {
     "data": {
      "text/html": [
       "<div>\n",
       "<style scoped>\n",
       "    .dataframe tbody tr th:only-of-type {\n",
       "        vertical-align: middle;\n",
       "    }\n",
       "\n",
       "    .dataframe tbody tr th {\n",
       "        vertical-align: top;\n",
       "    }\n",
       "\n",
       "    .dataframe thead th {\n",
       "        text-align: right;\n",
       "    }\n",
       "</style>\n",
       "<table border=\"1\" class=\"dataframe\">\n",
       "  <thead>\n",
       "    <tr style=\"text-align: right;\">\n",
       "      <th></th>\n",
       "      <th>0</th>\n",
       "      <th>1</th>\n",
       "      <th>2</th>\n",
       "      <th>3</th>\n",
       "      <th>4</th>\n",
       "      <th>5</th>\n",
       "      <th>6</th>\n",
       "      <th>7</th>\n",
       "      <th>8</th>\n",
       "      <th>9</th>\n",
       "      <th>...</th>\n",
       "      <th>30</th>\n",
       "      <th>31</th>\n",
       "      <th>32</th>\n",
       "      <th>33</th>\n",
       "      <th>34</th>\n",
       "      <th>35</th>\n",
       "      <th>36</th>\n",
       "      <th>37</th>\n",
       "      <th>38</th>\n",
       "      <th>39</th>\n",
       "    </tr>\n",
       "  </thead>\n",
       "  <tbody>\n",
       "    <tr>\n",
       "      <th>0</th>\n",
       "      <td>19910108</td>\n",
       "      <td>X126</td>\n",
       "      <td>TVGUIDE</td>\n",
       "      <td>25503</td>\n",
       "      <td>YES</td>\n",
       "      <td>KEY</td>\n",
       "      <td>YES</td>\n",
       "      <td>BENTON</td>\n",
       "      <td>GALLATIN</td>\n",
       "      <td>UNCOATED</td>\n",
       "      <td>...</td>\n",
       "      <td>36.4</td>\n",
       "      <td>0</td>\n",
       "      <td>0</td>\n",
       "      <td>2.5</td>\n",
       "      <td>1</td>\n",
       "      <td>34</td>\n",
       "      <td>40</td>\n",
       "      <td>105</td>\n",
       "      <td>100</td>\n",
       "      <td>band</td>\n",
       "    </tr>\n",
       "    <tr>\n",
       "      <th>1</th>\n",
       "      <td>19910109</td>\n",
       "      <td>X266</td>\n",
       "      <td>TVGUIDE</td>\n",
       "      <td>25503</td>\n",
       "      <td>YES</td>\n",
       "      <td>KEY</td>\n",
       "      <td>YES</td>\n",
       "      <td>BENTON</td>\n",
       "      <td>GALLATIN</td>\n",
       "      <td>UNCOATED</td>\n",
       "      <td>...</td>\n",
       "      <td>38.5</td>\n",
       "      <td>0</td>\n",
       "      <td>0</td>\n",
       "      <td>2.5</td>\n",
       "      <td>0.7</td>\n",
       "      <td>34</td>\n",
       "      <td>40</td>\n",
       "      <td>105</td>\n",
       "      <td>100</td>\n",
       "      <td>noband</td>\n",
       "    </tr>\n",
       "    <tr>\n",
       "      <th>2</th>\n",
       "      <td>19910104</td>\n",
       "      <td>B7</td>\n",
       "      <td>MODMAT</td>\n",
       "      <td>47201</td>\n",
       "      <td>YES</td>\n",
       "      <td>KEY</td>\n",
       "      <td>YES</td>\n",
       "      <td>BENTON</td>\n",
       "      <td>GALLATIN</td>\n",
       "      <td>UNCOATED</td>\n",
       "      <td>...</td>\n",
       "      <td>39.8</td>\n",
       "      <td>0</td>\n",
       "      <td>0</td>\n",
       "      <td>2.8</td>\n",
       "      <td>0.9</td>\n",
       "      <td>40</td>\n",
       "      <td>40</td>\n",
       "      <td>103.87</td>\n",
       "      <td>100</td>\n",
       "      <td>noband</td>\n",
       "    </tr>\n",
       "    <tr>\n",
       "      <th>3</th>\n",
       "      <td>19910104</td>\n",
       "      <td>T133</td>\n",
       "      <td>MASSEY</td>\n",
       "      <td>39039</td>\n",
       "      <td>YES</td>\n",
       "      <td>KEY</td>\n",
       "      <td>YES</td>\n",
       "      <td>BENTON</td>\n",
       "      <td>GALLATIN</td>\n",
       "      <td>UNCOATED</td>\n",
       "      <td>...</td>\n",
       "      <td>38.8</td>\n",
       "      <td>0</td>\n",
       "      <td>0</td>\n",
       "      <td>2.5</td>\n",
       "      <td>1.3</td>\n",
       "      <td>40</td>\n",
       "      <td>40</td>\n",
       "      <td>108.06</td>\n",
       "      <td>100</td>\n",
       "      <td>noband</td>\n",
       "    </tr>\n",
       "    <tr>\n",
       "      <th>4</th>\n",
       "      <td>19910111</td>\n",
       "      <td>J34</td>\n",
       "      <td>KMART</td>\n",
       "      <td>37351</td>\n",
       "      <td>NO</td>\n",
       "      <td>KEY</td>\n",
       "      <td>YES</td>\n",
       "      <td>BENTON</td>\n",
       "      <td>GALLATIN</td>\n",
       "      <td>UNCOATED</td>\n",
       "      <td>...</td>\n",
       "      <td>42.5</td>\n",
       "      <td>5</td>\n",
       "      <td>0</td>\n",
       "      <td>2.3</td>\n",
       "      <td>0.6</td>\n",
       "      <td>35</td>\n",
       "      <td>40</td>\n",
       "      <td>106.67</td>\n",
       "      <td>100</td>\n",
       "      <td>noband</td>\n",
       "    </tr>\n",
       "  </tbody>\n",
       "</table>\n",
       "<p>5 rows × 40 columns</p>\n",
       "</div>"
      ],
      "text/plain": [
       "         0     1        2      3    4    5    6       7         8         9   \\\n",
       "0  19910108  X126  TVGUIDE  25503  YES  KEY  YES  BENTON  GALLATIN  UNCOATED   \n",
       "1  19910109  X266  TVGUIDE  25503  YES  KEY  YES  BENTON  GALLATIN  UNCOATED   \n",
       "2  19910104    B7   MODMAT  47201  YES  KEY  YES  BENTON  GALLATIN  UNCOATED   \n",
       "3  19910104  T133   MASSEY  39039  YES  KEY  YES  BENTON  GALLATIN  UNCOATED   \n",
       "4  19910111   J34    KMART  37351   NO  KEY  YES  BENTON  GALLATIN  UNCOATED   \n",
       "\n",
       "   ...    30 31 32   33   34  35  36      37   38      39  \n",
       "0  ...  36.4  0  0  2.5    1  34  40     105  100    band  \n",
       "1  ...  38.5  0  0  2.5  0.7  34  40     105  100  noband  \n",
       "2  ...  39.8  0  0  2.8  0.9  40  40  103.87  100  noband  \n",
       "3  ...  38.8  0  0  2.5  1.3  40  40  108.06  100  noband  \n",
       "4  ...  42.5  5  0  2.3  0.6  35  40  106.67  100  noband  \n",
       "\n",
       "[5 rows x 40 columns]"
      ]
     },
     "execution_count": 4,
     "metadata": {},
     "output_type": "execute_result"
    }
   ],
   "source": [
    "#view sample data\n",
    "df.head()"
   ]
  },
  {
   "cell_type": "code",
   "execution_count": 5,
   "metadata": {},
   "outputs": [
    {
     "data": {
      "text/plain": [
       "Index(['timestamp', 'cylinder_number', 'customer', 'job_number',\n",
       "       'grain_screened', 'ink_color', 'proof_on_ctd_ink', 'blade_mfg',\n",
       "       'cylinder_division', 'paper_type', 'ink_type', 'direct_steam',\n",
       "       'solvent_type', 'type_on_cylinder', 'press_type', 'press',\n",
       "       'unit_number', 'cylinder_size', 'paper_mill_location', 'plating_tank',\n",
       "       'proof_cut', 'viscosity', 'caliper', 'ink_temperature', 'humifity',\n",
       "       'roughness', 'blade_pressure', 'varnish_pct', 'press_speed', 'ink_pct',\n",
       "       'solvent_pct', 'ESA_Voltage', 'ESA_Amperage', 'wax', 'hardener',\n",
       "       'roller_durometer', 'current_density', 'anode_space_ratio',\n",
       "       'chrome_content', 'band_type'],\n",
       "      dtype='object')"
      ]
     },
     "execution_count": 5,
     "metadata": {},
     "output_type": "execute_result"
    }
   ],
   "source": [
    "#supliment column names\n",
    "col_names = ['timestamp','cylinder_number','customer','job_number','grain_screened',\n",
    "            'ink_color','proof_on_ctd_ink','blade_mfg','cylinder_division','paper_type',\n",
    "            'ink_type', 'direct_steam', 'solvent_type', 'type_on_cylinder', 'press_type',\n",
    "            'press','unit_number','cylinder_size','paper_mill_location','plating_tank',\n",
    "            'proof_cut','viscosity','caliper','ink_temperature','humifity','roughness',\n",
    "            'blade_pressure','varnish_pct','press_speed','ink_pct','solvent_pct',\n",
    "            'ESA_Voltage','ESA_Amperage','wax','hardener','roller_durometer','current_density',\n",
    "            'anode_space_ratio','chrome_content','band_type']\n",
    "df.columns = col_names\n",
    "df.columns"
   ]
  },
  {
   "cell_type": "code",
   "execution_count": 10,
   "metadata": {},
   "outputs": [
    {
     "data": {
      "text/plain": [
       "0       320\n",
       "?        56\n",
       "2        33\n",
       "4        29\n",
       "1        24\n",
       "3        23\n",
       "5        20\n",
       "8         9\n",
       "10        7\n",
       "6         6\n",
       "12        4\n",
       "1.5       2\n",
       "9         1\n",
       "0.75      1\n",
       "4.5       1\n",
       "16        1\n",
       "2.5       1\n",
       "0.5       1\n",
       "Name: ESA_Voltage, dtype: int64"
      ]
     },
     "execution_count": 10,
     "metadata": {},
     "output_type": "execute_result"
    }
   ],
   "source": [
    "df['ESA_Voltage'].value_counts()"
   ]
  },
  {
   "cell_type": "code",
   "execution_count": null,
   "metadata": {},
   "outputs": [],
   "source": [
    "#check the data type of the variables\n",
    "df.info()"
   ]
  },
  {
   "cell_type": "code",
   "execution_count": null,
   "metadata": {},
   "outputs": [],
   "source": [
    "#except Unit_number all other columns are read as object\n",
    "#convert some of them to integer\n",
    "#check individual column values \n",
    "df['band_type'].head()"
   ]
  },
  {
   "cell_type": "code",
   "execution_count": 11,
   "metadata": {},
   "outputs": [],
   "source": [
    "num_col = ['timestamp','job_number','press','plating_tank','proof_cut','viscosity','caliper','ink_temperature','humifity',\n",
    "          'roughness','blade_pressure','varnish_pct','press_speed','ink_pct','solvent_pct','ESA_Voltage','ESA_Amperage',\n",
    "          'wax','hardener','roller_durometer','current_density','anode_space_ratio','chrome_content']"
   ]
  },
  {
   "cell_type": "code",
   "execution_count": 12,
   "metadata": {},
   "outputs": [],
   "source": [
    "for col in num_col:\n",
    "    df[col].replace('?',np.nan,inplace=True)"
   ]
  },
  {
   "cell_type": "code",
   "execution_count": 13,
   "metadata": {},
   "outputs": [],
   "source": [
    "for col in num_col:\n",
    "    df[col].replace('band',np.nan,inplace=True)"
   ]
  },
  {
   "cell_type": "code",
   "execution_count": 14,
   "metadata": {},
   "outputs": [
    {
     "data": {
      "text/html": [
       "<div>\n",
       "<style scoped>\n",
       "    .dataframe tbody tr th:only-of-type {\n",
       "        vertical-align: middle;\n",
       "    }\n",
       "\n",
       "    .dataframe tbody tr th {\n",
       "        vertical-align: top;\n",
       "    }\n",
       "\n",
       "    .dataframe thead th {\n",
       "        text-align: right;\n",
       "    }\n",
       "</style>\n",
       "<table border=\"1\" class=\"dataframe\">\n",
       "  <thead>\n",
       "    <tr style=\"text-align: right;\">\n",
       "      <th></th>\n",
       "      <th>timestamp</th>\n",
       "      <th>cylinder_number</th>\n",
       "      <th>customer</th>\n",
       "      <th>job_number</th>\n",
       "      <th>grain_screened</th>\n",
       "      <th>ink_color</th>\n",
       "      <th>proof_on_ctd_ink</th>\n",
       "      <th>blade_mfg</th>\n",
       "      <th>cylinder_division</th>\n",
       "      <th>paper_type</th>\n",
       "      <th>...</th>\n",
       "      <th>solvent_pct</th>\n",
       "      <th>ESA_Voltage</th>\n",
       "      <th>ESA_Amperage</th>\n",
       "      <th>wax</th>\n",
       "      <th>hardener</th>\n",
       "      <th>roller_durometer</th>\n",
       "      <th>current_density</th>\n",
       "      <th>anode_space_ratio</th>\n",
       "      <th>chrome_content</th>\n",
       "      <th>band_type</th>\n",
       "    </tr>\n",
       "  </thead>\n",
       "  <tbody>\n",
       "    <tr>\n",
       "      <th>0</th>\n",
       "      <td>19910108</td>\n",
       "      <td>X126</td>\n",
       "      <td>TVGUIDE</td>\n",
       "      <td>25503</td>\n",
       "      <td>YES</td>\n",
       "      <td>KEY</td>\n",
       "      <td>YES</td>\n",
       "      <td>BENTON</td>\n",
       "      <td>GALLATIN</td>\n",
       "      <td>UNCOATED</td>\n",
       "      <td>...</td>\n",
       "      <td>36.4</td>\n",
       "      <td>0</td>\n",
       "      <td>0</td>\n",
       "      <td>2.5</td>\n",
       "      <td>1</td>\n",
       "      <td>34</td>\n",
       "      <td>40</td>\n",
       "      <td>105</td>\n",
       "      <td>100</td>\n",
       "      <td>band</td>\n",
       "    </tr>\n",
       "    <tr>\n",
       "      <th>1</th>\n",
       "      <td>19910109</td>\n",
       "      <td>X266</td>\n",
       "      <td>TVGUIDE</td>\n",
       "      <td>25503</td>\n",
       "      <td>YES</td>\n",
       "      <td>KEY</td>\n",
       "      <td>YES</td>\n",
       "      <td>BENTON</td>\n",
       "      <td>GALLATIN</td>\n",
       "      <td>UNCOATED</td>\n",
       "      <td>...</td>\n",
       "      <td>38.5</td>\n",
       "      <td>0</td>\n",
       "      <td>0</td>\n",
       "      <td>2.5</td>\n",
       "      <td>0.7</td>\n",
       "      <td>34</td>\n",
       "      <td>40</td>\n",
       "      <td>105</td>\n",
       "      <td>100</td>\n",
       "      <td>noband</td>\n",
       "    </tr>\n",
       "    <tr>\n",
       "      <th>2</th>\n",
       "      <td>19910104</td>\n",
       "      <td>B7</td>\n",
       "      <td>MODMAT</td>\n",
       "      <td>47201</td>\n",
       "      <td>YES</td>\n",
       "      <td>KEY</td>\n",
       "      <td>YES</td>\n",
       "      <td>BENTON</td>\n",
       "      <td>GALLATIN</td>\n",
       "      <td>UNCOATED</td>\n",
       "      <td>...</td>\n",
       "      <td>39.8</td>\n",
       "      <td>0</td>\n",
       "      <td>0</td>\n",
       "      <td>2.8</td>\n",
       "      <td>0.9</td>\n",
       "      <td>40</td>\n",
       "      <td>40</td>\n",
       "      <td>103.87</td>\n",
       "      <td>100</td>\n",
       "      <td>noband</td>\n",
       "    </tr>\n",
       "    <tr>\n",
       "      <th>3</th>\n",
       "      <td>19910104</td>\n",
       "      <td>T133</td>\n",
       "      <td>MASSEY</td>\n",
       "      <td>39039</td>\n",
       "      <td>YES</td>\n",
       "      <td>KEY</td>\n",
       "      <td>YES</td>\n",
       "      <td>BENTON</td>\n",
       "      <td>GALLATIN</td>\n",
       "      <td>UNCOATED</td>\n",
       "      <td>...</td>\n",
       "      <td>38.8</td>\n",
       "      <td>0</td>\n",
       "      <td>0</td>\n",
       "      <td>2.5</td>\n",
       "      <td>1.3</td>\n",
       "      <td>40</td>\n",
       "      <td>40</td>\n",
       "      <td>108.06</td>\n",
       "      <td>100</td>\n",
       "      <td>noband</td>\n",
       "    </tr>\n",
       "    <tr>\n",
       "      <th>4</th>\n",
       "      <td>19910111</td>\n",
       "      <td>J34</td>\n",
       "      <td>KMART</td>\n",
       "      <td>37351</td>\n",
       "      <td>NO</td>\n",
       "      <td>KEY</td>\n",
       "      <td>YES</td>\n",
       "      <td>BENTON</td>\n",
       "      <td>GALLATIN</td>\n",
       "      <td>UNCOATED</td>\n",
       "      <td>...</td>\n",
       "      <td>42.5</td>\n",
       "      <td>5</td>\n",
       "      <td>0</td>\n",
       "      <td>2.3</td>\n",
       "      <td>0.6</td>\n",
       "      <td>35</td>\n",
       "      <td>40</td>\n",
       "      <td>106.67</td>\n",
       "      <td>100</td>\n",
       "      <td>noband</td>\n",
       "    </tr>\n",
       "  </tbody>\n",
       "</table>\n",
       "<p>5 rows × 40 columns</p>\n",
       "</div>"
      ],
      "text/plain": [
       "   timestamp cylinder_number customer job_number grain_screened ink_color  \\\n",
       "0   19910108            X126  TVGUIDE      25503            YES       KEY   \n",
       "1   19910109            X266  TVGUIDE      25503            YES       KEY   \n",
       "2   19910104              B7   MODMAT      47201            YES       KEY   \n",
       "3   19910104            T133   MASSEY      39039            YES       KEY   \n",
       "4   19910111             J34    KMART      37351             NO       KEY   \n",
       "\n",
       "  proof_on_ctd_ink blade_mfg cylinder_division paper_type  ... solvent_pct  \\\n",
       "0              YES    BENTON          GALLATIN   UNCOATED  ...        36.4   \n",
       "1              YES    BENTON          GALLATIN   UNCOATED  ...        38.5   \n",
       "2              YES    BENTON          GALLATIN   UNCOATED  ...        39.8   \n",
       "3              YES    BENTON          GALLATIN   UNCOATED  ...        38.8   \n",
       "4              YES    BENTON          GALLATIN   UNCOATED  ...        42.5   \n",
       "\n",
       "  ESA_Voltage ESA_Amperage  wax hardener roller_durometer  current_density  \\\n",
       "0           0            0  2.5        1               34               40   \n",
       "1           0            0  2.5      0.7               34               40   \n",
       "2           0            0  2.8      0.9               40               40   \n",
       "3           0            0  2.5      1.3               40               40   \n",
       "4           5            0  2.3      0.6               35               40   \n",
       "\n",
       "  anode_space_ratio chrome_content band_type  \n",
       "0               105            100      band  \n",
       "1               105            100    noband  \n",
       "2            103.87            100    noband  \n",
       "3            108.06            100    noband  \n",
       "4            106.67            100    noband  \n",
       "\n",
       "[5 rows x 40 columns]"
      ]
     },
     "execution_count": 14,
     "metadata": {},
     "output_type": "execute_result"
    }
   ],
   "source": [
    "df.head()"
   ]
  },
  {
   "cell_type": "code",
   "execution_count": 15,
   "metadata": {},
   "outputs": [],
   "source": [
    "#df['job_number'].astype(float).mean()\n",
    "\n",
    "for col in num_col:\n",
    "    mean_value = df[col].astype(float).mean()\n",
    "    df[col].replace(np.nan,mean_value,inplace=True)"
   ]
  },
  {
   "cell_type": "code",
   "execution_count": 16,
   "metadata": {},
   "outputs": [],
   "source": [
    "for col in num_col:\n",
    "    df[col] = df[col].astype(float)"
   ]
  },
  {
   "cell_type": "code",
   "execution_count": 17,
   "metadata": {},
   "outputs": [
    {
     "data": {
      "text/html": [
       "<div>\n",
       "<style scoped>\n",
       "    .dataframe tbody tr th:only-of-type {\n",
       "        vertical-align: middle;\n",
       "    }\n",
       "\n",
       "    .dataframe tbody tr th {\n",
       "        vertical-align: top;\n",
       "    }\n",
       "\n",
       "    .dataframe thead th {\n",
       "        text-align: right;\n",
       "    }\n",
       "</style>\n",
       "<table border=\"1\" class=\"dataframe\">\n",
       "  <thead>\n",
       "    <tr style=\"text-align: right;\">\n",
       "      <th></th>\n",
       "      <th>timestamp</th>\n",
       "      <th>cylinder_number</th>\n",
       "      <th>customer</th>\n",
       "      <th>job_number</th>\n",
       "      <th>grain_screened</th>\n",
       "      <th>ink_color</th>\n",
       "      <th>proof_on_ctd_ink</th>\n",
       "      <th>blade_mfg</th>\n",
       "      <th>cylinder_division</th>\n",
       "      <th>paper_type</th>\n",
       "      <th>...</th>\n",
       "      <th>solvent_pct</th>\n",
       "      <th>ESA_Voltage</th>\n",
       "      <th>ESA_Amperage</th>\n",
       "      <th>wax</th>\n",
       "      <th>hardener</th>\n",
       "      <th>roller_durometer</th>\n",
       "      <th>current_density</th>\n",
       "      <th>anode_space_ratio</th>\n",
       "      <th>chrome_content</th>\n",
       "      <th>band_type</th>\n",
       "    </tr>\n",
       "  </thead>\n",
       "  <tbody>\n",
       "    <tr>\n",
       "      <th>0</th>\n",
       "      <td>19910108.0</td>\n",
       "      <td>X126</td>\n",
       "      <td>TVGUIDE</td>\n",
       "      <td>25503.0</td>\n",
       "      <td>YES</td>\n",
       "      <td>KEY</td>\n",
       "      <td>YES</td>\n",
       "      <td>BENTON</td>\n",
       "      <td>GALLATIN</td>\n",
       "      <td>UNCOATED</td>\n",
       "      <td>...</td>\n",
       "      <td>36.4</td>\n",
       "      <td>0.0</td>\n",
       "      <td>0.0</td>\n",
       "      <td>2.5</td>\n",
       "      <td>1.0</td>\n",
       "      <td>34.0</td>\n",
       "      <td>40.0</td>\n",
       "      <td>105.00</td>\n",
       "      <td>100.0</td>\n",
       "      <td>band</td>\n",
       "    </tr>\n",
       "    <tr>\n",
       "      <th>1</th>\n",
       "      <td>19910109.0</td>\n",
       "      <td>X266</td>\n",
       "      <td>TVGUIDE</td>\n",
       "      <td>25503.0</td>\n",
       "      <td>YES</td>\n",
       "      <td>KEY</td>\n",
       "      <td>YES</td>\n",
       "      <td>BENTON</td>\n",
       "      <td>GALLATIN</td>\n",
       "      <td>UNCOATED</td>\n",
       "      <td>...</td>\n",
       "      <td>38.5</td>\n",
       "      <td>0.0</td>\n",
       "      <td>0.0</td>\n",
       "      <td>2.5</td>\n",
       "      <td>0.7</td>\n",
       "      <td>34.0</td>\n",
       "      <td>40.0</td>\n",
       "      <td>105.00</td>\n",
       "      <td>100.0</td>\n",
       "      <td>noband</td>\n",
       "    </tr>\n",
       "    <tr>\n",
       "      <th>2</th>\n",
       "      <td>19910104.0</td>\n",
       "      <td>B7</td>\n",
       "      <td>MODMAT</td>\n",
       "      <td>47201.0</td>\n",
       "      <td>YES</td>\n",
       "      <td>KEY</td>\n",
       "      <td>YES</td>\n",
       "      <td>BENTON</td>\n",
       "      <td>GALLATIN</td>\n",
       "      <td>UNCOATED</td>\n",
       "      <td>...</td>\n",
       "      <td>39.8</td>\n",
       "      <td>0.0</td>\n",
       "      <td>0.0</td>\n",
       "      <td>2.8</td>\n",
       "      <td>0.9</td>\n",
       "      <td>40.0</td>\n",
       "      <td>40.0</td>\n",
       "      <td>103.87</td>\n",
       "      <td>100.0</td>\n",
       "      <td>noband</td>\n",
       "    </tr>\n",
       "    <tr>\n",
       "      <th>3</th>\n",
       "      <td>19910104.0</td>\n",
       "      <td>T133</td>\n",
       "      <td>MASSEY</td>\n",
       "      <td>39039.0</td>\n",
       "      <td>YES</td>\n",
       "      <td>KEY</td>\n",
       "      <td>YES</td>\n",
       "      <td>BENTON</td>\n",
       "      <td>GALLATIN</td>\n",
       "      <td>UNCOATED</td>\n",
       "      <td>...</td>\n",
       "      <td>38.8</td>\n",
       "      <td>0.0</td>\n",
       "      <td>0.0</td>\n",
       "      <td>2.5</td>\n",
       "      <td>1.3</td>\n",
       "      <td>40.0</td>\n",
       "      <td>40.0</td>\n",
       "      <td>108.06</td>\n",
       "      <td>100.0</td>\n",
       "      <td>noband</td>\n",
       "    </tr>\n",
       "    <tr>\n",
       "      <th>4</th>\n",
       "      <td>19910111.0</td>\n",
       "      <td>J34</td>\n",
       "      <td>KMART</td>\n",
       "      <td>37351.0</td>\n",
       "      <td>NO</td>\n",
       "      <td>KEY</td>\n",
       "      <td>YES</td>\n",
       "      <td>BENTON</td>\n",
       "      <td>GALLATIN</td>\n",
       "      <td>UNCOATED</td>\n",
       "      <td>...</td>\n",
       "      <td>42.5</td>\n",
       "      <td>5.0</td>\n",
       "      <td>0.0</td>\n",
       "      <td>2.3</td>\n",
       "      <td>0.6</td>\n",
       "      <td>35.0</td>\n",
       "      <td>40.0</td>\n",
       "      <td>106.67</td>\n",
       "      <td>100.0</td>\n",
       "      <td>noband</td>\n",
       "    </tr>\n",
       "  </tbody>\n",
       "</table>\n",
       "<p>5 rows × 40 columns</p>\n",
       "</div>"
      ],
      "text/plain": [
       "    timestamp cylinder_number customer  job_number grain_screened ink_color  \\\n",
       "0  19910108.0            X126  TVGUIDE     25503.0            YES       KEY   \n",
       "1  19910109.0            X266  TVGUIDE     25503.0            YES       KEY   \n",
       "2  19910104.0              B7   MODMAT     47201.0            YES       KEY   \n",
       "3  19910104.0            T133   MASSEY     39039.0            YES       KEY   \n",
       "4  19910111.0             J34    KMART     37351.0             NO       KEY   \n",
       "\n",
       "  proof_on_ctd_ink blade_mfg cylinder_division paper_type  ... solvent_pct  \\\n",
       "0              YES    BENTON          GALLATIN   UNCOATED  ...        36.4   \n",
       "1              YES    BENTON          GALLATIN   UNCOATED  ...        38.5   \n",
       "2              YES    BENTON          GALLATIN   UNCOATED  ...        39.8   \n",
       "3              YES    BENTON          GALLATIN   UNCOATED  ...        38.8   \n",
       "4              YES    BENTON          GALLATIN   UNCOATED  ...        42.5   \n",
       "\n",
       "  ESA_Voltage ESA_Amperage  wax hardener  roller_durometer  current_density  \\\n",
       "0         0.0          0.0  2.5      1.0              34.0             40.0   \n",
       "1         0.0          0.0  2.5      0.7              34.0             40.0   \n",
       "2         0.0          0.0  2.8      0.9              40.0             40.0   \n",
       "3         0.0          0.0  2.5      1.3              40.0             40.0   \n",
       "4         5.0          0.0  2.3      0.6              35.0             40.0   \n",
       "\n",
       "  anode_space_ratio chrome_content  band_type  \n",
       "0            105.00          100.0       band  \n",
       "1            105.00          100.0     noband  \n",
       "2            103.87          100.0     noband  \n",
       "3            108.06          100.0     noband  \n",
       "4            106.67          100.0     noband  \n",
       "\n",
       "[5 rows x 40 columns]"
      ]
     },
     "execution_count": 17,
     "metadata": {},
     "output_type": "execute_result"
    }
   ],
   "source": [
    "df.head()"
   ]
  },
  {
   "cell_type": "code",
   "execution_count": 18,
   "metadata": {},
   "outputs": [],
   "source": [
    "df.drop(['timestamp'],axis = 1, inplace = True)"
   ]
  },
  {
   "cell_type": "code",
   "execution_count": 19,
   "metadata": {},
   "outputs": [],
   "source": [
    "df.drop(['cylinder_number'],axis = 1, inplace = True)"
   ]
  },
  {
   "cell_type": "code",
   "execution_count": 20,
   "metadata": {},
   "outputs": [],
   "source": [
    "df.drop(['customer'],axis = 1, inplace = True)"
   ]
  },
  {
   "cell_type": "code",
   "execution_count": 21,
   "metadata": {},
   "outputs": [],
   "source": [
    "df.drop(['job_number'],axis = 1, inplace = True)"
   ]
  },
  {
   "cell_type": "code",
   "execution_count": 23,
   "metadata": {},
   "outputs": [
    {
     "name": "stdout",
     "output_type": "stream",
     "text": [
      "NO     281\n",
      "YES    210\n",
      "?       49\n",
      "45       1\n",
      "Name: grain_screened, dtype: int64\n",
      "KEY    495\n",
      "key     38\n",
      "KeY      7\n",
      "0.2      1\n",
      "Name: ink_color, dtype: int64\n",
      "YES    461\n",
      "?       57\n",
      "NO      22\n",
      "17       1\n",
      "Name: proof_on_ctd_ink, dtype: int64\n",
      "BENTON      479\n",
      "?            60\n",
      "UDDEHOLM      1\n",
      "84            1\n",
      "Name: blade_mfg, dtype: int64\n",
      "GALLATIN    502\n",
      "gallatin     38\n",
      "0.8125        1\n",
      "Name: cylinder_division, dtype: int64\n",
      "UNCOATED    289\n",
      "COATED      213\n",
      "super        23\n",
      "coated       10\n",
      "uncoated      5\n",
      "27            1\n",
      "Name: paper_type, dtype: int64\n",
      "COATED      278\n",
      "UNCOATED    209\n",
      "uncoated     22\n",
      "COVER        15\n",
      "coated       13\n",
      "cover         3\n",
      "?             1\n",
      "Name: ink_type, dtype: int64\n",
      "NO      500\n",
      "?        25\n",
      "no       13\n",
      "YES       2\n",
      "1865      1\n",
      "Name: direct_steam, dtype: int64\n",
      "LINE      468\n",
      "?          56\n",
      "XYLOL      15\n",
      "NAPTHA      2\n",
      "Name: solvent_type, dtype: int64\n",
      "YES    357\n",
      "NO     134\n",
      "yes     29\n",
      "?       19\n",
      "no       2\n",
      "Name: type_on_cylinder, dtype: int64\n",
      "Motter94     238\n",
      "WoodHoe70    176\n",
      "Albert70      78\n",
      "Motter70      48\n",
      "?              1\n",
      "Name: press_type, dtype: int64\n",
      "816.000000    103\n",
      "815.000000     89\n",
      "821.000000     77\n",
      "824.000000     63\n",
      "802.000000     62\n",
      "827.000000     59\n",
      "813.000000     48\n",
      "828.000000     39\n",
      "817.675926      1\n",
      "Name: press, dtype: int64\n",
      "2.0     247\n",
      "9.0     148\n",
      "7.0      85\n",
      "1.0      34\n",
      "5.0      13\n",
      "10.0      9\n",
      "6.0       4\n",
      "1.5       1\n",
      "Name: unit_number, dtype: int64\n",
      "TABLOID    281\n",
      "CATALOG    164\n",
      "SPIEGEL     54\n",
      "tabloid     17\n",
      "catalog     14\n",
      "spiegel      6\n",
      "?            3\n",
      "0.7          1\n",
      "Name: cylinder_size, dtype: int64\n",
      "NorthUS         189\n",
      "CANADIAN        158\n",
      "?               156\n",
      "mideuropean      15\n",
      "SCANDANAVIAN     13\n",
      "SouthUS           8\n",
      "CANAdiAN          1\n",
      "Name: paper_mill_location, dtype: int64\n",
      "1910.000000    331\n",
      "1911.000000    190\n",
      "1906.781609     19\n",
      "40.000000        1\n",
      "Name: plating_tank, dtype: int64\n",
      "40.000000     111\n",
      "50.000000      76\n",
      "45.000000      58\n",
      "45.167901      55\n",
      "30.000000      34\n",
      "35.000000      34\n",
      "55.000000      31\n",
      "60.000000      22\n",
      "47.500000      22\n",
      "37.500000      16\n",
      "65.000000      13\n",
      "42.500000      12\n",
      "52.500000      12\n",
      "57.500000       9\n",
      "32.500000       9\n",
      "52.000000       4\n",
      "42.000000       3\n",
      "47.000000       3\n",
      "62.000000       2\n",
      "67.500000       2\n",
      "25.000000       2\n",
      "62.500000       2\n",
      "70.000000       2\n",
      "32.000000       2\n",
      "109.100000      1\n",
      "55.500000       1\n",
      "27.500000       1\n",
      "49.000000       1\n",
      "72.500000       1\n",
      "Name: proof_cut, dtype: int64\n",
      "54.000000    51\n",
      "43.000000    44\n",
      "56.000000    34\n",
      "42.000000    34\n",
      "50.000000    30\n",
      "47.000000    21\n",
      "60.000000    21\n",
      "45.000000    20\n",
      "58.000000    19\n",
      "41.000000    19\n",
      "40.000000    18\n",
      "48.000000    18\n",
      "46.000000    17\n",
      "62.000000    16\n",
      "52.000000    16\n",
      "55.000000    16\n",
      "53.000000    15\n",
      "44.000000    15\n",
      "49.000000    13\n",
      "38.000000     9\n",
      "65.000000     9\n",
      "59.000000     9\n",
      "61.000000     8\n",
      "64.000000     8\n",
      "68.000000     7\n",
      "39.000000     7\n",
      "51.000000     7\n",
      "69.000000     6\n",
      "51.031776     6\n",
      "57.000000     5\n",
      "63.000000     5\n",
      "66.000000     4\n",
      "67.000000     4\n",
      "37.000000     3\n",
      "70.000000     2\n",
      "35.000000     2\n",
      "95.000000     1\n",
      "72.000000     1\n",
      "36.000000     1\n",
      "Name: viscosity, dtype: int64\n",
      "0.200000    132\n",
      "0.300000    101\n",
      "0.233000     73\n",
      "0.267000     69\n",
      "0.333000     51\n",
      "0.275857     29\n",
      "0.367000     28\n",
      "0.400000     23\n",
      "0.433000     10\n",
      "0.350000      6\n",
      "0.167000      5\n",
      "0.500000      5\n",
      "0.283000      2\n",
      "0.467000      2\n",
      "0.250000      2\n",
      "0.217000      1\n",
      "0.533000      1\n",
      "0.133000      1\n",
      "Name: caliper, dtype: int64\n",
      "15.00    92\n",
      "16.00    74\n",
      "14.00    51\n",
      "15.50    36\n",
      "17.00    30\n",
      "         ..\n",
      "13.86     1\n",
      "16.53     1\n",
      "13.34     1\n",
      "16.66     1\n",
      "13.90     1\n",
      "Name: ink_temperature, Length: 66, dtype: int64\n",
      "80.000000     79\n",
      "70.000000     53\n",
      "78.000000     48\n",
      "75.000000     36\n",
      "76.000000     34\n",
      "72.000000     29\n",
      "82.000000     27\n",
      "74.000000     23\n",
      "85.000000     19\n",
      "84.000000     19\n",
      "88.000000     18\n",
      "79.000000     13\n",
      "90.000000     12\n",
      "68.000000     12\n",
      "86.000000     11\n",
      "73.000000     10\n",
      "87.000000      9\n",
      "100.000000     7\n",
      "65.000000      7\n",
      "64.000000      7\n",
      "71.000000      6\n",
      "94.000000      6\n",
      "92.000000      5\n",
      "77.000000      5\n",
      "98.000000      5\n",
      "83.000000      4\n",
      "89.000000      4\n",
      "81.000000      4\n",
      "69.000000      4\n",
      "78.539033      3\n",
      "91.000000      3\n",
      "96.000000      3\n",
      "95.000000      3\n",
      "66.000000      2\n",
      "60.000000      2\n",
      "93.000000      2\n",
      "57.000000      1\n",
      "58.000000      1\n",
      "63.000000      1\n",
      "105.000000     1\n",
      "103.000000     1\n",
      "67.000000      1\n",
      "62.000000      1\n",
      "Name: humifity, dtype: int64\n",
      "0.750000    183\n",
      "0.625000     97\n",
      "1.000000     76\n",
      "0.500000     35\n",
      "0.812500     33\n",
      "0.724333     32\n",
      "0.250000     16\n",
      "0.875000     16\n",
      "0.562500     15\n",
      "0.375000      9\n",
      "0.312500      8\n",
      "0.937500      6\n",
      "1.250000      5\n",
      "1.125000      3\n",
      "0.187500      2\n",
      "0.437500      2\n",
      "0.812000      1\n",
      "0.817500      1\n",
      "0.056250      1\n",
      "Name: roughness, dtype: int64\n",
      "30.000000    121\n",
      "30.907563     65\n",
      "20.000000     58\n",
      "25.000000     50\n",
      "28.000000     46\n",
      "50.000000     24\n",
      "32.000000     23\n",
      "35.000000     19\n",
      "40.000000     14\n",
      "34.000000     14\n",
      "26.000000     12\n",
      "24.000000     12\n",
      "22.000000     11\n",
      "45.000000      8\n",
      "55.000000      7\n",
      "33.000000      6\n",
      "29.000000      6\n",
      "38.000000      6\n",
      "27.000000      6\n",
      "60.000000      5\n",
      "23.000000      4\n",
      "31.000000      3\n",
      "46.000000      2\n",
      "16.000000      2\n",
      "56.000000      2\n",
      "42.000000      2\n",
      "58.000000      2\n",
      "52.000000      2\n",
      "18.000000      1\n",
      "41.000000      1\n",
      "43.000000      1\n",
      "47.000000      1\n",
      "21.000000      1\n",
      "70.000000      1\n",
      "49.000000      1\n",
      "48.000000      1\n",
      "36.000000      1\n",
      "Name: blade_pressure, dtype: int64\n",
      "0.000000     213\n",
      "5.780579      57\n",
      "5.600000      19\n",
      "10.500000     13\n",
      "3.400000       9\n",
      "            ... \n",
      "17.100000      1\n",
      "12.500000      1\n",
      "9.000000       1\n",
      "2.500000       1\n",
      "6.500000       1\n",
      "Name: varnish_pct, Length: 123, dtype: int64\n",
      "2000.0    40\n",
      "1800.0    40\n",
      "1600.0    39\n",
      "1700.0    36\n",
      "1900.0    33\n",
      "          ..\n",
      "2398.0     1\n",
      "1975.0     1\n",
      "1570.0     1\n",
      "1875.0     1\n",
      "1565.0     1\n",
      "Name: press_speed, Length: 83, dtype: int64\n",
      "58.800000    91\n",
      "55.638533    57\n",
      "62.500000    51\n",
      "55.600000    22\n",
      "52.600000    21\n",
      "             ..\n",
      "52.800000     1\n",
      "52.200000     1\n",
      "45.400000     1\n",
      "56.700000     1\n",
      "64.100000     1\n",
      "Name: ink_pct, Length: 82, dtype: int64\n",
      "41.200000    89\n",
      "38.567645    57\n",
      "37.500000    55\n",
      "38.900000    18\n",
      "39.800000    14\n",
      "             ..\n",
      "35.200000     1\n",
      "36.700000     1\n",
      "32.700000     1\n",
      "41.000000     1\n",
      "41.800000     1\n",
      "Name: solvent_pct, Length: 116, dtype: int64\n",
      "0.000000     320\n",
      "1.319358      58\n",
      "2.000000      33\n",
      "4.000000      29\n",
      "1.000000      24\n",
      "3.000000      23\n",
      "5.000000      20\n",
      "8.000000       9\n",
      "10.000000      7\n",
      "6.000000       6\n",
      "12.000000      4\n",
      "1.500000       2\n",
      "4.500000       1\n",
      "9.000000       1\n",
      "0.500000       1\n",
      "0.750000       1\n",
      "2.500000       1\n",
      "16.000000      1\n",
      "Name: ESA_Voltage, dtype: int64\n",
      "0.000000    480\n",
      "0.038144     56\n",
      "4.000000      3\n",
      "6.000000      1\n",
      "0.500000      1\n",
      "Name: ESA_Amperage, dtype: int64\n",
      "2.500000    251\n",
      "3.000000     87\n",
      "2.000000     35\n",
      "1.500000     19\n",
      "2.700000     16\n",
      "2.400000     12\n",
      "2.800000     12\n",
      "2.300000     11\n",
      "2.900000     11\n",
      "2.600000     11\n",
      "1.000000      9\n",
      "2.400938      8\n",
      "2.100000      8\n",
      "0.000000      8\n",
      "1.700000      8\n",
      "2.200000      7\n",
      "1.800000      5\n",
      "2.750000      3\n",
      "1.400000      3\n",
      "1.200000      3\n",
      "1.600000      2\n",
      "1.300000      2\n",
      "0.700000      2\n",
      "1.100000      1\n",
      "0.500000      1\n",
      "1.750000      1\n",
      "2.250000      1\n",
      "1.900000      1\n",
      "0.800000      1\n",
      "2.850000      1\n",
      "3.100000      1\n",
      "Name: wax, dtype: int64\n",
      "1.000000    194\n",
      "0.800000     49\n",
      "0.900000     47\n",
      "0.700000     31\n",
      "0.600000     31\n",
      "1.500000     30\n",
      "1.100000     25\n",
      "0.500000     24\n",
      "1.300000     23\n",
      "1.200000     19\n",
      "0.987594      9\n",
      "2.000000      8\n",
      "0.000000      8\n",
      "1.400000      6\n",
      "0.400000      5\n",
      "1.800000      5\n",
      "1.700000      4\n",
      "0.200000      3\n",
      "0.850000      3\n",
      "0.750000      3\n",
      "2.500000      2\n",
      "1.250000      2\n",
      "2.300000      2\n",
      "0.300000      2\n",
      "3.000000      1\n",
      "0.650000      1\n",
      "2.100000      1\n",
      "2.800000      1\n",
      "1.350000      1\n",
      "2.200000      1\n",
      "Name: hardener, dtype: int64\n",
      "30.000000    130\n",
      "40.000000    125\n",
      "33.000000     66\n",
      "35.000000     59\n",
      "34.775258     56\n",
      "34.000000     53\n",
      "38.000000     21\n",
      "28.000000     11\n",
      "32.000000      9\n",
      "45.000000      4\n",
      "50.000000      3\n",
      "38.500000      2\n",
      "60.000000      2\n",
      "Name: roller_durometer, dtype: int64\n",
      "40.000000    430\n",
      "35.000000     64\n",
      "33.000000     21\n",
      "39.056391      9\n",
      "45.000000      6\n",
      "30.000000      6\n",
      "37.000000      3\n",
      "42.000000      2\n",
      "Name: current_density, dtype: int64\n",
      "100.000    125\n",
      "106.450     42\n",
      "103.125     35\n",
      "103.220     33\n",
      "106.250     17\n",
      "          ... \n",
      "117.700      1\n",
      "96.600       1\n",
      "105.700      1\n",
      "93.600       1\n",
      "102.770      1\n",
      "Name: anode_space_ratio, Length: 81, dtype: int64\n",
      "100.000000    510\n",
      "90.000000      17\n",
      "95.000000       9\n",
      "99.598881       5\n",
      "Name: chrome_content, dtype: int64\n",
      "noband    312\n",
      "band      227\n",
      "Name: band_type, dtype: int64\n"
     ]
    }
   ],
   "source": [
    "col_names = ['grain_screened',\n",
    "            'ink_color','proof_on_ctd_ink','blade_mfg','cylinder_division','paper_type',\n",
    "            'ink_type', 'direct_steam', 'solvent_type', 'type_on_cylinder', 'press_type',\n",
    "            'press','unit_number','cylinder_size','paper_mill_location','plating_tank',\n",
    "            'proof_cut','viscosity','caliper','ink_temperature','humifity','roughness',\n",
    "            'blade_pressure','varnish_pct','press_speed','ink_pct','solvent_pct',\n",
    "            'ESA_Voltage','ESA_Amperage','wax','hardener','roller_durometer','current_density',\n",
    "            'anode_space_ratio','chrome_content','band_type']\n",
    "for col in col_names:\n",
    "    print(df[col].value_counts())"
   ]
  },
  {
   "cell_type": "code",
   "execution_count": 24,
   "metadata": {},
   "outputs": [
    {
     "data": {
      "text/plain": [
       "grain_screened         0\n",
       "ink_color              0\n",
       "proof_on_ctd_ink       0\n",
       "blade_mfg              0\n",
       "cylinder_division      0\n",
       "paper_type             0\n",
       "ink_type               0\n",
       "direct_steam           0\n",
       "solvent_type           0\n",
       "type_on_cylinder       0\n",
       "press_type             0\n",
       "press                  0\n",
       "unit_number            0\n",
       "cylinder_size          1\n",
       "paper_mill_location    1\n",
       "plating_tank           0\n",
       "proof_cut              0\n",
       "viscosity              0\n",
       "caliper                0\n",
       "ink_temperature        0\n",
       "humifity               0\n",
       "roughness              0\n",
       "blade_pressure         0\n",
       "varnish_pct            0\n",
       "press_speed            0\n",
       "ink_pct                0\n",
       "solvent_pct            0\n",
       "ESA_Voltage            0\n",
       "ESA_Amperage           0\n",
       "wax                    0\n",
       "hardener               0\n",
       "roller_durometer       0\n",
       "current_density        0\n",
       "anode_space_ratio      0\n",
       "chrome_content         0\n",
       "band_type              2\n",
       "dtype: int64"
      ]
     },
     "execution_count": 24,
     "metadata": {},
     "output_type": "execute_result"
    }
   ],
   "source": [
    "df.isnull().sum()"
   ]
  },
  {
   "cell_type": "code",
   "execution_count": 25,
   "metadata": {},
   "outputs": [
    {
     "data": {
      "text/html": [
       "<div>\n",
       "<style scoped>\n",
       "    .dataframe tbody tr th:only-of-type {\n",
       "        vertical-align: middle;\n",
       "    }\n",
       "\n",
       "    .dataframe tbody tr th {\n",
       "        vertical-align: top;\n",
       "    }\n",
       "\n",
       "    .dataframe thead th {\n",
       "        text-align: right;\n",
       "    }\n",
       "</style>\n",
       "<table border=\"1\" class=\"dataframe\">\n",
       "  <thead>\n",
       "    <tr style=\"text-align: right;\">\n",
       "      <th></th>\n",
       "      <th>grain_screened</th>\n",
       "      <th>ink_color</th>\n",
       "      <th>proof_on_ctd_ink</th>\n",
       "      <th>blade_mfg</th>\n",
       "      <th>cylinder_division</th>\n",
       "      <th>paper_type</th>\n",
       "      <th>ink_type</th>\n",
       "      <th>direct_steam</th>\n",
       "      <th>solvent_type</th>\n",
       "      <th>type_on_cylinder</th>\n",
       "      <th>...</th>\n",
       "      <th>solvent_pct</th>\n",
       "      <th>ESA_Voltage</th>\n",
       "      <th>ESA_Amperage</th>\n",
       "      <th>wax</th>\n",
       "      <th>hardener</th>\n",
       "      <th>roller_durometer</th>\n",
       "      <th>current_density</th>\n",
       "      <th>anode_space_ratio</th>\n",
       "      <th>chrome_content</th>\n",
       "      <th>band_type</th>\n",
       "    </tr>\n",
       "  </thead>\n",
       "  <tbody>\n",
       "    <tr>\n",
       "      <th>358</th>\n",
       "      <td>NO</td>\n",
       "      <td>KEY</td>\n",
       "      <td>YES</td>\n",
       "      <td>BENTON</td>\n",
       "      <td>GALLATIN</td>\n",
       "      <td>COATED</td>\n",
       "      <td>COATED</td>\n",
       "      <td>NO</td>\n",
       "      <td>LINE</td>\n",
       "      <td>YES</td>\n",
       "      <td>...</td>\n",
       "      <td>37.5</td>\n",
       "      <td>0.0</td>\n",
       "      <td>0.0</td>\n",
       "      <td>2.5</td>\n",
       "      <td>1.1</td>\n",
       "      <td>30.0</td>\n",
       "      <td>40.0</td>\n",
       "      <td>100.0</td>\n",
       "      <td>100.0</td>\n",
       "      <td>band</td>\n",
       "    </tr>\n",
       "  </tbody>\n",
       "</table>\n",
       "<p>1 rows × 36 columns</p>\n",
       "</div>"
      ],
      "text/plain": [
       "    grain_screened ink_color proof_on_ctd_ink blade_mfg cylinder_division  \\\n",
       "358             NO       KEY              YES    BENTON          GALLATIN   \n",
       "\n",
       "    paper_type ink_type direct_steam solvent_type type_on_cylinder  ...  \\\n",
       "358     COATED   COATED           NO         LINE              YES  ...   \n",
       "\n",
       "    solvent_pct  ESA_Voltage  ESA_Amperage  wax hardener  roller_durometer  \\\n",
       "358        37.5          0.0           0.0  2.5      1.1              30.0   \n",
       "\n",
       "     current_density  anode_space_ratio  chrome_content  band_type  \n",
       "358             40.0              100.0           100.0       band  \n",
       "\n",
       "[1 rows x 36 columns]"
      ]
     },
     "execution_count": 25,
     "metadata": {},
     "output_type": "execute_result"
    }
   ],
   "source": [
    "#check for duplicates\n",
    "df.loc[df.duplicated()]"
   ]
  },
  {
   "cell_type": "code",
   "execution_count": 26,
   "metadata": {},
   "outputs": [
    {
     "name": "stdout",
     "output_type": "stream",
     "text": [
      "There are 14 categorical vairables\n",
      "\n",
      "The categorical variables are : ['grain_screened', 'ink_color', 'proof_on_ctd_ink', 'blade_mfg', 'cylinder_division', 'paper_type', 'ink_type', 'direct_steam', 'solvent_type', 'type_on_cylinder', 'press_type', 'cylinder_size', 'paper_mill_location', 'band_type']\n"
     ]
    }
   ],
   "source": [
    "categorical = [var for var in df.columns if df.dtypes[var]=='O']\n",
    "print(\"There are {} categorical vairables\\n\".format(len(categorical)))\n",
    "print(\"The categorical variables are :\",categorical)"
   ]
  },
  {
   "cell_type": "code",
   "execution_count": 27,
   "metadata": {},
   "outputs": [
    {
     "data": {
      "text/plain": [
       "grain_screened         0\n",
       "ink_color              0\n",
       "proof_on_ctd_ink       0\n",
       "blade_mfg              0\n",
       "cylinder_division      0\n",
       "paper_type             0\n",
       "ink_type               0\n",
       "direct_steam           0\n",
       "solvent_type           0\n",
       "type_on_cylinder       0\n",
       "press_type             0\n",
       "cylinder_size          1\n",
       "paper_mill_location    1\n",
       "band_type              2\n",
       "dtype: int64"
      ]
     },
     "execution_count": 27,
     "metadata": {},
     "output_type": "execute_result"
    }
   ],
   "source": [
    "#check missing values in categorical variables\n",
    "df[categorical].isnull().sum()"
   ]
  },
  {
   "cell_type": "code",
   "execution_count": 28,
   "metadata": {},
   "outputs": [
    {
     "data": {
      "text/plain": [
       "True"
      ]
     },
     "execution_count": 28,
     "metadata": {},
     "output_type": "execute_result"
    }
   ],
   "source": [
    "df.isnull().values.any()"
   ]
  },
  {
   "cell_type": "code",
   "execution_count": 29,
   "metadata": {},
   "outputs": [],
   "source": [
    "for col in categorical:\n",
    "    df[col].fillna(df[col].mode()[0],inplace = True)"
   ]
  },
  {
   "cell_type": "code",
   "execution_count": 30,
   "metadata": {},
   "outputs": [
    {
     "data": {
      "text/plain": [
       "False"
      ]
     },
     "execution_count": 30,
     "metadata": {},
     "output_type": "execute_result"
    }
   ],
   "source": [
    "df.isnull().values.any()"
   ]
  },
  {
   "cell_type": "code",
   "execution_count": 31,
   "metadata": {},
   "outputs": [
    {
     "data": {
      "text/plain": [
       "Text(0.5, 1.0, 'Missing value in dataset')"
      ]
     },
     "execution_count": 31,
     "metadata": {},
     "output_type": "execute_result"
    },
    {
     "data": {
      "image/png": "[encoded data removed]",
      "text/plain": [
       "<Figure size 864x288 with 1 Axes>"
      ]
     },
     "metadata": {
      "needs_background": "light"
     },
     "output_type": "display_data"
    }
   ],
   "source": [
    "plt.figure(figsize=(12,4))\n",
    "sns.heatmap(df.isnull(),cbar=False,cmap='viridis',yticklabels=False)\n",
    "plt.title('Missing value in dataset')"
   ]
  },
  {
   "cell_type": "code",
   "execution_count": 32,
   "metadata": {},
   "outputs": [
    {
     "data": {
      "text/plain": [
       "<AxesSubplot:>"
      ]
     },
     "execution_count": 32,
     "metadata": {},
     "output_type": "execute_result"
    },
    {
     "data": {
      "image/png": "[encoded data removed]",
      "text/plain": [
       "<Figure size 432x288 with 2 Axes>"
      ]
     },
     "metadata": {
      "needs_background": "light"
     },
     "output_type": "display_data"
    }
   ],
   "source": [
    "#correlation plot\n",
    "corr = df.corr()\n",
    "sns.heatmap(corr,cmap='Wistia',annot=True)"
   ]
  },
  {
   "cell_type": "code",
   "execution_count": 33,
   "metadata": {},
   "outputs": [
    {
     "name": "stdout",
     "output_type": "stream",
     "text": [
      "There are 22 numerical variables\n",
      "\n",
      "The numerical variables are : ['press', 'unit_number', 'plating_tank', 'proof_cut', 'viscosity', 'caliper', 'ink_temperature', 'humifity', 'roughness', 'blade_pressure', 'varnish_pct', 'press_speed', 'ink_pct', 'solvent_pct', 'ESA_Voltage', 'ESA_Amperage', 'wax', 'hardener', 'roller_durometer', 'current_density', 'anode_space_ratio', 'chrome_content']\n"
     ]
    }
   ],
   "source": [
    "numerical = [var for var in df.columns if df.dtypes[var] != 'O']\n",
    "print(\"There are {} numerical variables\\n\".format(len(numerical)))\n",
    "print(\"The numerical variables are :\", numerical)"
   ]
  },
  {
   "cell_type": "code",
   "execution_count": 34,
   "metadata": {},
   "outputs": [
    {
     "data": {
      "text/plain": [
       "press                0\n",
       "unit_number          0\n",
       "plating_tank         0\n",
       "proof_cut            0\n",
       "viscosity            0\n",
       "caliper              0\n",
       "ink_temperature      0\n",
       "humifity             0\n",
       "roughness            0\n",
       "blade_pressure       0\n",
       "varnish_pct          0\n",
       "press_speed          0\n",
       "ink_pct              0\n",
       "solvent_pct          0\n",
       "ESA_Voltage          0\n",
       "ESA_Amperage         0\n",
       "wax                  0\n",
       "hardener             0\n",
       "roller_durometer     0\n",
       "current_density      0\n",
       "anode_space_ratio    0\n",
       "chrome_content       0\n",
       "dtype: int64"
      ]
     },
     "execution_count": 34,
     "metadata": {},
     "output_type": "execute_result"
    }
   ],
   "source": [
    "df[numerical].isnull().sum()"
   ]
  },
  {
   "cell_type": "code",
   "execution_count": 35,
   "metadata": {},
   "outputs": [
    {
     "data": {
      "text/plain": [
       "Text(0, 0.5, ' Unit Number ')"
      ]
     },
     "execution_count": 35,
     "metadata": {},
     "output_type": "execute_result"
    },
    {
     "data": {
      "image/png": "[encoded data removed]",
      "text/plain": [
       "<Figure size 1080x720 with 1 Axes>"
      ]
     },
     "metadata": {
      "needs_background": "light"
     },
     "output_type": "display_data"
    }
   ],
   "source": [
    "#draw boxplots\n",
    "plt.figure(figsize=(15,10))\n",
    "\n",
    "plt.subplot(2,2,1)\n",
    "fig = df.boxplot(column = 'unit_number')\n",
    "fig.set_title(' ')\n",
    "fig.set_ylabel(' Unit Number ')"
   ]
  },
  {
   "cell_type": "code",
   "execution_count": 36,
   "metadata": {},
   "outputs": [
    {
     "data": {
      "text/plain": [
       "Text(0, 0.5, ' Cylinder Band ')"
      ]
     },
     "execution_count": 36,
     "metadata": {},
     "output_type": "execute_result"
    },
    {
     "data": {
      "image/png": "[encoded data removed]",
      "text/plain": [
       "<Figure size 1080x720 with 1 Axes>"
      ]
     },
     "metadata": {
      "needs_background": "light"
     },
     "output_type": "display_data"
    }
   ],
   "source": [
    "plt.figure(figsize=(15,10))\n",
    "\n",
    "plt.subplot(2,2,1)\n",
    "fig = df.unit_number.hist(bins=10)\n",
    "fig.set_xlabel(' Unit number')\n",
    "fig.set_ylabel(' Cylinder Band ')"
   ]
  },
  {
   "cell_type": "code",
   "execution_count": 37,
   "metadata": {},
   "outputs": [],
   "source": [
    "X = df.drop(['band_type'], axis = 1)\n",
    "y = df['band_type']"
   ]
  },
  {
   "cell_type": "code",
   "execution_count": 38,
   "metadata": {},
   "outputs": [],
   "source": [
    "from sklearn.model_selection import train_test_split\n",
    "X_train, X_test, y_train, y_test = train_test_split(X,y,test_size=0.2,random_state=0)"
   ]
  },
  {
   "cell_type": "code",
   "execution_count": 39,
   "metadata": {},
   "outputs": [
    {
     "data": {
      "text/plain": [
       "((432, 35), (109, 35))"
      ]
     },
     "execution_count": 39,
     "metadata": {},
     "output_type": "execute_result"
    }
   ],
   "source": [
    "X_train.shape, X_test.shape"
   ]
  },
  {
   "cell_type": "code",
   "execution_count": 41,
   "metadata": {},
   "outputs": [],
   "source": [
    "#replace categorical values\n",
    "import category_encoders as ce\n",
    "encoder = ce.OrdinalEncoder(cols=['grain_screened', 'ink_color', 'proof_on_ctd_ink', 'blade_mfg', 'cylinder_division', 'paper_type', 'ink_type', 'direct_steam', 'solvent_type', 'type_on_cylinder', 'press_type', 'cylinder_size', 'paper_mill_location'])\n",
    "X_train = encoder.fit_transform(X_train)\n",
    "X_test = encoder.transform(X_test)"
   ]
  },
  {
   "cell_type": "code",
   "execution_count": null,
   "metadata": {},
   "outputs": [],
   "source": [
    "X_train.to_csv('xtrain.csv', index = False)"
   ]
  },
  {
   "cell_type": "code",
   "execution_count": 42,
   "metadata": {},
   "outputs": [
    {
     "data": {
      "text/plain": [
       "False"
      ]
     },
     "execution_count": 42,
     "metadata": {},
     "output_type": "execute_result"
    }
   ],
   "source": [
    "y_train.isnull().values.any()"
   ]
  },
  {
   "cell_type": "code",
   "execution_count": 43,
   "metadata": {},
   "outputs": [
    {
     "data": {
      "text/plain": [
       "DecisionTreeClassifier(max_depth=3, random_state=0)"
      ]
     },
     "execution_count": 43,
     "metadata": {},
     "output_type": "execute_result"
    }
   ],
   "source": [
    "from sklearn.tree import DecisionTreeClassifier\n",
    "\n",
    "clf_gini = DecisionTreeClassifier(criterion='gini',max_depth=3, random_state = 0)\n",
    "clf_gini.fit(X_train, y_train)"
   ]
  },
  {
   "cell_type": "code",
   "execution_count": 44,
   "metadata": {},
   "outputs": [],
   "source": [
    "y_pred_gini = clf_gini.predict(X_test)"
   ]
  },
  {
   "cell_type": "code",
   "execution_count": 45,
   "metadata": {},
   "outputs": [
    {
     "name": "stdout",
     "output_type": "stream",
     "text": [
      "Model accuracy score with criterion gini index: 0.6606\n"
     ]
    }
   ],
   "source": [
    "# check accuracy score\n",
    "from sklearn.metrics import accuracy_score\n",
    "print('Model accuracy score with criterion gini index: {0:0.4f}'.format(accuracy_score(y_test,y_pred_gini)))"
   ]
  },
  {
   "cell_type": "code",
   "execution_count": 46,
   "metadata": {},
   "outputs": [
    {
     "data": {
      "text/plain": [
       "array(['noband', 'noband', 'noband', 'noband', 'noband', 'noband',\n",
       "       'noband', 'noband', 'noband', 'noband', 'noband', 'noband',\n",
       "       'noband', 'noband', 'noband', 'noband', 'noband', 'band', 'noband',\n",
       "       'noband', 'noband', 'noband', 'band', 'noband', 'band', 'band',\n",
       "       'noband', 'noband', 'noband', 'noband', 'noband', 'noband',\n",
       "       'noband', 'noband', 'band', 'noband', 'noband', 'noband', 'noband',\n",
       "       'noband', 'noband', 'noband', 'noband', 'noband', 'noband',\n",
       "       'noband', 'noband', 'band', 'noband', 'noband', 'noband', 'noband',\n",
       "       'noband', 'noband', 'noband', 'noband', 'noband', 'noband',\n",
       "       'noband', 'noband', 'band', 'noband', 'band', 'noband', 'noband',\n",
       "       'noband', 'noband', 'noband', 'noband', 'noband', 'noband',\n",
       "       'noband', 'band', 'noband', 'noband', 'noband', 'band', 'noband',\n",
       "       'noband', 'noband', 'band', 'noband', 'band', 'noband', 'noband',\n",
       "       'noband', 'noband', 'noband', 'noband', 'noband', 'noband',\n",
       "       'noband', 'band', 'band', 'noband', 'noband', 'noband', 'noband',\n",
       "       'band', 'noband', 'noband', 'noband', 'noband', 'noband', 'noband',\n",
       "       'noband', 'band', 'noband', 'noband', 'noband', 'noband', 'noband',\n",
       "       'noband', 'noband', 'band', 'band', 'noband', 'band', 'noband',\n",
       "       'band', 'noband', 'noband', 'noband', 'noband', 'noband', 'noband',\n",
       "       'noband', 'noband', 'noband', 'band', 'noband', 'band', 'noband',\n",
       "       'band', 'noband', 'noband', 'band', 'noband', 'noband', 'band',\n",
       "       'noband', 'noband', 'noband', 'noband', 'noband', 'noband',\n",
       "       'noband', 'noband', 'noband', 'noband', 'band', 'noband', 'noband',\n",
       "       'noband', 'noband', 'band', 'noband', 'noband', 'noband', 'band',\n",
       "       'noband', 'noband', 'noband', 'noband', 'noband', 'noband', 'band',\n",
       "       'band', 'noband', 'noband', 'noband', 'noband', 'noband', 'noband',\n",
       "       'noband', 'noband', 'noband', 'noband', 'noband', 'band', 'noband',\n",
       "       'noband', 'noband', 'noband', 'noband', 'noband', 'noband',\n",
       "       'noband', 'band', 'noband', 'noband', 'noband', 'noband', 'noband',\n",
       "       'noband', 'noband', 'noband', 'noband', 'noband', 'band', 'noband',\n",
       "       'noband', 'band', 'noband', 'noband', 'band', 'noband', 'noband',\n",
       "       'band', 'noband', 'noband', 'noband', 'noband', 'noband', 'noband',\n",
       "       'noband', 'noband', 'noband', 'noband', 'noband', 'band', 'noband',\n",
       "       'noband', 'noband', 'noband', 'noband', 'noband', 'noband',\n",
       "       'noband', 'noband', 'noband', 'band', 'band', 'noband', 'noband',\n",
       "       'noband', 'noband', 'noband', 'noband', 'noband', 'noband',\n",
       "       'noband', 'noband', 'noband', 'band', 'noband', 'noband', 'noband',\n",
       "       'noband', 'noband', 'noband', 'noband', 'noband', 'band', 'noband',\n",
       "       'noband', 'noband', 'noband', 'noband', 'noband', 'noband',\n",
       "       'noband', 'noband', 'noband', 'noband', 'noband', 'noband',\n",
       "       'noband', 'noband', 'noband', 'noband', 'noband', 'noband',\n",
       "       'noband', 'noband', 'noband', 'noband', 'noband', 'noband',\n",
       "       'noband', 'noband', 'noband', 'noband', 'noband', 'noband',\n",
       "       'noband', 'noband', 'band', 'noband', 'noband', 'band', 'noband',\n",
       "       'noband', 'noband', 'noband', 'noband', 'noband', 'noband', 'band',\n",
       "       'noband', 'noband', 'noband', 'noband', 'noband', 'noband',\n",
       "       'noband', 'noband', 'noband', 'band', 'noband', 'noband', 'band',\n",
       "       'noband', 'noband', 'noband', 'noband', 'noband', 'noband',\n",
       "       'noband', 'noband', 'noband', 'noband', 'noband', 'noband',\n",
       "       'noband', 'noband', 'noband', 'noband', 'noband', 'noband', 'band',\n",
       "       'noband', 'noband', 'noband', 'noband', 'noband', 'noband',\n",
       "       'noband', 'noband', 'noband', 'noband', 'noband', 'noband', 'band',\n",
       "       'band', 'noband', 'noband', 'noband', 'noband', 'noband', 'noband',\n",
       "       'noband', 'noband', 'noband', 'band', 'noband', 'band', 'noband',\n",
       "       'noband', 'noband', 'noband', 'noband', 'noband', 'noband',\n",
       "       'noband', 'noband', 'noband', 'noband', 'noband', 'noband',\n",
       "       'noband', 'noband', 'band', 'band', 'band', 'noband', 'noband',\n",
       "       'noband', 'noband', 'band', 'noband', 'noband', 'noband', 'noband',\n",
       "       'noband', 'noband', 'band', 'noband', 'noband', 'noband', 'noband',\n",
       "       'noband', 'noband', 'noband', 'noband', 'noband', 'noband', 'band',\n",
       "       'band', 'noband', 'noband', 'noband', 'noband', 'band', 'noband',\n",
       "       'noband', 'noband', 'noband', 'band', 'noband', 'noband', 'noband',\n",
       "       'noband', 'noband', 'noband', 'noband', 'noband', 'noband',\n",
       "       'noband', 'noband', 'noband', 'noband', 'noband', 'band', 'noband',\n",
       "       'noband', 'noband', 'noband', 'noband', 'noband', 'noband',\n",
       "       'noband'], dtype=object)"
      ]
     },
     "execution_count": 46,
     "metadata": {},
     "output_type": "execute_result"
    }
   ],
   "source": [
    "# compare trainset and test set accuracy\n",
    "y_pred_train_gini = clf_gini.predict(X_train)\n",
    "y_pred_train_gini"
   ]
  },
  {
   "cell_type": "code",
   "execution_count": 47,
   "metadata": {},
   "outputs": [
    {
     "name": "stdout",
     "output_type": "stream",
     "text": [
      "Training-set accuracy score: 0.7292\n"
     ]
    }
   ],
   "source": [
    "print('Training-set accuracy score: {0:0.4f}'.format(accuracy_score(y_train,y_pred_train_gini)))"
   ]
  },
  {
   "cell_type": "code",
   "execution_count": 48,
   "metadata": {},
   "outputs": [
    {
     "data": {
      "text/plain": [
       "DecisionTreeClassifier(criterion='entropy', max_depth=3, random_state=0)"
      ]
     },
     "execution_count": 48,
     "metadata": {},
     "output_type": "execute_result"
    }
   ],
   "source": [
    "# Decision Tree Classifier with criterion entropy\n",
    "clf_en = DecisionTreeClassifier(criterion = 'entropy', max_depth = 3, random_state = 0)\n",
    "clf_en.fit(X_train, y_train)"
   ]
  },
  {
   "cell_type": "code",
   "execution_count": 49,
   "metadata": {},
   "outputs": [],
   "source": [
    "y_pred_en = clf_en.predict(X_test)"
   ]
  },
  {
   "cell_type": "code",
   "execution_count": 50,
   "metadata": {},
   "outputs": [
    {
     "name": "stdout",
     "output_type": "stream",
     "text": [
      "Model accuracy score with criterion entropy : 0.6606\n"
     ]
    }
   ],
   "source": [
    "# Check accuracy score\n",
    "from sklearn.metrics import accuracy_score\n",
    "print('Model accuracy score with criterion entropy : {0:0.4f}'.\n",
    "     format(accuracy_score(y_test,y_pred_en)))"
   ]
  },
  {
   "cell_type": "code",
   "execution_count": null,
   "metadata": {},
   "outputs": [],
   "source": []
  }
 ],
 "metadata": {
  "kernelspec": {
   "display_name": "Python 3",
   "language": "python",
   "name": "python3"
  },
  "language_info": {
   "codemirror_mode": {
    "name": "ipython",
    "version": 3
   },
   "file_extension": ".py",
   "mimetype": "text/x-python",
   "name": "python",
   "nbconvert_exporter": "python",
   "pygments_lexer": "ipython3",
   "version": "3.8.5"
  }
 },
 "nbformat": 4,
 "nbformat_minor": 4
}
