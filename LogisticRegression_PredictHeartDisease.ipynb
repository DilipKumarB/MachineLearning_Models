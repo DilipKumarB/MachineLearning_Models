{
 "cells": [
  {
   "cell_type": "code",
   "execution_count": 1,
   "metadata": {},
   "outputs": [],
   "source": [
    "import pandas as pd\n",
    "import numpy as np\n",
    "import matplotlib.pyplot as plt\n",
    "import seaborn as sns\n",
    "%matplotlib inline"
   ]
  },
  {
   "cell_type": "code",
   "execution_count": 2,
   "metadata": {},
   "outputs": [],
   "source": [
    "df = pd.read_csv('C:\\\\Users\\\\Lenovo\\MachineLearningModels\\\\framingham.csv')"
   ]
  },
  {
   "cell_type": "code",
   "execution_count": 3,
   "metadata": {},
   "outputs": [
    {
     "data": {
      "text/html": [
       "<div>\n",
       "<style scoped>\n",
       "    .dataframe tbody tr th:only-of-type {\n",
       "        vertical-align: middle;\n",
       "    }\n",
       "\n",
       "    .dataframe tbody tr th {\n",
       "        vertical-align: top;\n",
       "    }\n",
       "\n",
       "    .dataframe thead th {\n",
       "        text-align: right;\n",
       "    }\n",
       "</style>\n",
       "<table border=\"1\" class=\"dataframe\">\n",
       "  <thead>\n",
       "    <tr style=\"text-align: right;\">\n",
       "      <th></th>\n",
       "      <th>male</th>\n",
       "      <th>age</th>\n",
       "      <th>education</th>\n",
       "      <th>currentSmoker</th>\n",
       "      <th>cigsPerDay</th>\n",
       "      <th>BPMeds</th>\n",
       "      <th>prevalentStroke</th>\n",
       "      <th>prevalentHyp</th>\n",
       "      <th>diabetes</th>\n",
       "      <th>totChol</th>\n",
       "      <th>sysBP</th>\n",
       "      <th>diaBP</th>\n",
       "      <th>BMI</th>\n",
       "      <th>heartRate</th>\n",
       "      <th>glucose</th>\n",
       "      <th>TenYearCHD</th>\n",
       "    </tr>\n",
       "  </thead>\n",
       "  <tbody>\n",
       "    <tr>\n",
       "      <th>0</th>\n",
       "      <td>1</td>\n",
       "      <td>39</td>\n",
       "      <td>4.0</td>\n",
       "      <td>0</td>\n",
       "      <td>0.0</td>\n",
       "      <td>0.0</td>\n",
       "      <td>0</td>\n",
       "      <td>0</td>\n",
       "      <td>0</td>\n",
       "      <td>195.0</td>\n",
       "      <td>106.0</td>\n",
       "      <td>70.0</td>\n",
       "      <td>26.97</td>\n",
       "      <td>80.0</td>\n",
       "      <td>77.0</td>\n",
       "      <td>0</td>\n",
       "    </tr>\n",
       "    <tr>\n",
       "      <th>1</th>\n",
       "      <td>0</td>\n",
       "      <td>46</td>\n",
       "      <td>2.0</td>\n",
       "      <td>0</td>\n",
       "      <td>0.0</td>\n",
       "      <td>0.0</td>\n",
       "      <td>0</td>\n",
       "      <td>0</td>\n",
       "      <td>0</td>\n",
       "      <td>250.0</td>\n",
       "      <td>121.0</td>\n",
       "      <td>81.0</td>\n",
       "      <td>28.73</td>\n",
       "      <td>95.0</td>\n",
       "      <td>76.0</td>\n",
       "      <td>0</td>\n",
       "    </tr>\n",
       "    <tr>\n",
       "      <th>2</th>\n",
       "      <td>1</td>\n",
       "      <td>48</td>\n",
       "      <td>1.0</td>\n",
       "      <td>1</td>\n",
       "      <td>20.0</td>\n",
       "      <td>0.0</td>\n",
       "      <td>0</td>\n",
       "      <td>0</td>\n",
       "      <td>0</td>\n",
       "      <td>245.0</td>\n",
       "      <td>127.5</td>\n",
       "      <td>80.0</td>\n",
       "      <td>25.34</td>\n",
       "      <td>75.0</td>\n",
       "      <td>70.0</td>\n",
       "      <td>0</td>\n",
       "    </tr>\n",
       "  </tbody>\n",
       "</table>\n",
       "</div>"
      ],
      "text/plain": [
       "   male  age  education  currentSmoker  cigsPerDay  BPMeds  prevalentStroke  \\\n",
       "0     1   39        4.0              0         0.0     0.0                0   \n",
       "1     0   46        2.0              0         0.0     0.0                0   \n",
       "2     1   48        1.0              1        20.0     0.0                0   \n",
       "\n",
       "   prevalentHyp  diabetes  totChol  sysBP  diaBP    BMI  heartRate  glucose  \\\n",
       "0             0         0    195.0  106.0   70.0  26.97       80.0     77.0   \n",
       "1             0         0    250.0  121.0   81.0  28.73       95.0     76.0   \n",
       "2             0         0    245.0  127.5   80.0  25.34       75.0     70.0   \n",
       "\n",
       "   TenYearCHD  \n",
       "0           0  \n",
       "1           0  \n",
       "2           0  "
      ]
     },
     "execution_count": 3,
     "metadata": {},
     "output_type": "execute_result"
    }
   ],
   "source": [
    "df.head(3)"
   ]
  },
  {
   "cell_type": "code",
   "execution_count": 4,
   "metadata": {},
   "outputs": [
    {
     "data": {
      "text/plain": [
       "(4238, 16)"
      ]
     },
     "execution_count": 4,
     "metadata": {},
     "output_type": "execute_result"
    }
   ],
   "source": [
    "df.shape"
   ]
  },
  {
   "cell_type": "code",
   "execution_count": 5,
   "metadata": {},
   "outputs": [],
   "source": [
    "col_names = df.columns"
   ]
  },
  {
   "cell_type": "code",
   "execution_count": 6,
   "metadata": {},
   "outputs": [
    {
     "data": {
      "text/plain": [
       "Index(['male', 'age', 'education', 'currentSmoker', 'cigsPerDay', 'BPMeds',\n",
       "       'prevalentStroke', 'prevalentHyp', 'diabetes', 'totChol', 'sysBP',\n",
       "       'diaBP', 'BMI', 'heartRate', 'glucose', 'TenYearCHD'],\n",
       "      dtype='object')"
      ]
     },
     "execution_count": 6,
     "metadata": {},
     "output_type": "execute_result"
    }
   ],
   "source": [
    "col_names"
   ]
  },
  {
   "cell_type": "code",
   "execution_count": 7,
   "metadata": {},
   "outputs": [
    {
     "data": {
      "text/html": [
       "<div>\n",
       "<style scoped>\n",
       "    .dataframe tbody tr th:only-of-type {\n",
       "        vertical-align: middle;\n",
       "    }\n",
       "\n",
       "    .dataframe tbody tr th {\n",
       "        vertical-align: top;\n",
       "    }\n",
       "\n",
       "    .dataframe thead th {\n",
       "        text-align: right;\n",
       "    }\n",
       "</style>\n",
       "<table border=\"1\" class=\"dataframe\">\n",
       "  <thead>\n",
       "    <tr style=\"text-align: right;\">\n",
       "      <th></th>\n",
       "      <th>male</th>\n",
       "      <th>age</th>\n",
       "      <th>education</th>\n",
       "      <th>currentSmoker</th>\n",
       "      <th>cigsPerDay</th>\n",
       "      <th>BPMeds</th>\n",
       "      <th>prevalentStroke</th>\n",
       "      <th>prevalentHyp</th>\n",
       "      <th>diabetes</th>\n",
       "      <th>totChol</th>\n",
       "      <th>sysBP</th>\n",
       "      <th>diaBP</th>\n",
       "      <th>BMI</th>\n",
       "      <th>heartRate</th>\n",
       "      <th>glucose</th>\n",
       "      <th>TenYearCHD</th>\n",
       "    </tr>\n",
       "  </thead>\n",
       "  <tbody>\n",
       "    <tr>\n",
       "      <th>count</th>\n",
       "      <td>4238.000000</td>\n",
       "      <td>4238.000000</td>\n",
       "      <td>4133.000000</td>\n",
       "      <td>4238.000000</td>\n",
       "      <td>4209.000000</td>\n",
       "      <td>4185.000000</td>\n",
       "      <td>4238.000000</td>\n",
       "      <td>4238.000000</td>\n",
       "      <td>4238.000000</td>\n",
       "      <td>4188.000000</td>\n",
       "      <td>4238.000000</td>\n",
       "      <td>4238.000000</td>\n",
       "      <td>4219.000000</td>\n",
       "      <td>4237.000000</td>\n",
       "      <td>3850.000000</td>\n",
       "      <td>4238.000000</td>\n",
       "    </tr>\n",
       "    <tr>\n",
       "      <th>mean</th>\n",
       "      <td>0.429212</td>\n",
       "      <td>49.584946</td>\n",
       "      <td>1.978950</td>\n",
       "      <td>0.494101</td>\n",
       "      <td>9.003089</td>\n",
       "      <td>0.029630</td>\n",
       "      <td>0.005899</td>\n",
       "      <td>0.310524</td>\n",
       "      <td>0.025720</td>\n",
       "      <td>236.721585</td>\n",
       "      <td>132.352407</td>\n",
       "      <td>82.893464</td>\n",
       "      <td>25.802008</td>\n",
       "      <td>75.878924</td>\n",
       "      <td>81.966753</td>\n",
       "      <td>0.151958</td>\n",
       "    </tr>\n",
       "    <tr>\n",
       "      <th>std</th>\n",
       "      <td>0.495022</td>\n",
       "      <td>8.572160</td>\n",
       "      <td>1.019791</td>\n",
       "      <td>0.500024</td>\n",
       "      <td>11.920094</td>\n",
       "      <td>0.169584</td>\n",
       "      <td>0.076587</td>\n",
       "      <td>0.462763</td>\n",
       "      <td>0.158316</td>\n",
       "      <td>44.590334</td>\n",
       "      <td>22.038097</td>\n",
       "      <td>11.910850</td>\n",
       "      <td>4.080111</td>\n",
       "      <td>12.026596</td>\n",
       "      <td>23.959998</td>\n",
       "      <td>0.359023</td>\n",
       "    </tr>\n",
       "    <tr>\n",
       "      <th>min</th>\n",
       "      <td>0.000000</td>\n",
       "      <td>32.000000</td>\n",
       "      <td>1.000000</td>\n",
       "      <td>0.000000</td>\n",
       "      <td>0.000000</td>\n",
       "      <td>0.000000</td>\n",
       "      <td>0.000000</td>\n",
       "      <td>0.000000</td>\n",
       "      <td>0.000000</td>\n",
       "      <td>107.000000</td>\n",
       "      <td>83.500000</td>\n",
       "      <td>48.000000</td>\n",
       "      <td>15.540000</td>\n",
       "      <td>44.000000</td>\n",
       "      <td>40.000000</td>\n",
       "      <td>0.000000</td>\n",
       "    </tr>\n",
       "    <tr>\n",
       "      <th>25%</th>\n",
       "      <td>0.000000</td>\n",
       "      <td>42.000000</td>\n",
       "      <td>1.000000</td>\n",
       "      <td>0.000000</td>\n",
       "      <td>0.000000</td>\n",
       "      <td>0.000000</td>\n",
       "      <td>0.000000</td>\n",
       "      <td>0.000000</td>\n",
       "      <td>0.000000</td>\n",
       "      <td>206.000000</td>\n",
       "      <td>117.000000</td>\n",
       "      <td>75.000000</td>\n",
       "      <td>23.070000</td>\n",
       "      <td>68.000000</td>\n",
       "      <td>71.000000</td>\n",
       "      <td>0.000000</td>\n",
       "    </tr>\n",
       "    <tr>\n",
       "      <th>50%</th>\n",
       "      <td>0.000000</td>\n",
       "      <td>49.000000</td>\n",
       "      <td>2.000000</td>\n",
       "      <td>0.000000</td>\n",
       "      <td>0.000000</td>\n",
       "      <td>0.000000</td>\n",
       "      <td>0.000000</td>\n",
       "      <td>0.000000</td>\n",
       "      <td>0.000000</td>\n",
       "      <td>234.000000</td>\n",
       "      <td>128.000000</td>\n",
       "      <td>82.000000</td>\n",
       "      <td>25.400000</td>\n",
       "      <td>75.000000</td>\n",
       "      <td>78.000000</td>\n",
       "      <td>0.000000</td>\n",
       "    </tr>\n",
       "    <tr>\n",
       "      <th>75%</th>\n",
       "      <td>1.000000</td>\n",
       "      <td>56.000000</td>\n",
       "      <td>3.000000</td>\n",
       "      <td>1.000000</td>\n",
       "      <td>20.000000</td>\n",
       "      <td>0.000000</td>\n",
       "      <td>0.000000</td>\n",
       "      <td>1.000000</td>\n",
       "      <td>0.000000</td>\n",
       "      <td>263.000000</td>\n",
       "      <td>144.000000</td>\n",
       "      <td>89.875000</td>\n",
       "      <td>28.040000</td>\n",
       "      <td>83.000000</td>\n",
       "      <td>87.000000</td>\n",
       "      <td>0.000000</td>\n",
       "    </tr>\n",
       "    <tr>\n",
       "      <th>max</th>\n",
       "      <td>1.000000</td>\n",
       "      <td>70.000000</td>\n",
       "      <td>4.000000</td>\n",
       "      <td>1.000000</td>\n",
       "      <td>70.000000</td>\n",
       "      <td>1.000000</td>\n",
       "      <td>1.000000</td>\n",
       "      <td>1.000000</td>\n",
       "      <td>1.000000</td>\n",
       "      <td>696.000000</td>\n",
       "      <td>295.000000</td>\n",
       "      <td>142.500000</td>\n",
       "      <td>56.800000</td>\n",
       "      <td>143.000000</td>\n",
       "      <td>394.000000</td>\n",
       "      <td>1.000000</td>\n",
       "    </tr>\n",
       "  </tbody>\n",
       "</table>\n",
       "</div>"
      ],
      "text/plain": [
       "              male          age    education  currentSmoker   cigsPerDay  \\\n",
       "count  4238.000000  4238.000000  4133.000000    4238.000000  4209.000000   \n",
       "mean      0.429212    49.584946     1.978950       0.494101     9.003089   \n",
       "std       0.495022     8.572160     1.019791       0.500024    11.920094   \n",
       "min       0.000000    32.000000     1.000000       0.000000     0.000000   \n",
       "25%       0.000000    42.000000     1.000000       0.000000     0.000000   \n",
       "50%       0.000000    49.000000     2.000000       0.000000     0.000000   \n",
       "75%       1.000000    56.000000     3.000000       1.000000    20.000000   \n",
       "max       1.000000    70.000000     4.000000       1.000000    70.000000   \n",
       "\n",
       "            BPMeds  prevalentStroke  prevalentHyp     diabetes      totChol  \\\n",
       "count  4185.000000      4238.000000   4238.000000  4238.000000  4188.000000   \n",
       "mean      0.029630         0.005899      0.310524     0.025720   236.721585   \n",
       "std       0.169584         0.076587      0.462763     0.158316    44.590334   \n",
       "min       0.000000         0.000000      0.000000     0.000000   107.000000   \n",
       "25%       0.000000         0.000000      0.000000     0.000000   206.000000   \n",
       "50%       0.000000         0.000000      0.000000     0.000000   234.000000   \n",
       "75%       0.000000         0.000000      1.000000     0.000000   263.000000   \n",
       "max       1.000000         1.000000      1.000000     1.000000   696.000000   \n",
       "\n",
       "             sysBP        diaBP          BMI    heartRate      glucose  \\\n",
       "count  4238.000000  4238.000000  4219.000000  4237.000000  3850.000000   \n",
       "mean    132.352407    82.893464    25.802008    75.878924    81.966753   \n",
       "std      22.038097    11.910850     4.080111    12.026596    23.959998   \n",
       "min      83.500000    48.000000    15.540000    44.000000    40.000000   \n",
       "25%     117.000000    75.000000    23.070000    68.000000    71.000000   \n",
       "50%     128.000000    82.000000    25.400000    75.000000    78.000000   \n",
       "75%     144.000000    89.875000    28.040000    83.000000    87.000000   \n",
       "max     295.000000   142.500000    56.800000   143.000000   394.000000   \n",
       "\n",
       "        TenYearCHD  \n",
       "count  4238.000000  \n",
       "mean      0.151958  \n",
       "std       0.359023  \n",
       "min       0.000000  \n",
       "25%       0.000000  \n",
       "50%       0.000000  \n",
       "75%       0.000000  \n",
       "max       1.000000  "
      ]
     },
     "execution_count": 7,
     "metadata": {},
     "output_type": "execute_result"
    }
   ],
   "source": [
    "df.describe()"
   ]
  },
  {
   "cell_type": "code",
   "execution_count": 8,
   "metadata": {},
   "outputs": [
    {
     "name": "stdout",
     "output_type": "stream",
     "text": [
      "<class 'pandas.core.frame.DataFrame'>\n",
      "RangeIndex: 4238 entries, 0 to 4237\n",
      "Data columns (total 16 columns):\n",
      " #   Column           Non-Null Count  Dtype  \n",
      "---  ------           --------------  -----  \n",
      " 0   male             4238 non-null   int64  \n",
      " 1   age              4238 non-null   int64  \n",
      " 2   education        4133 non-null   float64\n",
      " 3   currentSmoker    4238 non-null   int64  \n",
      " 4   cigsPerDay       4209 non-null   float64\n",
      " 5   BPMeds           4185 non-null   float64\n",
      " 6   prevalentStroke  4238 non-null   int64  \n",
      " 7   prevalentHyp     4238 non-null   int64  \n",
      " 8   diabetes         4238 non-null   int64  \n",
      " 9   totChol          4188 non-null   float64\n",
      " 10  sysBP            4238 non-null   float64\n",
      " 11  diaBP            4238 non-null   float64\n",
      " 12  BMI              4219 non-null   float64\n",
      " 13  heartRate        4237 non-null   float64\n",
      " 14  glucose          3850 non-null   float64\n",
      " 15  TenYearCHD       4238 non-null   int64  \n",
      "dtypes: float64(9), int64(7)\n",
      "memory usage: 529.9 KB\n"
     ]
    }
   ],
   "source": [
    "df.info()"
   ]
  },
  {
   "cell_type": "code",
   "execution_count": 9,
   "metadata": {},
   "outputs": [
    {
     "name": "stdout",
     "output_type": "stream",
     "text": [
      "There are 0 categorical variables\n",
      "\n",
      "The categorical variables are : []\n"
     ]
    }
   ],
   "source": [
    "#find categorical variables\n",
    "categorical = [var for var in df.columns if df.dtypes[var] == 'O']\n",
    "print(\"There are {} categorical variables\\n\".format(len(categorical)))\n",
    "print(\"The categorical variables are :\", categorical)"
   ]
  },
  {
   "cell_type": "code",
   "execution_count": 10,
   "metadata": {},
   "outputs": [
    {
     "name": "stdout",
     "output_type": "stream",
     "text": [
      "There are 16 numerical variables\n",
      "\n",
      "The numerical variables are : ['male', 'age', 'education', 'currentSmoker', 'cigsPerDay', 'BPMeds', 'prevalentStroke', 'prevalentHyp', 'diabetes', 'totChol', 'sysBP', 'diaBP', 'BMI', 'heartRate', 'glucose', 'TenYearCHD']\n"
     ]
    }
   ],
   "source": [
    "# find numerical variables\n",
    "numerical = [var for var in df.columns if df.dtypes[var] != 'O']\n",
    "print(\"There are {} numerical variables\\n\".format(len(numerical)))\n",
    "print(\"The numerical variables are :\", numerical)"
   ]
  },
  {
   "cell_type": "code",
   "execution_count": 11,
   "metadata": {},
   "outputs": [
    {
     "data": {
      "text/html": [
       "<div>\n",
       "<style scoped>\n",
       "    .dataframe tbody tr th:only-of-type {\n",
       "        vertical-align: middle;\n",
       "    }\n",
       "\n",
       "    .dataframe tbody tr th {\n",
       "        vertical-align: top;\n",
       "    }\n",
       "\n",
       "    .dataframe thead th {\n",
       "        text-align: right;\n",
       "    }\n",
       "</style>\n",
       "<table border=\"1\" class=\"dataframe\">\n",
       "  <thead>\n",
       "    <tr style=\"text-align: right;\">\n",
       "      <th></th>\n",
       "      <th>male</th>\n",
       "      <th>age</th>\n",
       "      <th>education</th>\n",
       "      <th>currentSmoker</th>\n",
       "      <th>cigsPerDay</th>\n",
       "      <th>BPMeds</th>\n",
       "      <th>prevalentStroke</th>\n",
       "      <th>prevalentHyp</th>\n",
       "      <th>diabetes</th>\n",
       "      <th>totChol</th>\n",
       "      <th>sysBP</th>\n",
       "      <th>diaBP</th>\n",
       "      <th>BMI</th>\n",
       "      <th>heartRate</th>\n",
       "      <th>glucose</th>\n",
       "      <th>TenYearCHD</th>\n",
       "    </tr>\n",
       "  </thead>\n",
       "  <tbody>\n",
       "    <tr>\n",
       "      <th>0</th>\n",
       "      <td>1</td>\n",
       "      <td>39</td>\n",
       "      <td>4.0</td>\n",
       "      <td>0</td>\n",
       "      <td>0.0</td>\n",
       "      <td>0.0</td>\n",
       "      <td>0</td>\n",
       "      <td>0</td>\n",
       "      <td>0</td>\n",
       "      <td>195.0</td>\n",
       "      <td>106.0</td>\n",
       "      <td>70.0</td>\n",
       "      <td>26.97</td>\n",
       "      <td>80.0</td>\n",
       "      <td>77.0</td>\n",
       "      <td>0</td>\n",
       "    </tr>\n",
       "    <tr>\n",
       "      <th>1</th>\n",
       "      <td>0</td>\n",
       "      <td>46</td>\n",
       "      <td>2.0</td>\n",
       "      <td>0</td>\n",
       "      <td>0.0</td>\n",
       "      <td>0.0</td>\n",
       "      <td>0</td>\n",
       "      <td>0</td>\n",
       "      <td>0</td>\n",
       "      <td>250.0</td>\n",
       "      <td>121.0</td>\n",
       "      <td>81.0</td>\n",
       "      <td>28.73</td>\n",
       "      <td>95.0</td>\n",
       "      <td>76.0</td>\n",
       "      <td>0</td>\n",
       "    </tr>\n",
       "    <tr>\n",
       "      <th>2</th>\n",
       "      <td>1</td>\n",
       "      <td>48</td>\n",
       "      <td>1.0</td>\n",
       "      <td>1</td>\n",
       "      <td>20.0</td>\n",
       "      <td>0.0</td>\n",
       "      <td>0</td>\n",
       "      <td>0</td>\n",
       "      <td>0</td>\n",
       "      <td>245.0</td>\n",
       "      <td>127.5</td>\n",
       "      <td>80.0</td>\n",
       "      <td>25.34</td>\n",
       "      <td>75.0</td>\n",
       "      <td>70.0</td>\n",
       "      <td>0</td>\n",
       "    </tr>\n",
       "    <tr>\n",
       "      <th>3</th>\n",
       "      <td>0</td>\n",
       "      <td>61</td>\n",
       "      <td>3.0</td>\n",
       "      <td>1</td>\n",
       "      <td>30.0</td>\n",
       "      <td>0.0</td>\n",
       "      <td>0</td>\n",
       "      <td>1</td>\n",
       "      <td>0</td>\n",
       "      <td>225.0</td>\n",
       "      <td>150.0</td>\n",
       "      <td>95.0</td>\n",
       "      <td>28.58</td>\n",
       "      <td>65.0</td>\n",
       "      <td>103.0</td>\n",
       "      <td>1</td>\n",
       "    </tr>\n",
       "    <tr>\n",
       "      <th>4</th>\n",
       "      <td>0</td>\n",
       "      <td>46</td>\n",
       "      <td>3.0</td>\n",
       "      <td>1</td>\n",
       "      <td>23.0</td>\n",
       "      <td>0.0</td>\n",
       "      <td>0</td>\n",
       "      <td>0</td>\n",
       "      <td>0</td>\n",
       "      <td>285.0</td>\n",
       "      <td>130.0</td>\n",
       "      <td>84.0</td>\n",
       "      <td>23.10</td>\n",
       "      <td>85.0</td>\n",
       "      <td>85.0</td>\n",
       "      <td>0</td>\n",
       "    </tr>\n",
       "  </tbody>\n",
       "</table>\n",
       "</div>"
      ],
      "text/plain": [
       "   male  age  education  currentSmoker  cigsPerDay  BPMeds  prevalentStroke  \\\n",
       "0     1   39        4.0              0         0.0     0.0                0   \n",
       "1     0   46        2.0              0         0.0     0.0                0   \n",
       "2     1   48        1.0              1        20.0     0.0                0   \n",
       "3     0   61        3.0              1        30.0     0.0                0   \n",
       "4     0   46        3.0              1        23.0     0.0                0   \n",
       "\n",
       "   prevalentHyp  diabetes  totChol  sysBP  diaBP    BMI  heartRate  glucose  \\\n",
       "0             0         0    195.0  106.0   70.0  26.97       80.0     77.0   \n",
       "1             0         0    250.0  121.0   81.0  28.73       95.0     76.0   \n",
       "2             0         0    245.0  127.5   80.0  25.34       75.0     70.0   \n",
       "3             1         0    225.0  150.0   95.0  28.58       65.0    103.0   \n",
       "4             0         0    285.0  130.0   84.0  23.10       85.0     85.0   \n",
       "\n",
       "   TenYearCHD  \n",
       "0           0  \n",
       "1           0  \n",
       "2           0  \n",
       "3           1  \n",
       "4           0  "
      ]
     },
     "execution_count": 11,
     "metadata": {},
     "output_type": "execute_result"
    }
   ],
   "source": [
    "df[numerical].head()"
   ]
  },
  {
   "cell_type": "code",
   "execution_count": 12,
   "metadata": {},
   "outputs": [
    {
     "data": {
      "text/plain": [
       "male                 0\n",
       "age                  0\n",
       "education          105\n",
       "currentSmoker        0\n",
       "cigsPerDay          29\n",
       "BPMeds              53\n",
       "prevalentStroke      0\n",
       "prevalentHyp         0\n",
       "diabetes             0\n",
       "totChol             50\n",
       "sysBP                0\n",
       "diaBP                0\n",
       "BMI                 19\n",
       "heartRate            1\n",
       "glucose            388\n",
       "TenYearCHD           0\n",
       "dtype: int64"
      ]
     },
     "execution_count": 12,
     "metadata": {},
     "output_type": "execute_result"
    }
   ],
   "source": [
    "df[numerical].isnull().sum()"
   ]
  },
  {
   "cell_type": "code",
   "execution_count": 13,
   "metadata": {},
   "outputs": [
    {
     "data": {
      "text/plain": [
       "Text(0, 0.5, 'Cigarettes per day')"
      ]
     },
     "execution_count": 13,
     "metadata": {},
     "output_type": "execute_result"
    },
    {
     "data": {
      "image/png": "[encoded data removed]",
      "text/plain": [
       "<Figure size 1080x720 with 1 Axes>"
      ]
     },
     "metadata": {
      "needs_background": "light"
     },
     "output_type": "display_data"
    }
   ],
   "source": [
    "# draw boxplots\n",
    "plt.figure(figsize=(15,10))\n",
    "\n",
    "plt.subplot(2,2,1)\n",
    "fig = df.boxplot(column ='cigsPerDay' )\n",
    "fig.set_title(' ')\n",
    "fig.set_ylabel('Cigarettes per day')"
   ]
  },
  {
   "cell_type": "code",
   "execution_count": 14,
   "metadata": {},
   "outputs": [
    {
     "data": {
      "text/plain": [
       "Text(0, 0.5, 'Heart Disease')"
      ]
     },
     "execution_count": 14,
     "metadata": {},
     "output_type": "execute_result"
    },
    {
     "data": {
      "image/png": "[encoded data removed]",
      "text/plain": [
       "<Figure size 1080x720 with 1 Axes>"
      ]
     },
     "metadata": {
      "needs_background": "light"
     },
     "output_type": "display_data"
    }
   ],
   "source": [
    "#plot histogram to check distribution\n",
    "plt.figure(figsize=(15,10))\n",
    "\n",
    "plt.subplot(2,2,1)\n",
    "fig = df.cigsPerDay.hist(bins=10)\n",
    "fig.set_xlabel('Cigarettes per day')\n",
    "fig.set_ylabel('Heart Disease')"
   ]
  },
  {
   "cell_type": "code",
   "execution_count": 15,
   "metadata": {},
   "outputs": [
    {
     "name": "stdout",
     "output_type": "stream",
     "text": [
      "Rainfall outliers are values < -60.0 or > 80.0\n"
     ]
    }
   ],
   "source": [
    "#find outliers for Cigarettes per day\n",
    "IQR = df.cigsPerDay.quantile(0.75) - df.cigsPerDay.quantile(0.25)\n",
    "Lower_fence = df.cigsPerDay.quantile(0.25) - (IQR * 3)\n",
    "Upper_fence = df.cigsPerDay.quantile(0.75) + (IQR * 3)\n",
    "print('Rainfall outliers are values < {lowerboundary} or > {upperboundary}'.format(lowerboundary = Lower_fence,\n",
    "                                                                                  upperboundary = Upper_fence))"
   ]
  },
  {
   "cell_type": "code",
   "execution_count": 16,
   "metadata": {},
   "outputs": [],
   "source": [
    "X = df.drop(['TenYearCHD'], axis = 1)\n",
    "y = df['TenYearCHD']"
   ]
  },
  {
   "cell_type": "code",
   "execution_count": 17,
   "metadata": {},
   "outputs": [],
   "source": [
    "# split X and y into training and test sets\n",
    "from sklearn.model_selection import train_test_split\n",
    "X_train, X_test, y_train, y_test = train_test_split(X,y,test_size=0.2, random_state = 0)"
   ]
  },
  {
   "cell_type": "code",
   "execution_count": 18,
   "metadata": {},
   "outputs": [
    {
     "data": {
      "text/html": [
       "<div>\n",
       "<style scoped>\n",
       "    .dataframe tbody tr th:only-of-type {\n",
       "        vertical-align: middle;\n",
       "    }\n",
       "\n",
       "    .dataframe tbody tr th {\n",
       "        vertical-align: top;\n",
       "    }\n",
       "\n",
       "    .dataframe thead th {\n",
       "        text-align: right;\n",
       "    }\n",
       "</style>\n",
       "<table border=\"1\" class=\"dataframe\">\n",
       "  <thead>\n",
       "    <tr style=\"text-align: right;\">\n",
       "      <th></th>\n",
       "      <th>male</th>\n",
       "      <th>age</th>\n",
       "      <th>education</th>\n",
       "      <th>currentSmoker</th>\n",
       "      <th>cigsPerDay</th>\n",
       "      <th>BPMeds</th>\n",
       "      <th>prevalentStroke</th>\n",
       "      <th>prevalentHyp</th>\n",
       "      <th>diabetes</th>\n",
       "      <th>totChol</th>\n",
       "      <th>sysBP</th>\n",
       "      <th>diaBP</th>\n",
       "      <th>BMI</th>\n",
       "      <th>heartRate</th>\n",
       "      <th>glucose</th>\n",
       "    </tr>\n",
       "  </thead>\n",
       "  <tbody>\n",
       "    <tr>\n",
       "      <th>4203</th>\n",
       "      <td>1</td>\n",
       "      <td>63</td>\n",
       "      <td>1.0</td>\n",
       "      <td>1</td>\n",
       "      <td>10.0</td>\n",
       "      <td>0.0</td>\n",
       "      <td>0</td>\n",
       "      <td>0</td>\n",
       "      <td>1</td>\n",
       "      <td>240.0</td>\n",
       "      <td>146.0</td>\n",
       "      <td>84.0</td>\n",
       "      <td>30.48</td>\n",
       "      <td>75.0</td>\n",
       "      <td>120.0</td>\n",
       "    </tr>\n",
       "    <tr>\n",
       "      <th>3534</th>\n",
       "      <td>1</td>\n",
       "      <td>52</td>\n",
       "      <td>1.0</td>\n",
       "      <td>1</td>\n",
       "      <td>30.0</td>\n",
       "      <td>0.0</td>\n",
       "      <td>0</td>\n",
       "      <td>0</td>\n",
       "      <td>0</td>\n",
       "      <td>223.0</td>\n",
       "      <td>133.0</td>\n",
       "      <td>82.0</td>\n",
       "      <td>21.18</td>\n",
       "      <td>66.0</td>\n",
       "      <td>77.0</td>\n",
       "    </tr>\n",
       "    <tr>\n",
       "      <th>1736</th>\n",
       "      <td>1</td>\n",
       "      <td>38</td>\n",
       "      <td>2.0</td>\n",
       "      <td>1</td>\n",
       "      <td>20.0</td>\n",
       "      <td>0.0</td>\n",
       "      <td>0</td>\n",
       "      <td>0</td>\n",
       "      <td>0</td>\n",
       "      <td>279.0</td>\n",
       "      <td>124.0</td>\n",
       "      <td>87.0</td>\n",
       "      <td>26.68</td>\n",
       "      <td>76.0</td>\n",
       "      <td>75.0</td>\n",
       "    </tr>\n",
       "  </tbody>\n",
       "</table>\n",
       "</div>"
      ],
      "text/plain": [
       "      male  age  education  currentSmoker  cigsPerDay  BPMeds  \\\n",
       "4203     1   63        1.0              1        10.0     0.0   \n",
       "3534     1   52        1.0              1        30.0     0.0   \n",
       "1736     1   38        2.0              1        20.0     0.0   \n",
       "\n",
       "      prevalentStroke  prevalentHyp  diabetes  totChol  sysBP  diaBP    BMI  \\\n",
       "4203                0             0         1    240.0  146.0   84.0  30.48   \n",
       "3534                0             0         0    223.0  133.0   82.0  21.18   \n",
       "1736                0             0         0    279.0  124.0   87.0  26.68   \n",
       "\n",
       "      heartRate  glucose  \n",
       "4203       75.0    120.0  \n",
       "3534       66.0     77.0  \n",
       "1736       76.0     75.0  "
      ]
     },
     "execution_count": 18,
     "metadata": {},
     "output_type": "execute_result"
    }
   ],
   "source": [
    "X_train.head(3)"
   ]
  },
  {
   "cell_type": "code",
   "execution_count": 19,
   "metadata": {},
   "outputs": [
    {
     "data": {
      "text/plain": [
       "((3390, 15), (848, 15))"
      ]
     },
     "execution_count": 19,
     "metadata": {},
     "output_type": "execute_result"
    }
   ],
   "source": [
    "# check the shape of X_train and X_test\n",
    "X_train.shape, X_test.shape"
   ]
  },
  {
   "cell_type": "code",
   "execution_count": 20,
   "metadata": {},
   "outputs": [],
   "source": [
    "numerical = [col for col in X_train.columns if X_train[col].dtypes != 'O']"
   ]
  },
  {
   "cell_type": "code",
   "execution_count": 21,
   "metadata": {},
   "outputs": [
    {
     "name": "stdout",
     "output_type": "stream",
     "text": [
      "education 0.0251\n",
      "cigsPerDay 0.008\n",
      "BPMeds 0.0124\n",
      "totChol 0.013\n",
      "BMI 0.005\n",
      "heartRate 0.0003\n",
      "glucose 0.0909\n"
     ]
    }
   ],
   "source": [
    "#print percentage of missing values in the numerical variables in training dataset\n",
    "for col in numerical:\n",
    "    if X_train[col].isnull().mean() > 0:\n",
    "        print(col, round(X_train[col].isnull().mean(),4))"
   ]
  },
  {
   "cell_type": "code",
   "execution_count": 22,
   "metadata": {},
   "outputs": [
    {
     "name": "stderr",
     "output_type": "stream",
     "text": [
      "C:\\ProgramData\\Anaconda3\\lib\\site-packages\\pandas\\core\\series.py:4517: SettingWithCopyWarning: \n",
      "A value is trying to be set on a copy of a slice from a DataFrame\n",
      "\n",
      "See the caveats in the documentation: https://pandas.pydata.org/pandas-docs/stable/user_guide/indexing.html#returning-a-view-versus-a-copy\n",
      "  return super().fillna(\n"
     ]
    }
   ],
   "source": [
    "for df1 in [X_train, X_test]:\n",
    "    for col in numerical:\n",
    "        col_median = X_train[col].median()\n",
    "        df1[col].fillna(col_median, inplace = True)"
   ]
  },
  {
   "cell_type": "code",
   "execution_count": 23,
   "metadata": {},
   "outputs": [
    {
     "data": {
      "text/plain": [
       "male               0\n",
       "age                0\n",
       "education          0\n",
       "currentSmoker      0\n",
       "cigsPerDay         0\n",
       "BPMeds             0\n",
       "prevalentStroke    0\n",
       "prevalentHyp       0\n",
       "diabetes           0\n",
       "totChol            0\n",
       "sysBP              0\n",
       "diaBP              0\n",
       "BMI                0\n",
       "heartRate          0\n",
       "glucose            0\n",
       "dtype: int64"
      ]
     },
     "execution_count": 23,
     "metadata": {},
     "output_type": "execute_result"
    }
   ],
   "source": [
    "X_train[numerical].isnull().sum()"
   ]
  },
  {
   "cell_type": "code",
   "execution_count": 24,
   "metadata": {},
   "outputs": [
    {
     "data": {
      "text/plain": [
       "male               0\n",
       "age                0\n",
       "education          0\n",
       "currentSmoker      0\n",
       "cigsPerDay         0\n",
       "BPMeds             0\n",
       "prevalentStroke    0\n",
       "prevalentHyp       0\n",
       "diabetes           0\n",
       "totChol            0\n",
       "sysBP              0\n",
       "diaBP              0\n",
       "BMI                0\n",
       "heartRate          0\n",
       "glucose            0\n",
       "dtype: int64"
      ]
     },
     "execution_count": 24,
     "metadata": {},
     "output_type": "execute_result"
    }
   ],
   "source": [
    "X_test[numerical].isnull().sum()"
   ]
  },
  {
   "cell_type": "code",
   "execution_count": 25,
   "metadata": {},
   "outputs": [],
   "source": [
    "cols = X_train.columns"
   ]
  },
  {
   "cell_type": "code",
   "execution_count": 26,
   "metadata": {},
   "outputs": [],
   "source": [
    "from sklearn.preprocessing import MinMaxScaler\n",
    "scaler = MinMaxScaler()\n",
    "X_train = scaler.fit_transform(X_train)\n",
    "X_test = scaler.transform(X_test)"
   ]
  },
  {
   "cell_type": "code",
   "execution_count": 27,
   "metadata": {},
   "outputs": [],
   "source": [
    "X_train = pd.DataFrame(X_train, columns = [cols])\n",
    "X_test = pd.DataFrame(X_test, columns = [cols])"
   ]
  },
  {
   "cell_type": "code",
   "execution_count": 28,
   "metadata": {},
   "outputs": [
    {
     "data": {
      "text/html": [
       "<div>\n",
       "<style scoped>\n",
       "    .dataframe tbody tr th:only-of-type {\n",
       "        vertical-align: middle;\n",
       "    }\n",
       "\n",
       "    .dataframe tbody tr th {\n",
       "        vertical-align: top;\n",
       "    }\n",
       "\n",
       "    .dataframe thead tr th {\n",
       "        text-align: left;\n",
       "    }\n",
       "</style>\n",
       "<table border=\"1\" class=\"dataframe\">\n",
       "  <thead>\n",
       "    <tr>\n",
       "      <th></th>\n",
       "      <th>male</th>\n",
       "      <th>age</th>\n",
       "      <th>education</th>\n",
       "      <th>currentSmoker</th>\n",
       "      <th>cigsPerDay</th>\n",
       "      <th>BPMeds</th>\n",
       "      <th>prevalentStroke</th>\n",
       "      <th>prevalentHyp</th>\n",
       "      <th>diabetes</th>\n",
       "      <th>totChol</th>\n",
       "      <th>sysBP</th>\n",
       "      <th>diaBP</th>\n",
       "      <th>BMI</th>\n",
       "      <th>heartRate</th>\n",
       "      <th>glucose</th>\n",
       "    </tr>\n",
       "  </thead>\n",
       "  <tbody>\n",
       "    <tr>\n",
       "      <th>count</th>\n",
       "      <td>3390.000000</td>\n",
       "      <td>3390.000000</td>\n",
       "      <td>3390.000000</td>\n",
       "      <td>3390.000000</td>\n",
       "      <td>3390.000000</td>\n",
       "      <td>3390.000000</td>\n",
       "      <td>3390.000000</td>\n",
       "      <td>3390.000000</td>\n",
       "      <td>3390.000000</td>\n",
       "      <td>3390.000000</td>\n",
       "      <td>3390.000000</td>\n",
       "      <td>3390.000000</td>\n",
       "      <td>3390.000000</td>\n",
       "      <td>3390.000000</td>\n",
       "      <td>3390.000000</td>\n",
       "    </tr>\n",
       "    <tr>\n",
       "      <th>mean</th>\n",
       "      <td>0.426549</td>\n",
       "      <td>0.461442</td>\n",
       "      <td>0.330285</td>\n",
       "      <td>0.501180</td>\n",
       "      <td>0.128677</td>\n",
       "      <td>0.028319</td>\n",
       "      <td>0.006785</td>\n",
       "      <td>0.308850</td>\n",
       "      <td>0.026549</td>\n",
       "      <td>0.263915</td>\n",
       "      <td>0.295686</td>\n",
       "      <td>0.367839</td>\n",
       "      <td>0.287165</td>\n",
       "      <td>0.322192</td>\n",
       "      <td>0.117782</td>\n",
       "    </tr>\n",
       "    <tr>\n",
       "      <th>std</th>\n",
       "      <td>0.494648</td>\n",
       "      <td>0.225449</td>\n",
       "      <td>0.338396</td>\n",
       "      <td>0.500072</td>\n",
       "      <td>0.170501</td>\n",
       "      <td>0.165906</td>\n",
       "      <td>0.082101</td>\n",
       "      <td>0.462087</td>\n",
       "      <td>0.160784</td>\n",
       "      <td>0.088732</td>\n",
       "      <td>0.132911</td>\n",
       "      <td>0.126009</td>\n",
       "      <td>0.114482</td>\n",
       "      <td>0.122480</td>\n",
       "      <td>0.064447</td>\n",
       "    </tr>\n",
       "    <tr>\n",
       "      <th>min</th>\n",
       "      <td>0.000000</td>\n",
       "      <td>0.000000</td>\n",
       "      <td>0.000000</td>\n",
       "      <td>0.000000</td>\n",
       "      <td>0.000000</td>\n",
       "      <td>0.000000</td>\n",
       "      <td>0.000000</td>\n",
       "      <td>0.000000</td>\n",
       "      <td>0.000000</td>\n",
       "      <td>0.000000</td>\n",
       "      <td>0.000000</td>\n",
       "      <td>0.000000</td>\n",
       "      <td>0.000000</td>\n",
       "      <td>0.000000</td>\n",
       "      <td>0.000000</td>\n",
       "    </tr>\n",
       "    <tr>\n",
       "      <th>25%</th>\n",
       "      <td>0.000000</td>\n",
       "      <td>0.263158</td>\n",
       "      <td>0.000000</td>\n",
       "      <td>0.000000</td>\n",
       "      <td>0.000000</td>\n",
       "      <td>0.000000</td>\n",
       "      <td>0.000000</td>\n",
       "      <td>0.000000</td>\n",
       "      <td>0.000000</td>\n",
       "      <td>0.202840</td>\n",
       "      <td>0.197568</td>\n",
       "      <td>0.280423</td>\n",
       "      <td>0.210409</td>\n",
       "      <td>0.242424</td>\n",
       "      <td>0.090395</td>\n",
       "    </tr>\n",
       "    <tr>\n",
       "      <th>50%</th>\n",
       "      <td>0.000000</td>\n",
       "      <td>0.447368</td>\n",
       "      <td>0.333333</td>\n",
       "      <td>1.000000</td>\n",
       "      <td>0.000000</td>\n",
       "      <td>0.000000</td>\n",
       "      <td>0.000000</td>\n",
       "      <td>0.000000</td>\n",
       "      <td>0.000000</td>\n",
       "      <td>0.257606</td>\n",
       "      <td>0.270517</td>\n",
       "      <td>0.359788</td>\n",
       "      <td>0.275322</td>\n",
       "      <td>0.313131</td>\n",
       "      <td>0.107345</td>\n",
       "    </tr>\n",
       "    <tr>\n",
       "      <th>75%</th>\n",
       "      <td>1.000000</td>\n",
       "      <td>0.631579</td>\n",
       "      <td>0.666667</td>\n",
       "      <td>1.000000</td>\n",
       "      <td>0.285714</td>\n",
       "      <td>0.000000</td>\n",
       "      <td>0.000000</td>\n",
       "      <td>1.000000</td>\n",
       "      <td>0.000000</td>\n",
       "      <td>0.318458</td>\n",
       "      <td>0.361702</td>\n",
       "      <td>0.439153</td>\n",
       "      <td>0.350168</td>\n",
       "      <td>0.393939</td>\n",
       "      <td>0.129944</td>\n",
       "    </tr>\n",
       "    <tr>\n",
       "      <th>max</th>\n",
       "      <td>1.000000</td>\n",
       "      <td>1.000000</td>\n",
       "      <td>1.000000</td>\n",
       "      <td>1.000000</td>\n",
       "      <td>1.000000</td>\n",
       "      <td>1.000000</td>\n",
       "      <td>1.000000</td>\n",
       "      <td>1.000000</td>\n",
       "      <td>1.000000</td>\n",
       "      <td>1.000000</td>\n",
       "      <td>1.000000</td>\n",
       "      <td>1.000000</td>\n",
       "      <td>1.000000</td>\n",
       "      <td>1.000000</td>\n",
       "      <td>1.000000</td>\n",
       "    </tr>\n",
       "  </tbody>\n",
       "</table>\n",
       "</div>"
      ],
      "text/plain": [
       "              male          age    education currentSmoker   cigsPerDay  \\\n",
       "count  3390.000000  3390.000000  3390.000000   3390.000000  3390.000000   \n",
       "mean      0.426549     0.461442     0.330285      0.501180     0.128677   \n",
       "std       0.494648     0.225449     0.338396      0.500072     0.170501   \n",
       "min       0.000000     0.000000     0.000000      0.000000     0.000000   \n",
       "25%       0.000000     0.263158     0.000000      0.000000     0.000000   \n",
       "50%       0.000000     0.447368     0.333333      1.000000     0.000000   \n",
       "75%       1.000000     0.631579     0.666667      1.000000     0.285714   \n",
       "max       1.000000     1.000000     1.000000      1.000000     1.000000   \n",
       "\n",
       "            BPMeds prevalentStroke prevalentHyp     diabetes      totChol  \\\n",
       "count  3390.000000     3390.000000  3390.000000  3390.000000  3390.000000   \n",
       "mean      0.028319        0.006785     0.308850     0.026549     0.263915   \n",
       "std       0.165906        0.082101     0.462087     0.160784     0.088732   \n",
       "min       0.000000        0.000000     0.000000     0.000000     0.000000   \n",
       "25%       0.000000        0.000000     0.000000     0.000000     0.202840   \n",
       "50%       0.000000        0.000000     0.000000     0.000000     0.257606   \n",
       "75%       0.000000        0.000000     1.000000     0.000000     0.318458   \n",
       "max       1.000000        1.000000     1.000000     1.000000     1.000000   \n",
       "\n",
       "             sysBP        diaBP          BMI    heartRate      glucose  \n",
       "count  3390.000000  3390.000000  3390.000000  3390.000000  3390.000000  \n",
       "mean      0.295686     0.367839     0.287165     0.322192     0.117782  \n",
       "std       0.132911     0.126009     0.114482     0.122480     0.064447  \n",
       "min       0.000000     0.000000     0.000000     0.000000     0.000000  \n",
       "25%       0.197568     0.280423     0.210409     0.242424     0.090395  \n",
       "50%       0.270517     0.359788     0.275322     0.313131     0.107345  \n",
       "75%       0.361702     0.439153     0.350168     0.393939     0.129944  \n",
       "max       1.000000     1.000000     1.000000     1.000000     1.000000  "
      ]
     },
     "execution_count": 28,
     "metadata": {},
     "output_type": "execute_result"
    }
   ],
   "source": [
    "X_train.describe()"
   ]
  },
  {
   "cell_type": "code",
   "execution_count": 29,
   "metadata": {},
   "outputs": [
    {
     "data": {
      "text/plain": [
       "LogisticRegression()"
      ]
     },
     "execution_count": 29,
     "metadata": {},
     "output_type": "execute_result"
    }
   ],
   "source": [
    "#Model training\n",
    "from sklearn.linear_model import LogisticRegression\n",
    "logreg = LogisticRegression()\n",
    "logreg.fit(X_train,y_train)"
   ]
  },
  {
   "cell_type": "code",
   "execution_count": 30,
   "metadata": {},
   "outputs": [
    {
     "data": {
      "text/plain": [
       "array([0, 0, 0, 0, 0, 0, 0, 0, 0, 0, 0, 0, 0, 0, 0, 0, 0, 0, 0, 0, 0, 0,\n",
       "       0, 0, 0, 0, 0, 0, 0, 0, 0, 0, 0, 0, 0, 0, 0, 0, 0, 0, 0, 0, 0, 0,\n",
       "       0, 0, 0, 0, 0, 0, 0, 0, 0, 0, 0, 0, 0, 0, 0, 0, 0, 0, 0, 0, 0, 0,\n",
       "       1, 0, 0, 0, 0, 0, 0, 0, 0, 0, 0, 0, 0, 0, 0, 0, 0, 0, 0, 0, 0, 0,\n",
       "       0, 0, 0, 0, 0, 0, 0, 0, 0, 0, 0, 0, 0, 0, 0, 0, 0, 0, 0, 0, 0, 0,\n",
       "       0, 0, 0, 0, 0, 0, 0, 0, 0, 0, 0, 0, 0, 0, 0, 0, 0, 0, 0, 0, 0, 0,\n",
       "       0, 0, 0, 0, 0, 0, 0, 0, 0, 0, 0, 0, 0, 0, 0, 0, 0, 0, 0, 0, 0, 0,\n",
       "       0, 0, 0, 0, 0, 0, 0, 0, 0, 0, 0, 0, 0, 0, 0, 0, 0, 0, 0, 0, 0, 0,\n",
       "       0, 0, 0, 0, 0, 0, 0, 0, 0, 0, 0, 0, 0, 0, 0, 0, 0, 0, 0, 0, 0, 0,\n",
       "       0, 0, 0, 0, 0, 0, 0, 0, 0, 0, 0, 0, 0, 0, 0, 0, 0, 0, 0, 0, 0, 0,\n",
       "       0, 0, 0, 0, 0, 0, 0, 0, 0, 0, 0, 0, 0, 0, 0, 0, 0, 0, 0, 0, 0, 0,\n",
       "       0, 0, 0, 0, 0, 0, 0, 0, 0, 0, 1, 0, 0, 0, 0, 0, 0, 0, 0, 0, 0, 0,\n",
       "       0, 0, 0, 0, 0, 0, 0, 0, 0, 0, 0, 0, 0, 0, 0, 0, 0, 0, 0, 0, 0, 0,\n",
       "       0, 0, 0, 0, 0, 0, 0, 0, 0, 0, 0, 0, 0, 0, 0, 0, 0, 0, 0, 0, 0, 0,\n",
       "       0, 0, 0, 0, 0, 0, 0, 0, 0, 0, 0, 0, 0, 0, 0, 0, 0, 0, 0, 0, 0, 0,\n",
       "       0, 0, 0, 0, 0, 0, 0, 0, 0, 0, 0, 0, 0, 0, 0, 0, 0, 0, 0, 0, 0, 0,\n",
       "       0, 0, 0, 0, 0, 0, 0, 0, 0, 0, 0, 0, 0, 0, 0, 0, 0, 0, 0, 0, 0, 0,\n",
       "       0, 0, 0, 0, 0, 0, 0, 0, 0, 0, 0, 0, 0, 0, 0, 0, 0, 0, 0, 0, 0, 0,\n",
       "       0, 0, 0, 0, 0, 0, 0, 0, 0, 0, 0, 0, 0, 0, 0, 0, 1, 0, 0, 0, 0, 0,\n",
       "       0, 0, 0, 0, 0, 0, 0, 0, 1, 0, 0, 0, 0, 0, 1, 0, 0, 0, 0, 0, 0, 0,\n",
       "       0, 0, 0, 0, 0, 0, 0, 0, 0, 0, 0, 0, 0, 0, 0, 0, 0, 0, 0, 0, 0, 0,\n",
       "       0, 0, 0, 0, 0, 0, 0, 0, 0, 0, 0, 0, 0, 0, 0, 0, 0, 0, 0, 0, 0, 0,\n",
       "       0, 0, 0, 0, 0, 0, 0, 0, 0, 0, 0, 0, 0, 0, 0, 0, 0, 0, 0, 0, 0, 0,\n",
       "       0, 0, 0, 0, 0, 0, 0, 0, 0, 0, 0, 0, 0, 0, 0, 0, 0, 0, 0, 0, 0, 0,\n",
       "       0, 0, 0, 0, 0, 0, 0, 0, 0, 0, 0, 0, 0, 0, 0, 0, 0, 0, 0, 0, 0, 0,\n",
       "       0, 0, 0, 0, 0, 0, 0, 0, 0, 0, 0, 0, 0, 0, 0, 0, 0, 1, 0, 0, 0, 0,\n",
       "       0, 0, 0, 0, 0, 0, 0, 0, 0, 0, 0, 0, 0, 0, 0, 0, 0, 0, 0, 0, 0, 0,\n",
       "       0, 0, 0, 0, 0, 0, 0, 0, 0, 0, 0, 0, 0, 0, 0, 0, 0, 0, 0, 0, 0, 0,\n",
       "       0, 0, 0, 0, 0, 0, 0, 0, 0, 0, 0, 0, 0, 0, 0, 0, 0, 0, 0, 0, 0, 0,\n",
       "       0, 0, 0, 0, 0, 0, 0, 0, 0, 0, 0, 0, 0, 0, 0, 0, 0, 0, 0, 0, 0, 0,\n",
       "       0, 0, 0, 0, 0, 0, 0, 0, 0, 0, 0, 0, 0, 0, 0, 0, 0, 0, 0, 0, 0, 0,\n",
       "       0, 0, 0, 0, 0, 0, 0, 0, 0, 0, 0, 0, 0, 0, 0, 0, 0, 0, 0, 0, 0, 0,\n",
       "       0, 0, 0, 0, 0, 0, 0, 0, 0, 0, 0, 0, 0, 0, 0, 0, 0, 0, 0, 0, 0, 0,\n",
       "       0, 0, 0, 0, 0, 0, 0, 0, 0, 0, 0, 0, 0, 0, 0, 0, 0, 0, 0, 0, 0, 0,\n",
       "       0, 0, 0, 0, 0, 0, 0, 0, 0, 0, 0, 0, 0, 0, 0, 0, 0, 0, 0, 0, 0, 0,\n",
       "       0, 0, 0, 0, 0, 0, 0, 0, 0, 0, 0, 0, 0, 0, 0, 0, 0, 0, 0, 0, 0, 0,\n",
       "       0, 0, 0, 0, 0, 0, 0, 0, 0, 0, 0, 0, 0, 0, 0, 0, 0, 0, 0, 0, 0, 0,\n",
       "       0, 0, 0, 0, 0, 0, 0, 0, 0, 0, 0, 0, 0, 0, 0, 0, 0, 0, 0, 0, 0, 1,\n",
       "       0, 0, 0, 0, 0, 0, 0, 0, 0, 0, 0, 0], dtype=int64)"
      ]
     },
     "execution_count": 30,
     "metadata": {},
     "output_type": "execute_result"
    }
   ],
   "source": [
    "y_pred_test = logreg.predict(X_test)\n",
    "y_pred_test"
   ]
  },
  {
   "cell_type": "code",
   "execution_count": 31,
   "metadata": {},
   "outputs": [
    {
     "data": {
      "text/plain": [
       "array([0.90539553, 0.81607819, 0.61920528, 0.90518783, 0.88035505,\n",
       "       0.92423605, 0.66218805, 0.94793171, 0.96677349, 0.86500678,\n",
       "       0.97150969, 0.97498334, 0.91696008, 0.89856107, 0.91104325,\n",
       "       0.92574751, 0.95158705, 0.86921181, 0.7904962 , 0.90002638,\n",
       "       0.91462969, 0.72150808, 0.94583213, 0.8892976 , 0.8339409 ,\n",
       "       0.72781746, 0.88488823, 0.95879462, 0.7255954 , 0.95745063,\n",
       "       0.8744742 , 0.76723653, 0.92335335, 0.86150996, 0.9087251 ,\n",
       "       0.91603877, 0.87028526, 0.85158379, 0.923943  , 0.92588882,\n",
       "       0.96671423, 0.79293506, 0.92837086, 0.73206837, 0.92367739,\n",
       "       0.95926919, 0.79692021, 0.60661153, 0.86636492, 0.8333924 ,\n",
       "       0.78837061, 0.82180006, 0.5914519 , 0.90733575, 0.84077724,\n",
       "       0.95696514, 0.90803839, 0.87590018, 0.51087712, 0.89764241,\n",
       "       0.88047314, 0.80482324, 0.91372956, 0.72905866, 0.9450546 ,\n",
       "       0.94377551, 0.43555964, 0.82792321, 0.9090652 , 0.89426193,\n",
       "       0.94540491, 0.91108277, 0.93931024, 0.96117976, 0.7942694 ,\n",
       "       0.9092013 , 0.73151499, 0.83589778, 0.79408807, 0.71143807,\n",
       "       0.95787096, 0.58932959, 0.87439602, 0.93908387, 0.78331347,\n",
       "       0.903139  , 0.94799107, 0.95581235, 0.91544331, 0.91678208,\n",
       "       0.68971325, 0.94147964, 0.95330593, 0.78126827, 0.89740014,\n",
       "       0.88288713, 0.95990255, 0.7741247 , 0.95677179, 0.92689954,\n",
       "       0.80849739, 0.58692695, 0.85149957, 0.95487135, 0.70551326,\n",
       "       0.80142559, 0.93233673, 0.72133534, 0.96656452, 0.94504902,\n",
       "       0.8969971 , 0.90497515, 0.95038993, 0.57319513, 0.86034625,\n",
       "       0.72080524, 0.79181913, 0.69284876, 0.75080299, 0.79307154,\n",
       "       0.52332715, 0.67230354, 0.88389601, 0.95848645, 0.90083159,\n",
       "       0.9010037 , 0.91975502, 0.88941216, 0.70712984, 0.68641516,\n",
       "       0.88487114, 0.94013617, 0.57495089, 0.87281331, 0.94244249,\n",
       "       0.92230686, 0.96717192, 0.81008508, 0.91165815, 0.86232958,\n",
       "       0.67903897, 0.92393885, 0.81227092, 0.68472439, 0.70542593,\n",
       "       0.74091392, 0.91624563, 0.9190781 , 0.94495888, 0.94054626,\n",
       "       0.84388405, 0.83806632, 0.72168221, 0.96440209, 0.88725836,\n",
       "       0.6597948 , 0.60794533, 0.76477017, 0.93933979, 0.91815991,\n",
       "       0.93265394, 0.94070178, 0.89916857, 0.70465903, 0.62228764,\n",
       "       0.9500484 , 0.90803962, 0.79926062, 0.96355925, 0.85726309,\n",
       "       0.8382509 , 0.91175553, 0.912825  , 0.95064842, 0.90698116,\n",
       "       0.89612416, 0.79572679, 0.974507  , 0.9328828 , 0.96980547,\n",
       "       0.75881976, 0.6103882 , 0.86583146, 0.88534959, 0.88114594,\n",
       "       0.89223499, 0.93862057, 0.96086293, 0.87982492, 0.8935725 ,\n",
       "       0.88899119, 0.93899685, 0.54602683, 0.89800151, 0.76260225,\n",
       "       0.92378574, 0.89577044, 0.73020358, 0.78536904, 0.909089  ,\n",
       "       0.65541502, 0.89238261, 0.91301094, 0.85290069, 0.9180092 ,\n",
       "       0.68920533, 0.628813  , 0.79693594, 0.90568165, 0.67334504,\n",
       "       0.93036503, 0.58351445, 0.6376929 , 0.73107052, 0.97504956,\n",
       "       0.83926337, 0.94840524, 0.935678  , 0.94550698, 0.74995376,\n",
       "       0.9566518 , 0.90666007, 0.83931655, 0.75155165, 0.71166012,\n",
       "       0.81166029, 0.95589773, 0.93397947, 0.79898883, 0.77252561,\n",
       "       0.74396357, 0.94433569, 0.94994431, 0.95675529, 0.81266913,\n",
       "       0.87009002, 0.89026462, 0.89182991, 0.95495218, 0.9398247 ,\n",
       "       0.85401742, 0.88572133, 0.84618469, 0.89114671, 0.83183651,\n",
       "       0.89405696, 0.92861686, 0.91991312, 0.60237649, 0.94657285,\n",
       "       0.8308852 , 0.94627054, 0.4834849 , 0.84335502, 0.9438867 ,\n",
       "       0.72917682, 0.89125249, 0.89414028, 0.92434706, 0.87667114,\n",
       "       0.79777851, 0.92131898, 0.81362835, 0.89302577, 0.85990668,\n",
       "       0.70173907, 0.89199395, 0.94936123, 0.59100362, 0.67404737,\n",
       "       0.91053882, 0.74642455, 0.86001235, 0.86200074, 0.72258079,\n",
       "       0.77471305, 0.80065425, 0.85901915, 0.70524277, 0.9190382 ,\n",
       "       0.92502224, 0.88191585, 0.68381316, 0.89313676, 0.80788282,\n",
       "       0.94077811, 0.96183916, 0.86264971, 0.72307364, 0.92347795,\n",
       "       0.93413072, 0.77163088, 0.89846636, 0.79761158, 0.65104574,\n",
       "       0.95407871, 0.86569861, 0.81673382, 0.86027228, 0.85500571,\n",
       "       0.96190249, 0.73239835, 0.72988517, 0.97463653, 0.81074324,\n",
       "       0.87970866, 0.93469816, 0.91050069, 0.76482983, 0.85161872,\n",
       "       0.8163973 , 0.75190402, 0.85270365, 0.837957  , 0.8710557 ,\n",
       "       0.90380631, 0.90536764, 0.89975722, 0.92256638, 0.75721391,\n",
       "       0.87613219, 0.80230247, 0.91136384, 0.94612999, 0.90098947,\n",
       "       0.8336506 , 0.84823515, 0.97251988, 0.80436115, 0.94931986,\n",
       "       0.92083113, 0.83617085, 0.93656686, 0.91462048, 0.8033926 ,\n",
       "       0.91065877, 0.96000688, 0.97252353, 0.94446318, 0.95579828,\n",
       "       0.85497808, 0.94683362, 0.66446231, 0.90712534, 0.90767202,\n",
       "       0.964077  , 0.65057767, 0.93704625, 0.88993303, 0.77725988,\n",
       "       0.88886425, 0.9698475 , 0.82572902, 0.96015282, 0.94657083,\n",
       "       0.92050036, 0.807856  , 0.91209443, 0.66043897, 0.90777987,\n",
       "       0.83927802, 0.92430503, 0.91885908, 0.65635969, 0.92541877,\n",
       "       0.93650726, 0.8764156 , 0.87811776, 0.9145385 , 0.85962329,\n",
       "       0.92475159, 0.82683473, 0.87798362, 0.81268604, 0.96306842,\n",
       "       0.88368072, 0.69077484, 0.91535391, 0.93988248, 0.96040004,\n",
       "       0.90848945, 0.87683371, 0.93145909, 0.717447  , 0.91120038,\n",
       "       0.71829803, 0.9552788 , 0.92705228, 0.73286491, 0.59139822,\n",
       "       0.9333173 , 0.54517   , 0.92708176, 0.95261641, 0.8147855 ,\n",
       "       0.919157  , 0.74109342, 0.73121326, 0.9337892 , 0.90416578,\n",
       "       0.95201675, 0.89154409, 0.73775831, 0.93199473, 0.91636279,\n",
       "       0.962725  , 0.85879957, 0.5308984 , 0.85939702, 0.84206427,\n",
       "       0.88967242, 0.81398275, 0.4465024 , 0.97127344, 0.6753208 ,\n",
       "       0.81774966, 0.96854628, 0.85613602, 0.96387504, 0.85955629,\n",
       "       0.95465996, 0.81544296, 0.89611822, 0.77593438, 0.9211526 ,\n",
       "       0.85054889, 0.47142767, 0.91721672, 0.88204894, 0.96181073,\n",
       "       0.92831604, 0.75167215, 0.44038507, 0.63312267, 0.9273569 ,\n",
       "       0.96759985, 0.94630022, 0.85686557, 0.88776629, 0.92380336,\n",
       "       0.85301325, 0.92714268, 0.85439394, 0.82794409, 0.88113832,\n",
       "       0.78979688, 0.76598526, 0.83193685, 0.96451317, 0.91344088,\n",
       "       0.92392522, 0.72195649, 0.936037  , 0.694057  , 0.8927484 ,\n",
       "       0.94421808, 0.74965393, 0.88181928, 0.6131687 , 0.94081372,\n",
       "       0.92332285, 0.95552457, 0.88829776, 0.75816642, 0.69544776,\n",
       "       0.95036634, 0.77341586, 0.96549598, 0.91079415, 0.7570084 ,\n",
       "       0.91172759, 0.85032048, 0.8540002 , 0.89705781, 0.92441527,\n",
       "       0.83719565, 0.77929779, 0.95862266, 0.95928781, 0.91175181,\n",
       "       0.92320669, 0.86343875, 0.86772935, 0.9463997 , 0.75508575,\n",
       "       0.86895349, 0.93250882, 0.76488018, 0.86833858, 0.81497854,\n",
       "       0.69729475, 0.9034341 , 0.76891781, 0.96460961, 0.88008631,\n",
       "       0.89791295, 0.75004631, 0.96153987, 0.74716513, 0.82195856,\n",
       "       0.94867226, 0.80784423, 0.77800855, 0.82318039, 0.84007558,\n",
       "       0.91454442, 0.92467808, 0.95274925, 0.89929197, 0.8719446 ,\n",
       "       0.84101701, 0.8438131 , 0.72327743, 0.78476664, 0.76684995,\n",
       "       0.88974416, 0.82656902, 0.65255571, 0.91295749, 0.94953531,\n",
       "       0.93840444, 0.69517883, 0.69929517, 0.93681528, 0.95656447,\n",
       "       0.89318631, 0.81697494, 0.85808929, 0.84892736, 0.70422696,\n",
       "       0.69133406, 0.93255296, 0.90598915, 0.96495592, 0.88178317,\n",
       "       0.75447244, 0.93877692, 0.94613477, 0.87547312, 0.91974466,\n",
       "       0.79859362, 0.91032691, 0.88450468, 0.9548648 , 0.74665038,\n",
       "       0.96431091, 0.89340085, 0.96030971, 0.91127649, 0.80889338,\n",
       "       0.75479629, 0.73210244, 0.74942523, 0.80331166, 0.7228502 ,\n",
       "       0.8507336 , 0.86342131, 0.91058924, 0.81781802, 0.9598171 ,\n",
       "       0.87917146, 0.93263436, 0.64712167, 0.93712556, 0.83090115,\n",
       "       0.92955372, 0.69121039, 0.15334572, 0.93805905, 0.82564256,\n",
       "       0.96048027, 0.93538652, 0.84424133, 0.93945658, 0.83759726,\n",
       "       0.9177783 , 0.92827739, 0.91383355, 0.91658397, 0.90824798,\n",
       "       0.71221179, 0.95175644, 0.88614372, 0.83140676, 0.93546897,\n",
       "       0.78706792, 0.8697442 , 0.93908005, 0.9128406 , 0.87517705,\n",
       "       0.91459515, 0.96391048, 0.90739789, 0.92825919, 0.90807411,\n",
       "       0.95038075, 0.88283129, 0.95626906, 0.58772074, 0.67147536,\n",
       "       0.89607522, 0.90436667, 0.69594769, 0.63887402, 0.94473859,\n",
       "       0.85838999, 0.91238276, 0.87297818, 0.89558848, 0.68850685,\n",
       "       0.80891282, 0.91847885, 0.95091201, 0.86393819, 0.67757322,\n",
       "       0.67887463, 0.88356998, 0.96769464, 0.67984289, 0.92410205,\n",
       "       0.90988614, 0.92193325, 0.85549078, 0.72011799, 0.94042739,\n",
       "       0.88865013, 0.94126009, 0.79766786, 0.71715291, 0.87598325,\n",
       "       0.56607276, 0.91303875, 0.85781766, 0.67125516, 0.88021977,\n",
       "       0.87854868, 0.86939544, 0.90850641, 0.88854973, 0.81062316,\n",
       "       0.92876231, 0.74021744, 0.92858168, 0.71688328, 0.91080185,\n",
       "       0.80275645, 0.92458646, 0.7507297 , 0.56743375, 0.62753372,\n",
       "       0.91770737, 0.84865492, 0.95108729, 0.78280851, 0.9114047 ,\n",
       "       0.82336154, 0.56180385, 0.92058977, 0.79103547, 0.95639171,\n",
       "       0.9072636 , 0.92115981, 0.95524416, 0.81032701, 0.85545831,\n",
       "       0.69451368, 0.6964291 , 0.90226545, 0.90212914, 0.94847774,\n",
       "       0.81509655, 0.94362142, 0.91294087, 0.72408545, 0.94572577,\n",
       "       0.71856692, 0.72050423, 0.54882974, 0.94359982, 0.88106165,\n",
       "       0.94773971, 0.88240625, 0.8185849 , 0.58712916, 0.92381697,\n",
       "       0.73598072, 0.59822422, 0.76425984, 0.96623571, 0.95533394,\n",
       "       0.96196739, 0.54911761, 0.952791  , 0.81905276, 0.9359093 ,\n",
       "       0.91898428, 0.8381499 , 0.78904052, 0.90105861, 0.8806772 ,\n",
       "       0.77246834, 0.90754732, 0.69172504, 0.77349698, 0.81808642,\n",
       "       0.84988363, 0.87677569, 0.66938192, 0.95363353, 0.94024833,\n",
       "       0.65436768, 0.88987868, 0.96135418, 0.89216348, 0.92488522,\n",
       "       0.9394135 , 0.92749319, 0.96403986, 0.86273229, 0.69131065,\n",
       "       0.89302824, 0.94693428, 0.82772176, 0.86510951, 0.94711111,\n",
       "       0.95297599, 0.96459134, 0.95987227, 0.93452101, 0.95625335,\n",
       "       0.85463459, 0.90023896, 0.78000697, 0.95862872, 0.83283875,\n",
       "       0.86473714, 0.8003892 , 0.92549962, 0.90620235, 0.71794763,\n",
       "       0.82406014, 0.91316667, 0.82134499, 0.83962372, 0.96873105,\n",
       "       0.76844033, 0.93898497, 0.90040806, 0.95119706, 0.9034487 ,\n",
       "       0.82372074, 0.86762162, 0.82603398, 0.84741095, 0.54502454,\n",
       "       0.94517171, 0.87913035, 0.75956264, 0.84350235, 0.92417592,\n",
       "       0.96612675, 0.63611092, 0.78809122, 0.84891528, 0.94137852,\n",
       "       0.87504291, 0.82413385, 0.94370788, 0.72614119, 0.66662716,\n",
       "       0.95874279, 0.5440627 , 0.79307332, 0.93280746, 0.89268207,\n",
       "       0.89249972, 0.79908626, 0.86157466, 0.9170405 , 0.9342517 ,\n",
       "       0.92641225, 0.92686387, 0.92199026, 0.68579923, 0.71975049,\n",
       "       0.93764024, 0.76807411, 0.84355398, 0.92440463, 0.95351206,\n",
       "       0.78492264, 0.89499242, 0.81547215, 0.85533981, 0.953184  ,\n",
       "       0.90095998, 0.82600482, 0.86547909, 0.95086385, 0.92414681,\n",
       "       0.77674527, 0.56938246, 0.82452924, 0.93540642, 0.74211098,\n",
       "       0.8283834 , 0.9572895 , 0.92540028, 0.92950165, 0.95525449,\n",
       "       0.91368807, 0.91910514, 0.83027635, 0.94180522, 0.82878637,\n",
       "       0.85661897, 0.93824773, 0.9420511 , 0.95673121, 0.96277437,\n",
       "       0.95285806, 0.85979648, 0.93533979, 0.68089861, 0.87605184,\n",
       "       0.86061523, 0.86469422, 0.94321584, 0.93600618, 0.96707708,\n",
       "       0.85316372, 0.87560094, 0.96873887, 0.80850016, 0.82738467,\n",
       "       0.49550788, 0.68766281, 0.8695055 , 0.92842102, 0.86725758,\n",
       "       0.7772604 , 0.93429875, 0.77709667, 0.74428934, 0.61705869,\n",
       "       0.82919549, 0.80324521, 0.93339607])"
      ]
     },
     "execution_count": 31,
     "metadata": {},
     "output_type": "execute_result"
    }
   ],
   "source": [
    "logreg.predict_proba(X_test)[:,0]"
   ]
  },
  {
   "cell_type": "code",
   "execution_count": 32,
   "metadata": {},
   "outputs": [
    {
     "data": {
      "text/plain": [
       "array([0.09460447, 0.18392181, 0.38079472, 0.09481217, 0.11964495,\n",
       "       0.07576395, 0.33781195, 0.05206829, 0.03322651, 0.13499322,\n",
       "       0.02849031, 0.02501666, 0.08303992, 0.10143893, 0.08895675,\n",
       "       0.07425249, 0.04841295, 0.13078819, 0.2095038 , 0.09997362,\n",
       "       0.08537031, 0.27849192, 0.05416787, 0.1107024 , 0.1660591 ,\n",
       "       0.27218254, 0.11511177, 0.04120538, 0.2744046 , 0.04254937,\n",
       "       0.1255258 , 0.23276347, 0.07664665, 0.13849004, 0.0912749 ,\n",
       "       0.08396123, 0.12971474, 0.14841621, 0.076057  , 0.07411118,\n",
       "       0.03328577, 0.20706494, 0.07162914, 0.26793163, 0.07632261,\n",
       "       0.04073081, 0.20307979, 0.39338847, 0.13363508, 0.1666076 ,\n",
       "       0.21162939, 0.17819994, 0.4085481 , 0.09266425, 0.15922276,\n",
       "       0.04303486, 0.09196161, 0.12409982, 0.48912288, 0.10235759,\n",
       "       0.11952686, 0.19517676, 0.08627044, 0.27094134, 0.0549454 ,\n",
       "       0.05622449, 0.56444036, 0.17207679, 0.0909348 , 0.10573807,\n",
       "       0.05459509, 0.08891723, 0.06068976, 0.03882024, 0.2057306 ,\n",
       "       0.0907987 , 0.26848501, 0.16410222, 0.20591193, 0.28856193,\n",
       "       0.04212904, 0.41067041, 0.12560398, 0.06091613, 0.21668653,\n",
       "       0.096861  , 0.05200893, 0.04418765, 0.08455669, 0.08321792,\n",
       "       0.31028675, 0.05852036, 0.04669407, 0.21873173, 0.10259986,\n",
       "       0.11711287, 0.04009745, 0.2258753 , 0.04322821, 0.07310046,\n",
       "       0.19150261, 0.41307305, 0.14850043, 0.04512865, 0.29448674,\n",
       "       0.19857441, 0.06766327, 0.27866466, 0.03343548, 0.05495098,\n",
       "       0.1030029 , 0.09502485, 0.04961007, 0.42680487, 0.13965375,\n",
       "       0.27919476, 0.20818087, 0.30715124, 0.24919701, 0.20692846,\n",
       "       0.47667285, 0.32769646, 0.11610399, 0.04151355, 0.09916841,\n",
       "       0.0989963 , 0.08024498, 0.11058784, 0.29287016, 0.31358484,\n",
       "       0.11512886, 0.05986383, 0.42504911, 0.12718669, 0.05755751,\n",
       "       0.07769314, 0.03282808, 0.18991492, 0.08834185, 0.13767042,\n",
       "       0.32096103, 0.07606115, 0.18772908, 0.31527561, 0.29457407,\n",
       "       0.25908608, 0.08375437, 0.0809219 , 0.05504112, 0.05945374,\n",
       "       0.15611595, 0.16193368, 0.27831779, 0.03559791, 0.11274164,\n",
       "       0.3402052 , 0.39205467, 0.23522983, 0.06066021, 0.08184009,\n",
       "       0.06734606, 0.05929822, 0.10083143, 0.29534097, 0.37771236,\n",
       "       0.0499516 , 0.09196038, 0.20073938, 0.03644075, 0.14273691,\n",
       "       0.1617491 , 0.08824447, 0.087175  , 0.04935158, 0.09301884,\n",
       "       0.10387584, 0.20427321, 0.025493  , 0.0671172 , 0.03019453,\n",
       "       0.24118024, 0.3896118 , 0.13416854, 0.11465041, 0.11885406,\n",
       "       0.10776501, 0.06137943, 0.03913707, 0.12017508, 0.1064275 ,\n",
       "       0.11100881, 0.06100315, 0.45397317, 0.10199849, 0.23739775,\n",
       "       0.07621426, 0.10422956, 0.26979642, 0.21463096, 0.090911  ,\n",
       "       0.34458498, 0.10761739, 0.08698906, 0.14709931, 0.0819908 ,\n",
       "       0.31079467, 0.371187  , 0.20306406, 0.09431835, 0.32665496,\n",
       "       0.06963497, 0.41648555, 0.3623071 , 0.26892948, 0.02495044,\n",
       "       0.16073663, 0.05159476, 0.064322  , 0.05449302, 0.25004624,\n",
       "       0.0433482 , 0.09333993, 0.16068345, 0.24844835, 0.28833988,\n",
       "       0.18833971, 0.04410227, 0.06602053, 0.20101117, 0.22747439,\n",
       "       0.25603643, 0.05566431, 0.05005569, 0.04324471, 0.18733087,\n",
       "       0.12990998, 0.10973538, 0.10817009, 0.04504782, 0.0601753 ,\n",
       "       0.14598258, 0.11427867, 0.15381531, 0.10885329, 0.16816349,\n",
       "       0.10594304, 0.07138314, 0.08008688, 0.39762351, 0.05342715,\n",
       "       0.1691148 , 0.05372946, 0.5165151 , 0.15664498, 0.0561133 ,\n",
       "       0.27082318, 0.10874751, 0.10585972, 0.07565294, 0.12332886,\n",
       "       0.20222149, 0.07868102, 0.18637165, 0.10697423, 0.14009332,\n",
       "       0.29826093, 0.10800605, 0.05063877, 0.40899638, 0.32595263,\n",
       "       0.08946118, 0.25357545, 0.13998765, 0.13799926, 0.27741921,\n",
       "       0.22528695, 0.19934575, 0.14098085, 0.29475723, 0.0809618 ,\n",
       "       0.07497776, 0.11808415, 0.31618684, 0.10686324, 0.19211718,\n",
       "       0.05922189, 0.03816084, 0.13735029, 0.27692636, 0.07652205,\n",
       "       0.06586928, 0.22836912, 0.10153364, 0.20238842, 0.34895426,\n",
       "       0.04592129, 0.13430139, 0.18326618, 0.13972772, 0.14499429,\n",
       "       0.03809751, 0.26760165, 0.27011483, 0.02536347, 0.18925676,\n",
       "       0.12029134, 0.06530184, 0.08949931, 0.23517017, 0.14838128,\n",
       "       0.1836027 , 0.24809598, 0.14729635, 0.162043  , 0.1289443 ,\n",
       "       0.09619369, 0.09463236, 0.10024278, 0.07743362, 0.24278609,\n",
       "       0.12386781, 0.19769753, 0.08863616, 0.05387001, 0.09901053,\n",
       "       0.1663494 , 0.15176485, 0.02748012, 0.19563885, 0.05068014,\n",
       "       0.07916887, 0.16382915, 0.06343314, 0.08537952, 0.1966074 ,\n",
       "       0.08934123, 0.03999312, 0.02747647, 0.05553682, 0.04420172,\n",
       "       0.14502192, 0.05316638, 0.33553769, 0.09287466, 0.09232798,\n",
       "       0.035923  , 0.34942233, 0.06295375, 0.11006697, 0.22274012,\n",
       "       0.11113575, 0.0301525 , 0.17427098, 0.03984718, 0.05342917,\n",
       "       0.07949964, 0.192144  , 0.08790557, 0.33956103, 0.09222013,\n",
       "       0.16072198, 0.07569497, 0.08114092, 0.34364031, 0.07458123,\n",
       "       0.06349274, 0.1235844 , 0.12188224, 0.0854615 , 0.14037671,\n",
       "       0.07524841, 0.17316527, 0.12201638, 0.18731396, 0.03693158,\n",
       "       0.11631928, 0.30922516, 0.08464609, 0.06011752, 0.03959996,\n",
       "       0.09151055, 0.12316629, 0.06854091, 0.282553  , 0.08879962,\n",
       "       0.28170197, 0.0447212 , 0.07294772, 0.26713509, 0.40860178,\n",
       "       0.0666827 , 0.45483   , 0.07291824, 0.04738359, 0.1852145 ,\n",
       "       0.080843  , 0.25890658, 0.26878674, 0.0662108 , 0.09583422,\n",
       "       0.04798325, 0.10845591, 0.26224169, 0.06800527, 0.08363721,\n",
       "       0.037275  , 0.14120043, 0.4691016 , 0.14060298, 0.15793573,\n",
       "       0.11032758, 0.18601725, 0.5534976 , 0.02872656, 0.3246792 ,\n",
       "       0.18225034, 0.03145372, 0.14386398, 0.03612496, 0.14044371,\n",
       "       0.04534004, 0.18455704, 0.10388178, 0.22406562, 0.0788474 ,\n",
       "       0.14945111, 0.52857233, 0.08278328, 0.11795106, 0.03818927,\n",
       "       0.07168396, 0.24832785, 0.55961493, 0.36687733, 0.0726431 ,\n",
       "       0.03240015, 0.05369978, 0.14313443, 0.11223371, 0.07619664,\n",
       "       0.14698675, 0.07285732, 0.14560606, 0.17205591, 0.11886168,\n",
       "       0.21020312, 0.23401474, 0.16806315, 0.03548683, 0.08655912,\n",
       "       0.07607478, 0.27804351, 0.063963  , 0.305943  , 0.1072516 ,\n",
       "       0.05578192, 0.25034607, 0.11818072, 0.3868313 , 0.05918628,\n",
       "       0.07667715, 0.04447543, 0.11170224, 0.24183358, 0.30455224,\n",
       "       0.04963366, 0.22658414, 0.03450402, 0.08920585, 0.2429916 ,\n",
       "       0.08827241, 0.14967952, 0.1459998 , 0.10294219, 0.07558473,\n",
       "       0.16280435, 0.22070221, 0.04137734, 0.04071219, 0.08824819,\n",
       "       0.07679331, 0.13656125, 0.13227065, 0.0536003 , 0.24491425,\n",
       "       0.13104651, 0.06749118, 0.23511982, 0.13166142, 0.18502146,\n",
       "       0.30270525, 0.0965659 , 0.23108219, 0.03539039, 0.11991369,\n",
       "       0.10208705, 0.24995369, 0.03846013, 0.25283487, 0.17804144,\n",
       "       0.05132774, 0.19215577, 0.22199145, 0.17681961, 0.15992442,\n",
       "       0.08545558, 0.07532192, 0.04725075, 0.10070803, 0.1280554 ,\n",
       "       0.15898299, 0.1561869 , 0.27672257, 0.21523336, 0.23315005,\n",
       "       0.11025584, 0.17343098, 0.34744429, 0.08704251, 0.05046469,\n",
       "       0.06159556, 0.30482117, 0.30070483, 0.06318472, 0.04343553,\n",
       "       0.10681369, 0.18302506, 0.14191071, 0.15107264, 0.29577304,\n",
       "       0.30866594, 0.06744704, 0.09401085, 0.03504408, 0.11821683,\n",
       "       0.24552756, 0.06122308, 0.05386523, 0.12452688, 0.08025534,\n",
       "       0.20140638, 0.08967309, 0.11549532, 0.0451352 , 0.25334962,\n",
       "       0.03568909, 0.10659915, 0.03969029, 0.08872351, 0.19110662,\n",
       "       0.24520371, 0.26789756, 0.25057477, 0.19668834, 0.2771498 ,\n",
       "       0.1492664 , 0.13657869, 0.08941076, 0.18218198, 0.0401829 ,\n",
       "       0.12082854, 0.06736564, 0.35287833, 0.06287444, 0.16909885,\n",
       "       0.07044628, 0.30878961, 0.84665428, 0.06194095, 0.17435744,\n",
       "       0.03951973, 0.06461348, 0.15575867, 0.06054342, 0.16240274,\n",
       "       0.0822217 , 0.07172261, 0.08616645, 0.08341603, 0.09175202,\n",
       "       0.28778821, 0.04824356, 0.11385628, 0.16859324, 0.06453103,\n",
       "       0.21293208, 0.1302558 , 0.06091995, 0.0871594 , 0.12482295,\n",
       "       0.08540485, 0.03608952, 0.09260211, 0.07174081, 0.09192589,\n",
       "       0.04961925, 0.11716871, 0.04373094, 0.41227926, 0.32852464,\n",
       "       0.10392478, 0.09563333, 0.30405231, 0.36112598, 0.05526141,\n",
       "       0.14161001, 0.08761724, 0.12702182, 0.10441152, 0.31149315,\n",
       "       0.19108718, 0.08152115, 0.04908799, 0.13606181, 0.32242678,\n",
       "       0.32112537, 0.11643002, 0.03230536, 0.32015711, 0.07589795,\n",
       "       0.09011386, 0.07806675, 0.14450922, 0.27988201, 0.05957261,\n",
       "       0.11134987, 0.05873991, 0.20233214, 0.28284709, 0.12401675,\n",
       "       0.43392724, 0.08696125, 0.14218234, 0.32874484, 0.11978023,\n",
       "       0.12145132, 0.13060456, 0.09149359, 0.11145027, 0.18937684,\n",
       "       0.07123769, 0.25978256, 0.07141832, 0.28311672, 0.08919815,\n",
       "       0.19724355, 0.07541354, 0.2492703 , 0.43256625, 0.37246628,\n",
       "       0.08229263, 0.15134508, 0.04891271, 0.21719149, 0.0885953 ,\n",
       "       0.17663846, 0.43819615, 0.07941023, 0.20896453, 0.04360829,\n",
       "       0.0927364 , 0.07884019, 0.04475584, 0.18967299, 0.14454169,\n",
       "       0.30548632, 0.3035709 , 0.09773455, 0.09787086, 0.05152226,\n",
       "       0.18490345, 0.05637858, 0.08705913, 0.27591455, 0.05427423,\n",
       "       0.28143308, 0.27949577, 0.45117026, 0.05640018, 0.11893835,\n",
       "       0.05226029, 0.11759375, 0.1814151 , 0.41287084, 0.07618303,\n",
       "       0.26401928, 0.40177578, 0.23574016, 0.03376429, 0.04466606,\n",
       "       0.03803261, 0.45088239, 0.047209  , 0.18094724, 0.0640907 ,\n",
       "       0.08101572, 0.1618501 , 0.21095948, 0.09894139, 0.1193228 ,\n",
       "       0.22753166, 0.09245268, 0.30827496, 0.22650302, 0.18191358,\n",
       "       0.15011637, 0.12322431, 0.33061808, 0.04636647, 0.05975167,\n",
       "       0.34563232, 0.11012132, 0.03864582, 0.10783652, 0.07511478,\n",
       "       0.0605865 , 0.07250681, 0.03596014, 0.13726771, 0.30868935,\n",
       "       0.10697176, 0.05306572, 0.17227824, 0.13489049, 0.05288889,\n",
       "       0.04702401, 0.03540866, 0.04012773, 0.06547899, 0.04374665,\n",
       "       0.14536541, 0.09976104, 0.21999303, 0.04137128, 0.16716125,\n",
       "       0.13526286, 0.1996108 , 0.07450038, 0.09379765, 0.28205237,\n",
       "       0.17593986, 0.08683333, 0.17865501, 0.16037628, 0.03126895,\n",
       "       0.23155967, 0.06101503, 0.09959194, 0.04880294, 0.0965513 ,\n",
       "       0.17627926, 0.13237838, 0.17396602, 0.15258905, 0.45497546,\n",
       "       0.05482829, 0.12086965, 0.24043736, 0.15649765, 0.07582408,\n",
       "       0.03387325, 0.36388908, 0.21190878, 0.15108472, 0.05862148,\n",
       "       0.12495709, 0.17586615, 0.05629212, 0.27385881, 0.33337284,\n",
       "       0.04125721, 0.4559373 , 0.20692668, 0.06719254, 0.10731793,\n",
       "       0.10750028, 0.20091374, 0.13842534, 0.0829595 , 0.0657483 ,\n",
       "       0.07358775, 0.07313613, 0.07800974, 0.31420077, 0.28024951,\n",
       "       0.06235976, 0.23192589, 0.15644602, 0.07559537, 0.04648794,\n",
       "       0.21507736, 0.10500758, 0.18452785, 0.14466019, 0.046816  ,\n",
       "       0.09904002, 0.17399518, 0.13452091, 0.04913615, 0.07585319,\n",
       "       0.22325473, 0.43061754, 0.17547076, 0.06459358, 0.25788902,\n",
       "       0.1716166 , 0.0427105 , 0.07459972, 0.07049835, 0.04474551,\n",
       "       0.08631193, 0.08089486, 0.16972365, 0.05819478, 0.17121363,\n",
       "       0.14338103, 0.06175227, 0.0579489 , 0.04326879, 0.03722563,\n",
       "       0.04714194, 0.14020352, 0.06466021, 0.31910139, 0.12394816,\n",
       "       0.13938477, 0.13530578, 0.05678416, 0.06399382, 0.03292292,\n",
       "       0.14683628, 0.12439906, 0.03126113, 0.19149984, 0.17261533,\n",
       "       0.50449212, 0.31233719, 0.1304945 , 0.07157898, 0.13274242,\n",
       "       0.2227396 , 0.06570125, 0.22290333, 0.25571066, 0.38294131,\n",
       "       0.17080451, 0.19675479, 0.06660393])"
      ]
     },
     "execution_count": 32,
     "metadata": {},
     "output_type": "execute_result"
    }
   ],
   "source": [
    "logreg.predict_proba(X_test)[:,1]"
   ]
  },
  {
   "cell_type": "code",
   "execution_count": 33,
   "metadata": {},
   "outputs": [
    {
     "name": "stdout",
     "output_type": "stream",
     "text": [
      "Model accuracy score: 0.8455\n"
     ]
    }
   ],
   "source": [
    "from sklearn.metrics import accuracy_score\n",
    "\n",
    "print('Model accuracy score: {0:0.4f}'.format(accuracy_score(y_test,y_pred_test)))"
   ]
  },
  {
   "cell_type": "code",
   "execution_count": 34,
   "metadata": {},
   "outputs": [
    {
     "data": {
      "text/plain": [
       "array([0, 0, 0, ..., 0, 0, 0], dtype=int64)"
      ]
     },
     "execution_count": 34,
     "metadata": {},
     "output_type": "execute_result"
    }
   ],
   "source": [
    "y_pred_train = logreg.predict(X_train)\n",
    "y_pred_train"
   ]
  },
  {
   "cell_type": "code",
   "execution_count": 35,
   "metadata": {},
   "outputs": [
    {
     "name": "stdout",
     "output_type": "stream",
     "text": [
      "Training-set accuracy score: 0.8575\n"
     ]
    }
   ],
   "source": [
    "print('Training-set accuracy score: {0:0.4f}'.format(accuracy_score(y_train, y_pred_train)))"
   ]
  },
  {
   "cell_type": "code",
   "execution_count": 36,
   "metadata": {},
   "outputs": [
    {
     "name": "stdout",
     "output_type": "stream",
     "text": [
      "Training set score: 0.8575\n",
      "Test set score: 0.8455\n"
     ]
    }
   ],
   "source": [
    "# check for overfitting and underfitting\n",
    "print('Training set score: {:.4f}'.format(logreg.score(X_train,y_train)))\n",
    "print('Test set score: {:.4f}'.format(logreg.score(X_test,y_test)))"
   ]
  },
  {
   "cell_type": "code",
   "execution_count": 37,
   "metadata": {},
   "outputs": [
    {
     "name": "stdout",
     "output_type": "stream",
     "text": [
      "Confusion matrix\n",
      "\n",
      " [[710   0]\n",
      " [131   7]]\n",
      "\n",
      "True Positives(TP) =  710\n",
      "\n",
      "True Negatives(TN) =  7\n",
      "\n",
      "False Positives(FP) =  0\n",
      "\n",
      "False Negatives(FN) =  131\n"
     ]
    }
   ],
   "source": [
    "#Print the Confusion Marix and slice it into four pieces\n",
    "from sklearn.metrics import confusion_matrix\n",
    "cm = confusion_matrix(y_test, y_pred_test)\n",
    "print('Confusion matrix\\n\\n', cm)\n",
    "print('\\nTrue Positives(TP) = ',cm[0,0])\n",
    "print('\\nTrue Negatives(TN) = ',cm[1,1])\n",
    "print('\\nFalse Positives(FP) = ', cm[0,1])\n",
    "print('\\nFalse Negatives(FN) = ', cm[1,0])"
   ]
  },
  {
   "cell_type": "code",
   "execution_count": 38,
   "metadata": {},
   "outputs": [
    {
     "data": {
      "text/plain": [
       "<AxesSubplot:>"
      ]
     },
     "execution_count": 38,
     "metadata": {},
     "output_type": "execute_result"
    },
    {
     "data": {
      "image/png": "[encoded data removed]",
      "text/plain": [
       "<Figure size 432x288 with 2 Axes>"
      ]
     },
     "metadata": {
      "needs_background": "light"
     },
     "output_type": "display_data"
    }
   ],
   "source": [
    "#visualize confusion matrix with seaborn heatmap\n",
    "cm_matrix = pd.DataFrame(data=cm, columns=['Actual Positive : 1','Actual Negative:0'],\n",
    "                        index=['Predict Positive:1','Predict Negative:0'])\n",
    "sns.heatmap(cm_matrix)"
   ]
  },
  {
   "cell_type": "code",
   "execution_count": 39,
   "metadata": {},
   "outputs": [
    {
     "name": "stdout",
     "output_type": "stream",
     "text": [
      "              precision    recall  f1-score   support\n",
      "\n",
      "           0       0.84      1.00      0.92       710\n",
      "           1       1.00      0.05      0.10       138\n",
      "\n",
      "    accuracy                           0.85       848\n",
      "   macro avg       0.92      0.53      0.51       848\n",
      "weighted avg       0.87      0.85      0.78       848\n",
      "\n"
     ]
    }
   ],
   "source": [
    "#Classification Report\n",
    "from sklearn.metrics import classification_report\n",
    "print(classification_report(y_test,y_pred_test))"
   ]
  },
  {
   "cell_type": "code",
   "execution_count": 40,
   "metadata": {},
   "outputs": [],
   "source": [
    "TP = cm[0,0]\n",
    "TN = cm[1,1]\n",
    "FP = cm[0,1]\n",
    "FN = cm[1,0]"
   ]
  },
  {
   "cell_type": "code",
   "execution_count": 41,
   "metadata": {},
   "outputs": [
    {
     "name": "stdout",
     "output_type": "stream",
     "text": [
      "Classification accuracy : 0.8455\n"
     ]
    }
   ],
   "source": [
    "# print classification accuracy\n",
    "classification_accuracy = (TP + TN) / float(TP + TN + FP + FN)\n",
    "print('Classification accuracy : {0:0.4f}'.format(classification_accuracy))"
   ]
  },
  {
   "cell_type": "code",
   "execution_count": 42,
   "metadata": {},
   "outputs": [
    {
     "name": "stdout",
     "output_type": "stream",
     "text": [
      "Classification error: 0.1545\n"
     ]
    }
   ],
   "source": [
    "classification_error = (FP + FN) / float(TP + TN + FP + FN)\n",
    "print('Classification error: {0:0.4f}'.format(classification_error))"
   ]
  },
  {
   "cell_type": "code",
   "execution_count": 43,
   "metadata": {},
   "outputs": [
    {
     "name": "stdout",
     "output_type": "stream",
     "text": [
      "Precision : 1.0000\n"
     ]
    }
   ],
   "source": [
    "precision = TP / float(TP + FP)\n",
    "print('Precision : {0:0.4f}'.format(precision))"
   ]
  },
  {
   "cell_type": "code",
   "execution_count": 44,
   "metadata": {},
   "outputs": [
    {
     "name": "stdout",
     "output_type": "stream",
     "text": [
      "Recall or Sensitivity : 0.8442\n"
     ]
    }
   ],
   "source": [
    "recall = TP / float(TP + FN)\n",
    "print('Recall or Sensitivity : {0:0.4f}'.format(recall))"
   ]
  },
  {
   "cell_type": "code",
   "execution_count": 45,
   "metadata": {},
   "outputs": [
    {
     "name": "stdout",
     "output_type": "stream",
     "text": [
      "True Positive Rate : 0.8442\n"
     ]
    }
   ],
   "source": [
    "true_positive_rate = TP / float(TP + FN)\n",
    "print('True Positive Rate : {0:0.4f}'.format(true_positive_rate))"
   ]
  },
  {
   "cell_type": "code",
   "execution_count": 46,
   "metadata": {},
   "outputs": [
    {
     "name": "stdout",
     "output_type": "stream",
     "text": [
      "Specificity : 1.0000\n"
     ]
    }
   ],
   "source": [
    "#speicificity\n",
    "specificity = TN / (TN + FP)\n",
    "print('Specificity : {0:0.4f}'.format(specificity))"
   ]
  },
  {
   "cell_type": "code",
   "execution_count": 50,
   "metadata": {},
   "outputs": [],
   "source": [
    "y_pred1 = logreg.predict_proba(X_test)[:,1]\n",
    "y_pred1 = y_pred1.reshape(-1,1)"
   ]
  },
  {
   "cell_type": "code",
   "execution_count": 54,
   "metadata": {},
   "outputs": [
    {
     "name": "stderr",
     "output_type": "stream",
     "text": [
      "C:\\ProgramData\\Anaconda3\\lib\\site-packages\\sklearn\\metrics\\_ranking.py:572: FutureWarning: elementwise comparison failed; returning scalar instead, but in the future will perform elementwise comparison\n",
      "  y_true = (y_true == pos_label)\n"
     ]
    },
    {
     "ename": "TypeError",
     "evalue": "'bool' object is not subscriptable",
     "output_type": "error",
     "traceback": [
      "\u001b[1;31m---------------------------------------------------------------------------\u001b[0m",
      "\u001b[1;31mTypeError\u001b[0m                                 Traceback (most recent call last)",
      "\u001b[1;32m<ipython-input-54-1c5b9cf7140e>\u001b[0m in \u001b[0;36m<module>\u001b[1;34m\u001b[0m\n\u001b[0;32m      3\u001b[0m \u001b[1;32mfrom\u001b[0m \u001b[0msklearn\u001b[0m\u001b[1;33m.\u001b[0m\u001b[0mmetrics\u001b[0m \u001b[1;32mimport\u001b[0m \u001b[0mroc_curve\u001b[0m\u001b[1;33m\u001b[0m\u001b[1;33m\u001b[0m\u001b[0m\n\u001b[0;32m      4\u001b[0m \u001b[1;31m#fpr, tpr, thresholds = roc_curve(y_test, y_pred1, pos_label = 'Yes')\u001b[0m\u001b[1;33m\u001b[0m\u001b[1;33m\u001b[0m\u001b[1;33m\u001b[0m\u001b[0m\n\u001b[1;32m----> 5\u001b[1;33m \u001b[0mfpr\u001b[0m\u001b[1;33m,\u001b[0m \u001b[0mtpr\u001b[0m\u001b[1;33m,\u001b[0m \u001b[0mthresholds\u001b[0m \u001b[1;33m=\u001b[0m \u001b[0mroc_curve\u001b[0m\u001b[1;33m(\u001b[0m\u001b[0my_test\u001b[0m\u001b[1;33m,\u001b[0m \u001b[0mpred_prob1\u001b[0m\u001b[1;33m[\u001b[0m\u001b[1;33m:\u001b[0m\u001b[1;33m,\u001b[0m\u001b[1;36m1\u001b[0m\u001b[1;33m]\u001b[0m\u001b[1;33m,\u001b[0m \u001b[0mpos_label\u001b[0m \u001b[1;33m=\u001b[0m \u001b[1;34m'Yes'\u001b[0m\u001b[1;33m)\u001b[0m\u001b[1;33m\u001b[0m\u001b[1;33m\u001b[0m\u001b[0m\n\u001b[0m\u001b[0;32m      6\u001b[0m \u001b[0mplt\u001b[0m\u001b[1;33m.\u001b[0m\u001b[0mfigure\u001b[0m\u001b[1;33m(\u001b[0m\u001b[0mfigsize\u001b[0m\u001b[1;33m=\u001b[0m\u001b[1;33m(\u001b[0m\u001b[1;36m6\u001b[0m\u001b[1;33m,\u001b[0m\u001b[1;36m4\u001b[0m\u001b[1;33m)\u001b[0m\u001b[1;33m)\u001b[0m\u001b[1;33m\u001b[0m\u001b[1;33m\u001b[0m\u001b[0m\n\u001b[0;32m      7\u001b[0m \u001b[0mplt\u001b[0m\u001b[1;33m.\u001b[0m\u001b[0mplot\u001b[0m\u001b[1;33m(\u001b[0m\u001b[0mfpr\u001b[0m\u001b[1;33m,\u001b[0m\u001b[0mtpr\u001b[0m\u001b[1;33m,\u001b[0m\u001b[0mlinewidth\u001b[0m\u001b[1;33m=\u001b[0m\u001b[1;36m2\u001b[0m\u001b[1;33m)\u001b[0m\u001b[1;33m\u001b[0m\u001b[1;33m\u001b[0m\u001b[0m\n",
      "\u001b[1;32mC:\\ProgramData\\Anaconda3\\lib\\site-packages\\sklearn\\utils\\validation.py\u001b[0m in \u001b[0;36minner_f\u001b[1;34m(*args, **kwargs)\u001b[0m\n\u001b[0;32m     70\u001b[0m                           FutureWarning)\n\u001b[0;32m     71\u001b[0m         \u001b[0mkwargs\u001b[0m\u001b[1;33m.\u001b[0m\u001b[0mupdate\u001b[0m\u001b[1;33m(\u001b[0m\u001b[1;33m{\u001b[0m\u001b[0mk\u001b[0m\u001b[1;33m:\u001b[0m \u001b[0marg\u001b[0m \u001b[1;32mfor\u001b[0m \u001b[0mk\u001b[0m\u001b[1;33m,\u001b[0m \u001b[0marg\u001b[0m \u001b[1;32min\u001b[0m \u001b[0mzip\u001b[0m\u001b[1;33m(\u001b[0m\u001b[0msig\u001b[0m\u001b[1;33m.\u001b[0m\u001b[0mparameters\u001b[0m\u001b[1;33m,\u001b[0m \u001b[0margs\u001b[0m\u001b[1;33m)\u001b[0m\u001b[1;33m}\u001b[0m\u001b[1;33m)\u001b[0m\u001b[1;33m\u001b[0m\u001b[1;33m\u001b[0m\u001b[0m\n\u001b[1;32m---> 72\u001b[1;33m         \u001b[1;32mreturn\u001b[0m \u001b[0mf\u001b[0m\u001b[1;33m(\u001b[0m\u001b[1;33m**\u001b[0m\u001b[0mkwargs\u001b[0m\u001b[1;33m)\u001b[0m\u001b[1;33m\u001b[0m\u001b[1;33m\u001b[0m\u001b[0m\n\u001b[0m\u001b[0;32m     73\u001b[0m     \u001b[1;32mreturn\u001b[0m \u001b[0minner_f\u001b[0m\u001b[1;33m\u001b[0m\u001b[1;33m\u001b[0m\u001b[0m\n\u001b[0;32m     74\u001b[0m \u001b[1;33m\u001b[0m\u001b[0m\n",
      "\u001b[1;32mC:\\ProgramData\\Anaconda3\\lib\\site-packages\\sklearn\\metrics\\_ranking.py\u001b[0m in \u001b[0;36mroc_curve\u001b[1;34m(y_true, y_score, pos_label, sample_weight, drop_intermediate)\u001b[0m\n\u001b[0;32m    773\u001b[0m \u001b[1;33m\u001b[0m\u001b[0m\n\u001b[0;32m    774\u001b[0m     \"\"\"\n\u001b[1;32m--> 775\u001b[1;33m     fps, tps, thresholds = _binary_clf_curve(\n\u001b[0m\u001b[0;32m    776\u001b[0m         y_true, y_score, pos_label=pos_label, sample_weight=sample_weight)\n\u001b[0;32m    777\u001b[0m \u001b[1;33m\u001b[0m\u001b[0m\n",
      "\u001b[1;32mC:\\ProgramData\\Anaconda3\\lib\\site-packages\\sklearn\\metrics\\_ranking.py\u001b[0m in \u001b[0;36m_binary_clf_curve\u001b[1;34m(y_true, y_score, pos_label, sample_weight)\u001b[0m\n\u001b[0;32m    575\u001b[0m     \u001b[0mdesc_score_indices\u001b[0m \u001b[1;33m=\u001b[0m \u001b[0mnp\u001b[0m\u001b[1;33m.\u001b[0m\u001b[0margsort\u001b[0m\u001b[1;33m(\u001b[0m\u001b[0my_score\u001b[0m\u001b[1;33m,\u001b[0m \u001b[0mkind\u001b[0m\u001b[1;33m=\u001b[0m\u001b[1;34m\"mergesort\"\u001b[0m\u001b[1;33m)\u001b[0m\u001b[1;33m[\u001b[0m\u001b[1;33m:\u001b[0m\u001b[1;33m:\u001b[0m\u001b[1;33m-\u001b[0m\u001b[1;36m1\u001b[0m\u001b[1;33m]\u001b[0m\u001b[1;33m\u001b[0m\u001b[1;33m\u001b[0m\u001b[0m\n\u001b[0;32m    576\u001b[0m     \u001b[0my_score\u001b[0m \u001b[1;33m=\u001b[0m \u001b[0my_score\u001b[0m\u001b[1;33m[\u001b[0m\u001b[0mdesc_score_indices\u001b[0m\u001b[1;33m]\u001b[0m\u001b[1;33m\u001b[0m\u001b[1;33m\u001b[0m\u001b[0m\n\u001b[1;32m--> 577\u001b[1;33m     \u001b[0my_true\u001b[0m \u001b[1;33m=\u001b[0m \u001b[0my_true\u001b[0m\u001b[1;33m[\u001b[0m\u001b[0mdesc_score_indices\u001b[0m\u001b[1;33m]\u001b[0m\u001b[1;33m\u001b[0m\u001b[1;33m\u001b[0m\u001b[0m\n\u001b[0m\u001b[0;32m    578\u001b[0m     \u001b[1;32mif\u001b[0m \u001b[0msample_weight\u001b[0m \u001b[1;32mis\u001b[0m \u001b[1;32mnot\u001b[0m \u001b[1;32mNone\u001b[0m\u001b[1;33m:\u001b[0m\u001b[1;33m\u001b[0m\u001b[1;33m\u001b[0m\u001b[0m\n\u001b[0;32m    579\u001b[0m         \u001b[0mweight\u001b[0m \u001b[1;33m=\u001b[0m \u001b[0msample_weight\u001b[0m\u001b[1;33m[\u001b[0m\u001b[0mdesc_score_indices\u001b[0m\u001b[1;33m]\u001b[0m\u001b[1;33m\u001b[0m\u001b[1;33m\u001b[0m\u001b[0m\n",
      "\u001b[1;31mTypeError\u001b[0m: 'bool' object is not subscriptable"
     ]
    }
   ],
   "source": [
    "pred_prob1 = logreg.predict_proba(X_test)\n",
    "# plot ROC Curve\n",
    "from sklearn.metrics import roc_curve\n",
    "#fpr, tpr, thresholds = roc_curve(y_test, y_pred1, pos_label = 'Yes')\n",
    "fpr, tpr, thresholds = roc_curve(y_test, pred_prob1[:,1], pos_label = 'Yes')\n",
    "plt.figure(figsize=(6,4))\n",
    "plt.plot(fpr,tpr,linewidth=2)\n",
    "plt.plot([0,1],[0,1],'k--')\n",
    "plt.rcParams['font.size'] = 12\n",
    "plt.title('ROC curve for Predict Heart Disease classifier')\n",
    "plt.xlabel('False Positive Rate( 1 - specificity)')\n",
    "plt.ylabel('True Positive Rate(Sensitivity)')\n",
    "plt.show()"
   ]
  },
  {
   "cell_type": "code",
   "execution_count": null,
   "metadata": {},
   "outputs": [],
   "source": []
  }
 ],
 "metadata": {
  "kernelspec": {
   "display_name": "Python 3",
   "language": "python",
   "name": "python3"
  },
  "language_info": {
   "codemirror_mode": {
    "name": "ipython",
    "version": 3
   },
   "file_extension": ".py",
   "mimetype": "text/x-python",
   "name": "python",
   "nbconvert_exporter": "python",
   "pygments_lexer": "ipython3",
   "version": "3.8.5"
  }
 },
 "nbformat": 4,
 "nbformat_minor": 4
}
